{
 "cells": [
  {
   "cell_type": "markdown",
   "id": "2f323a90-1e4f-4a27-a495-38dbf8dad3e3",
   "metadata": {},
   "source": [
    "# Critical point of a pure substance "
   ]
  },
  {
   "cell_type": "code",
   "execution_count": 1,
   "id": "06f40029-24e4-4f91-b502-6b9265818ed8",
   "metadata": {},
   "outputs": [],
   "source": [
    "from feos.eos import EquationOfState, State\n",
    "from feos.pcsaft import PcSaftParameters\n",
    "\n",
    "parameters = PcSaftParameters.from_json(\n",
    "    substances=['methanol'], \n",
    "    pure_path='../parameters/pcsaft/gross2002.json'\n",
    ")\n",
    "eos = EquationOfState.pcsaft(parameters)"
   ]
  },
  {
   "cell_type": "code",
   "execution_count": 2,
   "id": "38b998ad-4fd0-4a1e-8fa3-991a13fc0860",
   "metadata": {},
   "outputs": [
    {
     "data": {
      "text/markdown": [
       "|temperature|density|\n",
       "|-|-|\n",
       "|531.52541 K|8.11475 kmol/m³|"
      ],
      "text/plain": [
       "T = 531.52541 K, ρ = 8.11475 kmol/m³"
      ]
     },
     "execution_count": 2,
     "metadata": {},
     "output_type": "execute_result"
    }
   ],
   "source": [
    "critical_point = State.critical_point(eos)\n",
    "critical_point"
   ]
  }
 ],
 "metadata": {
  "kernelspec": {
   "display_name": "Python 3 (ipykernel)",
   "language": "python",
   "name": "python3"
  },
  "language_info": {
   "codemirror_mode": {
    "name": "ipython",
    "version": 3
   },
   "file_extension": ".py",
   "mimetype": "text/x-python",
   "name": "python",
   "nbconvert_exporter": "python",
   "pygments_lexer": "ipython3",
   "version": "3.9.7"
  }
 },
 "nbformat": 4,
 "nbformat_minor": 5
}
