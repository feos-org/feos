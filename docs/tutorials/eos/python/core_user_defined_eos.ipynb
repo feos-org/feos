{
 "cells": [
  {
   "cell_type": "markdown",
   "metadata": {},
   "source": [
    "# Implementing an equation of state in python\n",
    "\n",
    "> In `FeOs`, you can implement your equation of state in python, register it to the Rust backend, and compute properties and phase equilbria as if you implemented it in Rust.\n",
    "> In this tutorial, we will implement the Peng-Robinson equation of state."
   ]
  },
  {
   "cell_type": "markdown",
   "metadata": {},
   "source": [
    "## Table of contents <a id=\"toc\"/>\n",
    "\n",
    "- [Implementation](#Implementation)\n",
    "- [Computing properties](#Computing-properties)\n",
    "- [Critical point](#Critical-point)\n",
    "- [Phase equilibria and phase diagrams](#Phase-equilibria-and-phase-diagrams)\n",
    "- [Mixtures](#Mixtures)\n",
    "- [Comparison to Rust implementation](#Comparison-to-Rust-implementation)"
   ]
  },
  {
   "cell_type": "code",
   "execution_count": 1,
   "metadata": {},
   "outputs": [],
   "source": [
    "from feos.eos import *\n",
    "import si_units as si\n",
    "import numpy as np\n",
    "\n",
    "optional = True\n",
    "\n",
    "import warnings\n",
    "warnings.filterwarnings('ignore')\n",
    "\n",
    "if optional:\n",
    "    import matplotlib.pyplot as plt\n",
    "    import pandas as pd\n",
    "    import seaborn as sns\n",
    "\n",
    "    sns.set_style(\"ticks\")\n",
    "    sns.set_palette(\"Dark2\")\n",
    "    sns.set_context(\"talk\")"
   ]
  },
  {
   "cell_type": "markdown",
   "metadata": {},
   "source": [
    "## Implementation <a id=\"Implementation\"/>\n",
    "[↑ Back to top](#toc)\n",
    "\n",
    "To implement an equation of state in python, we have to define a `class` which has to have the following methods:\n",
    "\n",
    "```python\n",
    "class MyEquationOfState:\n",
    "    def helmholtz_energy(self, state: StateHD) -> D\n",
    "    \n",
    "    def components(self) -> int\n",
    "    \n",
    "    def subset(self, indices: List[int]) -> Self\n",
    "    \n",
    "    def molar_weight(self) -> SIArray1\n",
    "    \n",
    "    def max_density(self, moles: SIArray1) -> f64\n",
    "```    \n",
    "\n",
    "- `components(self) -> int`: Returns the number of components (usually inferred from the shape of the input parameters).\n",
    "- `molar_weight(self) -> SIArray1`: Returns an `SIArray1` with size equal to the number of components containing the molar mass of each component.\n",
    "- `max_density(self, moles: np.ndarray[float]) -> float`: Returns the maximum allowed number density in units of `molecules/Angstrom³`.\n",
    "- `subset(self, indices: List[int]) -> self`: Returns a new equation of state with parameters defined in `indices`.\n",
    "- `helmholtz_energy(self, state: StateHD) -> Dual`: Returns the helmholtz energy as (hyper)-dual number given a `StateHD`."
   ]
  },
  {
   "cell_type": "code",
   "execution_count": 2,
   "metadata": {},
   "outputs": [],
   "source": [
    "SQRT2 = np.sqrt(2)\n",
    "\n",
    "class PyPengRobinson: \n",
    "    def __init__(\n",
    "        self, critical_temperature, critical_pressure, \n",
    "        acentric_factor, molar_weight, delta_ij=None\n",
    "    ):\n",
    "        \"\"\"Peng-Robinson Equation of State\n",
    "        \n",
    "        Parameters\n",
    "        ----------\n",
    "        critical_temperature : SIArray1\n",
    "            critical temperature of each component.\n",
    "        critical_pressure : SIArray1\n",
    "            critical pressure of each component.\n",
    "        acentric_factor : np.array[float] \n",
    "            acentric factor of each component (dimensionless).\n",
    "        molar_weight: SIArray1\n",
    "            molar weight of each component.\n",
    "        delta_ij : np.array[[float]], optional\n",
    "            binary parameters. Shape=[n, n], n = number of components.\n",
    "            defaults to zero for all binary interactions.\n",
    "            \n",
    "        Raises\n",
    "        ------\n",
    "        ValueError: if the input values have incompatible sizes.\n",
    "        \"\"\"\n",
    "        self.n = len(critical_temperature)\n",
    "        if len(set((\n",
    "            len(critical_temperature), \n",
    "            len(critical_pressure), \n",
    "            len(acentric_factor)\n",
    "        ))) != 1:\n",
    "            raise ValueError(\"Input parameters must all have the same lenght.\")\n",
    "        \n",
    "        self.tc = critical_temperature / si.KELVIN\n",
    "        self.pc = critical_pressure / si.PASCAL\n",
    "        self.omega = acentric_factor\n",
    "        self.mw = molar_weight / si.GRAM * si.MOL\n",
    "\n",
    "        self.a_r = (0.45724 * critical_temperature**2 * si.RGAS \n",
    "                    / critical_pressure / si.ANGSTROM**3 / si.NAV / si.KELVIN)\n",
    "        self.b = (0.07780 * critical_temperature * si.RGAS \n",
    "                  / critical_pressure / si.ANGSTROM**3 / si.NAV)\n",
    "        self.kappa = (0.37464 \n",
    "                      + (1.54226 - 0.26992 * acentric_factor) * acentric_factor)\n",
    "        self.delta_ij = (np.zeros((self.n, self.n)) \n",
    "                         if delta_ij is None else delta_ij)\n",
    "        \n",
    "    def helmholtz_energy(self, state):\n",
    "        \"\"\"Return helmholtz energy.\n",
    "        \n",
    "        Parameters\n",
    "        ----------\n",
    "        state : StateHD\n",
    "            The thermodynamic state.\n",
    "            \n",
    "        Returns\n",
    "        -------\n",
    "        helmholtz_energy: float | any dual number\n",
    "            The return type depends on the input types.\n",
    "        \"\"\"      \n",
    "        n = np.sum(state.moles)\n",
    "        x = state.molefracs\n",
    "        tr = 1.0 / self.tc * state.temperature\n",
    "        ak = ((1.0 - np.sqrt(tr)) * self.kappa + 1.0)**2 * self.a_r\n",
    "        ak_mix = 0.0\n",
    "        if self.n > 1:\n",
    "            for i in range(self.n):\n",
    "                for j in range(self.n):\n",
    "                    ak_mix += (np.sqrt(ak[i] * ak[j]) \n",
    "                               * (x[i] * x[j] * (1.0 - self.delta_ij[i, j])))\n",
    "        else:\n",
    "            ak_mix = ak[0]\n",
    "        b = np.sum(x * self.b)\n",
    "        v = state.volume\n",
    "        rho = np.sum(state.partial_density)\n",
    "        a = n * (-np.log(1.0 - b * rho) \n",
    "                 - ak_mix / (b * SQRT2 * 2.0 * state.temperature) \n",
    "                 * np.log((1.0 + (1.0 + SQRT2) * b * rho) / (1.0 + (1.0 - SQRT2) * b * rho)))\n",
    "        return a\n",
    "    \n",
    "    def components(self) -> int: \n",
    "        \"\"\"Number of components.\"\"\"\n",
    "        return self.n\n",
    "    \n",
    "    def subset(self, i: list[int]):\n",
    "        \"\"\"Return new equation of state containing a subset of all components.\"\"\"\n",
    "        if self.n > 1:\n",
    "            tc = self.tc[i] \n",
    "            pc = self.pc[i]\n",
    "            mw = self.mw[i]\n",
    "            omega = self.omega[i]\n",
    "            return PyPengRobinson(\n",
    "                si.array(tc * si.KELVIN), \n",
    "                si.array(pc * si.PASCAL), \n",
    "                omega, \n",
    "                si.array(mw * si.GRAM / si.MOL)\n",
    "            )\n",
    "        else:\n",
    "            return self\n",
    "        \n",
    "    def molar_weight(self) -> si.SIObject:\n",
    "        return si.array(self.mw * si.GRAM / si.MOL)\n",
    "    \n",
    "    def max_density(self, moles: list[float]) -> float:\n",
    "        b = np.sum(moles * self.b) / np.sum(moles)\n",
    "        return 0.9 / b "
   ]
  },
  {
   "cell_type": "markdown",
   "metadata": {},
   "source": [
    "## Computing properties <a id=\"Computing-properties\"/>\n",
    "[↑ Back to top](#toc)\n",
    "\n",
    "Let's compute some properties. First, we have to instanciate the class and register it to Rust.\n",
    "This is done using the `EquationOfState.python` method."
   ]
  },
  {
   "cell_type": "code",
   "execution_count": 3,
   "metadata": {},
   "outputs": [],
   "source": [
    "tc = si.array(369.96 * si.KELVIN)\n",
    "pc = si.array(4250000.0 * si.PASCAL)\n",
    "omega = np.array([0.153])\n",
    "molar_weight = si.array(44.0962 * si.GRAM / si.MOL)\n",
    "\n",
    "# create an instance of our python class and hand it over to rust\n",
    "pr = PyPengRobinson(tc, pc, omega, molar_weight)\n",
    "eos = EquationOfState.python_residual(pr)"
   ]
  },
  {
   "cell_type": "code",
   "execution_count": null,
   "metadata": {},
   "outputs": [],
   "source": []
  },
  {
   "cell_type": "markdown",
   "metadata": {},
   "source": [
    "### Thermodynamic state: the `State` object\n",
    "\n",
    "Before we can compute a property, we create a `State` object. This can be done in several ways depending on what control variables we need.\n",
    "If no total amount of substance is defined, it is set to $n = \\frac{1}{N_{AV}}$.\n",
    "For possible input combinations, you can inspect the signature of the constructor using `State?`."
   ]
  },
  {
   "cell_type": "code",
   "execution_count": null,
   "metadata": {},
   "outputs": [
    {
     "name": "stdout",
     "output_type": "stream",
     "text": [
      "\u001b[0;31mInit signature:\u001b[0m \u001b[0mState\u001b[0m\u001b[0;34m(\u001b[0m\u001b[0mself\u001b[0m\u001b[0;34m,\u001b[0m \u001b[0;34m/\u001b[0m\u001b[0;34m,\u001b[0m \u001b[0;34m*\u001b[0m\u001b[0margs\u001b[0m\u001b[0;34m,\u001b[0m \u001b[0;34m**\u001b[0m\u001b[0mkwargs\u001b[0m\u001b[0;34m)\u001b[0m\u001b[0;34m\u001b[0m\u001b[0;34m\u001b[0m\u001b[0m\n",
      "\u001b[0;31mDocstring:\u001b[0m     \n",
      "A thermodynamic state at given conditions.\n",
      "\n",
      "Parameters\n",
      "----------\n",
      "eos : Eos\n",
      "    The equation of state to use.\n",
      "temperature : SINumber, optional\n",
      "    Temperature.\n",
      "volume : SINumber, optional\n",
      "    Volume.\n",
      "density : SINumber, optional\n",
      "    Molar density.\n",
      "partial_density : SIArray1, optional\n",
      "    Partial molar densities.\n",
      "total_moles : SINumber, optional\n",
      "    Total amount of substance (of a mixture).\n",
      "moles : SIArray1, optional\n",
      "    Amount of substance for each component.\n",
      "molefracs : numpy.ndarray[float]\n",
      "    Molar fraction of each component.\n",
      "pressure : SINumber, optional\n",
      "    Pressure.\n",
      "molar_enthalpy : SINumber, optional\n",
      "    Molar enthalpy.\n",
      "molar_entropy : SINumber, optional\n",
      "    Molar entropy.\n",
      "molar_internal_energy: SINumber, optional\n",
      "    Molar internal energy\n",
      "density_initialization : {'vapor', 'liquid', SINumber, None}, optional\n",
      "    Method used to initialize density for density iteration.\n",
      "    'vapor' and 'liquid' are inferred from the maximum density of the equation of state.\n",
      "    If no density or keyword is provided, the vapor and liquid phase is tested and, if\n",
      "    different, the result with the lower free energy is returned.\n",
      "initial_temperature : SINumber, optional\n",
      "    Initial temperature for temperature iteration. Can improve convergence\n",
      "    when the state is specified with pressure and molar entropy or enthalpy.\n",
      "\n",
      "Returns\n",
      "-------\n",
      "State : state at given conditions\n",
      "\n",
      "Raises\n",
      "------\n",
      "Error\n",
      "    When the state cannot be created using the combination of input.\n",
      "\u001b[0;31mType:\u001b[0m           type\n",
      "\u001b[0;31mSubclasses:\u001b[0m     \n"
     ]
    }
   ],
   "source": [
    "State?"
   ]
  },
  {
   "cell_type": "markdown",
   "metadata": {},
   "source": [
    "If we use input variables other than $\\mathbf{N}, V, T$ (the natural variables of the Helmholtz energy), creating a state is an iterative procedure.\n",
    "For example, we can create a state for a give $T, p$, which will result in a iteration of the volume (density)."
   ]
  },
  {
   "cell_type": "code",
   "execution_count": 5,
   "metadata": {},
   "outputs": [
    {
     "data": {
      "text/latex": [
       "$1.6605\\times10^{-24}\\,\\mathrm{ mol}$"
      ],
      "text/plain": [
       "1.6605390671738466e-24  mol"
      ]
     },
     "execution_count": 5,
     "metadata": {},
     "output_type": "execute_result"
    }
   ],
   "source": [
    "# If no amount of substance is given, it is set to 1/NAV.\n",
    "s = State(eos, temperature=300*si.KELVIN, pressure=1*si.BAR)\n",
    "s.total_moles"
   ]
  },
  {
   "cell_type": "code",
   "execution_count": 6,
   "metadata": {},
   "outputs": [
    {
     "data": {
      "text/latex": [
       "$1\\,\\mathrm{ mol}$"
      ],
      "text/plain": [
       "1  mol"
      ]
     },
     "execution_count": 6,
     "metadata": {},
     "output_type": "execute_result"
    }
   ],
   "source": [
    "s_pt = State(\n",
    "    eos, \n",
    "    temperature=300*si.KELVIN, \n",
    "    pressure=1*si.BAR, \n",
    "    total_moles=1*si.MOL\n",
    ")\n",
    "s_pt.total_moles"
   ]
  },
  {
   "cell_type": "markdown",
   "metadata": {},
   "source": [
    "## Critical point <a id=\"Critical-point\"/>\n",
    "[↑ Back to top](#toc)\n",
    "\n",
    "To generate a state at critical conditions, we can use the `critical_point` constructor."
   ]
  },
  {
   "cell_type": "code",
   "execution_count": 7,
   "metadata": {},
   "outputs": [
    {
     "name": "stdout",
     "output_type": "stream",
     "text": [
      "Critical point\n",
      "temperature:  369.95061742346076 K\n",
      "density    :  198.1862458057177 kg/m³\n",
      "pressure   :  4.249677749116944 MPa\n"
     ]
    }
   ],
   "source": [
    "s_cp = State.critical_point(eos)\n",
    "print(\"Critical point\")\n",
    "print(\"temperature: \", s_cp.temperature)\n",
    "print(\"density    : \", s_cp.mass_density())\n",
    "print(\"pressure   : \", s_cp.pressure())"
   ]
  },
  {
   "cell_type": "markdown",
   "metadata": {},
   "source": [
    "## Phase equilibria and phase diagrams<a id=\"Phase-equilibria-and-phase-diagrams\"/>\n",
    "[↑ Back to top](#toc)\n",
    "\n",
    "We can also create an object, `PhaseEquilibrium`, that contains states that are in equilibrium."
   ]
  },
  {
   "cell_type": "code",
   "execution_count": 8,
   "metadata": {},
   "outputs": [
    {
     "data": {
      "text/markdown": [
       "||temperature|density|\n",
       "|-|-|-|\n",
       "|phase 1|300.00000 K|488.99014  mol/m³|\n",
       "|phase 2|300.00000 K|11.53399 kmol/m³|\n"
      ],
      "text/plain": [
       "phase 0: T = 300.00000 K, ρ = 488.99014  mol/m³\n",
       "phase 1: T = 300.00000 K, ρ = 11.53399 kmol/m³"
      ]
     },
     "execution_count": 8,
     "metadata": {},
     "output_type": "execute_result"
    }
   ],
   "source": [
    "vle = PhaseEquilibrium.pure(eos, 300.0*si.KELVIN)\n",
    "vle"
   ]
  },
  {
   "cell_type": "markdown",
   "metadata": {},
   "source": [
    "Each phase is a `State` object. We can simply access these states and compute properties, just like before."
   ]
  },
  {
   "cell_type": "code",
   "execution_count": 9,
   "metadata": {},
   "outputs": [
    {
     "data": {
      "text/markdown": [
       "|temperature|density|\n",
       "|-|-|\n",
       "|300.00000 K|11.53399 kmol/m³|"
      ],
      "text/plain": [
       "T = 300.00000 K, ρ = 11.53399 kmol/m³"
      ]
     },
     "execution_count": 9,
     "metadata": {},
     "output_type": "execute_result"
    }
   ],
   "source": [
    "vle.liquid # the high density phase `State`"
   ]
  },
  {
   "cell_type": "code",
   "execution_count": 10,
   "metadata": {},
   "outputs": [
    {
     "data": {
      "text/markdown": [
       "|temperature|density|\n",
       "|-|-|\n",
       "|300.00000 K|488.99014  mol/m³|"
      ],
      "text/plain": [
       "T = 300.00000 K, ρ = 488.99014  mol/m³"
      ]
     },
     "execution_count": 10,
     "metadata": {},
     "output_type": "execute_result"
    }
   ],
   "source": [
    "vle.vapor # the low density phase `State`"
   ]
  },
  {
   "cell_type": "code",
   "execution_count": 11,
   "metadata": {},
   "outputs": [
    {
     "name": "stdout",
     "output_type": "stream",
     "text": [
      "Heat of vaporization:  14.782343503305125 kJ/mol\n",
      "for T = 300 K\n",
      "and p = 9.95 bar\n"
     ]
    }
   ],
   "source": [
    "# we can now easily compute any property:\n",
    "print(\"Heat of vaporization: \", vle.vapor.molar_enthalpy(Contributions.Residual) - vle.liquid.molar_enthalpy(Contributions.Residual))\n",
    "print(\"for T = {}\".format(vle.liquid.temperature))\n",
    "print(\"and p = {:.2f} bar\".format(vle.liquid.pressure() / si.BAR))"
   ]
  },
  {
   "cell_type": "markdown",
   "metadata": {},
   "source": [
    "We can also easily compute **vapor pressures** and **boiling temperatures**:"
   ]
  },
  {
   "cell_type": "code",
   "execution_count": 12,
   "metadata": {},
   "outputs": [
    {
     "name": "stdout",
     "output_type": "stream",
     "text": [
      "vapor pressure      (T = 300 K): 994.776163561008 kPa\n",
      "boiling temperature (p = 3 bar): 247.84035574956764 K\n"
     ]
    }
   ],
   "source": [
    "# This also works for mixtures, in which case the pure component properties are computed.\n",
    "# Hence, the result is a list - that is why we use an index [0] here.\n",
    "print(\"vapor pressure      (T = 300 K):\", PhaseEquilibrium.vapor_pressure(eos, 300*si.KELVIN)[0])\n",
    "print(\"boiling temperature (p = 3 bar):\", PhaseEquilibrium.boiling_temperature(eos, 2*si.BAR)[0])"
   ]
  },
  {
   "cell_type": "markdown",
   "metadata": {},
   "source": [
    "### Phase Diagram\n",
    "\n",
    "We could repeatedly compute `PhaseEquilibrium` states for different temperatures / pressures to generate a phase diagram.\n",
    "Because this a common task, there is a object for that as well.\n",
    "\n",
    "The `PhaseDiagram` object creates multiple `PhaseEquilibrium` objects (`npoints` of those) between a given lower temperature and the critical point."
   ]
  },
  {
   "cell_type": "code",
   "execution_count": 13,
   "metadata": {},
   "outputs": [],
   "source": [
    "dia = PhaseDiagram.pure(eos, 230.0 * si.KELVIN, 500)"
   ]
  },
  {
   "cell_type": "markdown",
   "metadata": {},
   "source": [
    "We can access each `PhaseEquilbrium` and then conveniently comput any property we like:"
   ]
  },
  {
   "cell_type": "code",
   "execution_count": 14,
   "metadata": {},
   "outputs": [],
   "source": [
    "enthalpy_of_vaporization = [\n",
    "    (vle.vapor.molar_enthalpy(Contributions.Residual) - vle.liquid.molar_enthalpy(Contributions.Residual)) / (si.KILO * si.JOULE) * si.MOL \n",
    "    for vle in dia.states\n",
    "]"
   ]
  },
  {
   "cell_type": "code",
   "execution_count": 15,
   "metadata": {},
   "outputs": [
    {
     "data": {
      "image/png": "[encoded data removed]",
      "text/plain": [
       "<Figure size 504x288 with 1 Axes>"
      ]
     },
     "metadata": {
      "needs_background": "light"
     },
     "output_type": "display_data"
    }
   ],
   "source": [
    "fig, ax = plt.subplots(figsize=(7, 4))\n",
    "sns.lineplot(x=dia.vapor.temperature / si.KELVIN, y=enthalpy_of_vaporization, ax=ax);\n",
    "ax.set_ylabel(r\"$\\Delta^{LV}h$ / kJ / mol\")\n",
    "ax.set_xlabel(r\"$T$ / K\");"
   ]
  },
  {
   "cell_type": "markdown",
   "metadata": {},
   "source": [
    "A more convenient way is to create a dictionary. The dictionary can be used to build pandas `DataFrame` objects.\n",
    "This is a bit less flexible, because the units of the properties are rigid. You can inspect the method signature to check what units are used."
   ]
  },
  {
   "cell_type": "code",
   "execution_count": 16,
   "metadata": {},
   "outputs": [
    {
     "name": "stdout",
     "output_type": "stream",
     "text": [
      "\u001b[0;31mSignature:\u001b[0m \u001b[0mdia\u001b[0m\u001b[0;34m.\u001b[0m\u001b[0mto_dict\u001b[0m\u001b[0;34m(\u001b[0m\u001b[0mcontributions\u001b[0m\u001b[0;34m)\u001b[0m\u001b[0;34m\u001b[0m\u001b[0;34m\u001b[0m\u001b[0m\n",
      "\u001b[0;31mDocstring:\u001b[0m\n",
      "Returns the phase diagram as dictionary.\n",
      "\n",
      "Parameters\n",
      "----------\n",
      "contributions : Contributions, optional\n",
      "    The contributions to consider when calculating properties.\n",
      "    Defaults to Contributions.Total.\n",
      "\n",
      "Returns\n",
      "-------\n",
      "Dict[str, List[float]]\n",
      "    Keys: property names. Values: property for each state.\n",
      "\n",
      "Notes\n",
      "-----\n",
      "- temperature : K\n",
      "- pressure : Pa\n",
      "- densities : mol / m³\n",
      "- mass densities : kg / m³\n",
      "- molar enthalpies : kJ / mol\n",
      "- molar entropies : kJ / mol / K\n",
      "- specific enthalpies : kJ / kg\n",
      "- specific entropies : kJ / kg / K\n",
      "- xi: liquid molefraction of component i\n",
      "- yi: vapor molefraction of component i\n",
      "- component index `i` matches to order of components in parameters.\n",
      "\u001b[0;31mType:\u001b[0m      builtin_function_or_method\n"
     ]
    }
   ],
   "source": [
    "dia.to_dict?"
   ]
  },
  {
   "cell_type": "code",
   "execution_count": 17,
   "metadata": {},
   "outputs": [
    {
     "data": {
      "text/html": [
       "<div>\n",
       "<style scoped>\n",
       "    .dataframe tbody tr th:only-of-type {\n",
       "        vertical-align: middle;\n",
       "    }\n",
       "\n",
       "    .dataframe tbody tr th {\n",
       "        vertical-align: top;\n",
       "    }\n",
       "\n",
       "    .dataframe thead th {\n",
       "        text-align: right;\n",
       "    }\n",
       "</style>\n",
       "<table border=\"1\" class=\"dataframe\">\n",
       "  <thead>\n",
       "    <tr style=\"text-align: right;\">\n",
       "      <th></th>\n",
       "      <th>specific enthalpy liquid</th>\n",
       "      <th>pressure</th>\n",
       "      <th>molar enthalpy liquid</th>\n",
       "      <th>density liquid</th>\n",
       "      <th>temperature</th>\n",
       "      <th>molar entropy liquid</th>\n",
       "      <th>mass density liquid</th>\n",
       "      <th>specific enthalpy vapor</th>\n",
       "      <th>density vapor</th>\n",
       "      <th>molar enthalpy vapor</th>\n",
       "      <th>specific entropy vapor</th>\n",
       "      <th>molar entropy vapor</th>\n",
       "      <th>mass density vapor</th>\n",
       "      <th>specific entropy liquid</th>\n",
       "    </tr>\n",
       "  </thead>\n",
       "  <tbody>\n",
       "    <tr>\n",
       "      <th>0</th>\n",
       "      <td>-429.097170</td>\n",
       "      <td>96625.278174</td>\n",
       "      <td>-18.921555</td>\n",
       "      <td>14125.988947</td>\n",
       "      <td>230.000000</td>\n",
       "      <td>-0.035166</td>\n",
       "      <td>622.902434</td>\n",
       "      <td>-3.570554</td>\n",
       "      <td>52.208491</td>\n",
       "      <td>-0.157448</td>\n",
       "      <td>-0.003363</td>\n",
       "      <td>-0.000148</td>\n",
       "      <td>2.302196</td>\n",
       "      <td>-0.797483</td>\n",
       "    </tr>\n",
       "    <tr>\n",
       "      <th>1</th>\n",
       "      <td>-428.878435</td>\n",
       "      <td>97830.133956</td>\n",
       "      <td>-18.911909</td>\n",
       "      <td>14118.006852</td>\n",
       "      <td>230.280462</td>\n",
       "      <td>-0.035119</td>\n",
       "      <td>622.550454</td>\n",
       "      <td>-3.610123</td>\n",
       "      <td>52.811929</td>\n",
       "      <td>-0.159193</td>\n",
       "      <td>-0.003399</td>\n",
       "      <td>-0.000150</td>\n",
       "      <td>2.328805</td>\n",
       "      <td>-0.796418</td>\n",
       "    </tr>\n",
       "    <tr>\n",
       "      <th>2</th>\n",
       "      <td>-428.659501</td>\n",
       "      <td>99046.729400</td>\n",
       "      <td>-18.902255</td>\n",
       "      <td>14110.010220</td>\n",
       "      <td>230.560924</td>\n",
       "      <td>-0.035072</td>\n",
       "      <td>622.197833</td>\n",
       "      <td>-3.650021</td>\n",
       "      <td>53.420767</td>\n",
       "      <td>-0.160952</td>\n",
       "      <td>-0.003436</td>\n",
       "      <td>-0.000152</td>\n",
       "      <td>2.355653</td>\n",
       "      <td>-0.795354</td>\n",
       "    </tr>\n",
       "    <tr>\n",
       "      <th>3</th>\n",
       "      <td>-428.440366</td>\n",
       "      <td>100275.143120</td>\n",
       "      <td>-18.892592</td>\n",
       "      <td>14101.999011</td>\n",
       "      <td>230.841386</td>\n",
       "      <td>-0.035025</td>\n",
       "      <td>621.844569</td>\n",
       "      <td>-3.690251</td>\n",
       "      <td>54.035036</td>\n",
       "      <td>-0.162726</td>\n",
       "      <td>-0.003473</td>\n",
       "      <td>-0.000153</td>\n",
       "      <td>2.382740</td>\n",
       "      <td>-0.794290</td>\n",
       "    </tr>\n",
       "    <tr>\n",
       "      <th>4</th>\n",
       "      <td>-428.221030</td>\n",
       "      <td>101515.453964</td>\n",
       "      <td>-18.882920</td>\n",
       "      <td>14093.973182</td>\n",
       "      <td>231.121849</td>\n",
       "      <td>-0.034978</td>\n",
       "      <td>621.490660</td>\n",
       "      <td>-3.730814</td>\n",
       "      <td>54.654773</td>\n",
       "      <td>-0.164515</td>\n",
       "      <td>-0.003510</td>\n",
       "      <td>-0.000155</td>\n",
       "      <td>2.410068</td>\n",
       "      <td>-0.793228</td>\n",
       "    </tr>\n",
       "  </tbody>\n",
       "</table>\n",
       "</div>"
      ],
      "text/plain": [
       "   specific enthalpy liquid       pressure  molar enthalpy liquid  \\\n",
       "0               -429.097170   96625.278174             -18.921555   \n",
       "1               -428.878435   97830.133956             -18.911909   \n",
       "2               -428.659501   99046.729400             -18.902255   \n",
       "3               -428.440366  100275.143120             -18.892592   \n",
       "4               -428.221030  101515.453964             -18.882920   \n",
       "\n",
       "   density liquid  temperature  molar entropy liquid  mass density liquid  \\\n",
       "0    14125.988947   230.000000             -0.035166           622.902434   \n",
       "1    14118.006852   230.280462             -0.035119           622.550454   \n",
       "2    14110.010220   230.560924             -0.035072           622.197833   \n",
       "3    14101.999011   230.841386             -0.035025           621.844569   \n",
       "4    14093.973182   231.121849             -0.034978           621.490660   \n",
       "\n",
       "   specific enthalpy vapor  density vapor  molar enthalpy vapor  \\\n",
       "0                -3.570554      52.208491             -0.157448   \n",
       "1                -3.610123      52.811929             -0.159193   \n",
       "2                -3.650021      53.420767             -0.160952   \n",
       "3                -3.690251      54.035036             -0.162726   \n",
       "4                -3.730814      54.654773             -0.164515   \n",
       "\n",
       "   specific entropy vapor  molar entropy vapor  mass density vapor  \\\n",
       "0               -0.003363            -0.000148            2.302196   \n",
       "1               -0.003399            -0.000150            2.328805   \n",
       "2               -0.003436            -0.000152            2.355653   \n",
       "3               -0.003473            -0.000153            2.382740   \n",
       "4               -0.003510            -0.000155            2.410068   \n",
       "\n",
       "   specific entropy liquid  \n",
       "0                -0.797483  \n",
       "1                -0.796418  \n",
       "2                -0.795354  \n",
       "3                -0.794290  \n",
       "4                -0.793228  "
      ]
     },
     "execution_count": 17,
     "metadata": {},
     "output_type": "execute_result"
    }
   ],
   "source": [
    "data_dia = pd.DataFrame(dia.to_dict(Contributions.Residual))\n",
    "data_dia.head()"
   ]
  },
  {
   "cell_type": "markdown",
   "metadata": {},
   "source": [
    "Once we have a dataframe, we can store our results or create a nicely looking plot:"
   ]
  },
  {
   "cell_type": "code",
   "execution_count": 18,
   "metadata": {},
   "outputs": [],
   "source": [
    "def phase_plot(data, x, y):\n",
    "    fig, ax = plt.subplots(figsize=(12, 6))\n",
    "    if x != \"pressure\" and x != \"temperature\":\n",
    "        xl = f\"{x} liquid\"\n",
    "        xv = f\"{x} vapor\"\n",
    "    else:\n",
    "        xl = x\n",
    "        xv = x\n",
    "    if y != \"pressure\" and y != \"temperature\":\n",
    "        yl = f\"{y} liquid\"\n",
    "        yv = f\"{y} vapor\"\n",
    "    else:\n",
    "        yv = y\n",
    "        yl = y\n",
    "    sns.lineplot(data=data, x=xv, y=yv, ax=ax, label=\"vapor\")\n",
    "    sns.lineplot(data=data, x=xl, y=yl, ax=ax, label=\"liquid\")\n",
    "    ax.set_xlabel(x)\n",
    "    ax.set_ylabel(y)\n",
    "    ax.legend(frameon=False)\n",
    "    sns.despine();"
   ]
  },
  {
   "cell_type": "code",
   "execution_count": 19,
   "metadata": {},
   "outputs": [
    {
     "data": {
      "image/png": "[encoded data removed]",
      "text/plain": [
       "<Figure size 864x432 with 1 Axes>"
      ]
     },
     "metadata": {
      "needs_background": "light"
     },
     "output_type": "display_data"
    }
   ],
   "source": [
    "phase_plot(data_dia, \"density\", \"temperature\")"
   ]
  },
  {
   "cell_type": "code",
   "execution_count": 20,
   "metadata": {},
   "outputs": [
    {
     "data": {
      "image/png": "[encoded data removed]",
      "text/plain": [
       "<Figure size 864x432 with 1 Axes>"
      ]
     },
     "metadata": {
      "needs_background": "light"
     },
     "output_type": "display_data"
    }
   ],
   "source": [
    "phase_plot(data_dia, \"molar entropy\", \"temperature\")"
   ]
  },
  {
   "cell_type": "markdown",
   "metadata": {},
   "source": [
    "## Mixtures <a id=\"Mixtures\"/>\n",
    "[↑ Back to top](#toc)\n",
    "\n",
    "Fox mixtures, we have to add information about the composition, either as molar fraction, amount of substance per component, or as partial densities."
   ]
  },
  {
   "cell_type": "code",
   "execution_count": 21,
   "metadata": {},
   "outputs": [],
   "source": [
    "# propane, butane mixture\n",
    "tc = np.array([369.96, 425.2]) * si.KELVIN\n",
    "pc = np.array([4250000.0, 3800000.0]) * si.PASCAL\n",
    "omega = np.array([0.153, 0.199])\n",
    "molar_weight = np.array([44.0962, 58.123]) * si.GRAM / si.MOL\n",
    "\n",
    "pr = PyPengRobinson(tc, pc, omega, molar_weight)\n",
    "eos = EquationOfState.python_residual(pr)"
   ]
  },
  {
   "cell_type": "code",
   "execution_count": 22,
   "metadata": {},
   "outputs": [
    {
     "data": {
      "text/markdown": [
       "|temperature|density|molefracs\n",
       "|-|-|-|\n",
       "|300.00000 K|40.96869  mol/m³|[0.50000, 0.50000]|"
      ],
      "text/plain": [
       "T = 300.00000 K, ρ = 40.96869  mol/m³, x = [0.50000, 0.50000]"
      ]
     },
     "execution_count": 22,
     "metadata": {},
     "output_type": "execute_result"
    }
   ],
   "source": [
    "s = State(\n",
    "    eos, \n",
    "    temperature=300*si.KELVIN, \n",
    "    pressure=1*si.BAR, \n",
    "    molefracs=np.array([0.5, 0.5]), \n",
    "    total_moles=si.MOL\n",
    ")\n",
    "s"
   ]
  },
  {
   "cell_type": "markdown",
   "metadata": {},
   "source": [
    "As before, we can compute properties by calling methods on the `State` object. Some return vectors or matrices - for example the chemical potential and its derivative w.r.t amount of substance:"
   ]
  },
  {
   "cell_type": "code",
   "execution_count": 23,
   "metadata": {},
   "outputs": [
    {
     "data": {
      "text/plain": [
       "array([ -93.60749754, -120.5269973 ]) J/mol"
      ]
     },
     "execution_count": 23,
     "metadata": {},
     "output_type": "execute_result"
    }
   ],
   "source": [
    "s.chemical_potential(Contributions.Residual)"
   ]
  },
  {
   "cell_type": "code",
   "execution_count": 24,
   "metadata": {},
   "outputs": [
    {
     "data": {
      "text/plain": [
       "array([[ 4.90721995, -0.10487987],\n",
       "       [-0.10487987,  4.85361765]])"
      ]
     },
     "execution_count": 24,
     "metadata": {},
     "output_type": "execute_result"
    }
   ],
   "source": [
    "s.dmu_dni() / (si.KILO * si.JOULE / si.MOL**2)"
   ]
  },
  {
   "cell_type": "markdown",
   "metadata": {},
   "source": [
    "Phase equilibria can be built from different constructors. E.g. at critical conditions given composition:"
   ]
  },
  {
   "cell_type": "code",
   "execution_count": 25,
   "metadata": {},
   "outputs": [
    {
     "data": {
      "text/markdown": [
       "|temperature|density|molefracs\n",
       "|-|-|-|\n",
       "|401.65562 K|3.99954 kmol/m³|[0.50000, 0.50000]|"
      ],
      "text/plain": [
       "T = 401.65562 K, ρ = 3.99954 kmol/m³, x = [0.50000, 0.50000]"
      ]
     },
     "execution_count": 25,
     "metadata": {},
     "output_type": "execute_result"
    }
   ],
   "source": [
    "s_cp = State.critical_point(\n",
    "    eos, \n",
    "    moles=np.array([0.5, 0.5])*si.MOL\n",
    ")\n",
    "s_cp"
   ]
  },
  {
   "cell_type": "markdown",
   "metadata": {},
   "source": [
    "Or at given temperature (or pressure) and composition for bubble and dew points."
   ]
  },
  {
   "cell_type": "code",
   "execution_count": 26,
   "metadata": {},
   "outputs": [
    {
     "data": {
      "text/markdown": [
       "||temperature|density|molefracs|\n",
       "|-|-|-|-|\n",
       "|phase 1|350.00000 K|879.50373  mol/m³|[0.67631, 0.32369]|\n",
       "|phase 2|350.00000 K|8.96383 kmol/m³|[0.50000, 0.50000]|\n"
      ],
      "text/plain": [
       "phase 0: T = 350.00000 K, ρ = 879.50373  mol/m³, x = [0.67631, 0.32369]\n",
       "phase 1: T = 350.00000 K, ρ = 8.96383 kmol/m³, x = [0.50000, 0.50000]"
      ]
     },
     "execution_count": 26,
     "metadata": {},
     "output_type": "execute_result"
    }
   ],
   "source": [
    "vle = PhaseEquilibrium.bubble_point(\n",
    "    eos, \n",
    "    350*si.KELVIN, \n",
    "    liquid_molefracs=np.array([0.5, 0.5])\n",
    ")\n",
    "vle"
   ]
  },
  {
   "cell_type": "markdown",
   "metadata": {},
   "source": [
    "Similar to pure substance phase diagrams, there is a constructor for binary systems."
   ]
  },
  {
   "cell_type": "code",
   "execution_count": 27,
   "metadata": {},
   "outputs": [],
   "source": [
    "vle = PhaseDiagram.binary_vle(eos, 350*si.KELVIN, npoints=50)"
   ]
  },
  {
   "cell_type": "code",
   "execution_count": 28,
   "metadata": {},
   "outputs": [
    {
     "data": {
      "image/png": "[encoded data removed]",
      "text/plain": [
       "<Figure size 1296x432 with 2 Axes>"
      ]
     },
     "metadata": {
      "needs_background": "light"
     },
     "output_type": "display_data"
    }
   ],
   "source": [
    "fig, ax = plt.subplots(1, 2, figsize=(18, 6))\n",
    "# fig.title(\"T = 350 K, Propane (1), Butane (2)\")\n",
    "sns.lineplot(x=vle.liquid.molefracs[:,0], y=vle.liquid.pressure / si.BAR, ax=ax[0])\n",
    "sns.lineplot(x=vle.vapor.molefracs[:,0], y=vle.vapor.pressure / si.BAR, ax=ax[0])\n",
    "ax[0].set_xlabel(r\"$x_1$, $y_1$\")\n",
    "ax[0].set_ylabel(r\"$p$ / bar\")\n",
    "ax[0].set_xlim(0, 1)\n",
    "ax[0].set_ylim(5, 35)\n",
    "# ax[0].legend(frameon=False);\n",
    "\n",
    "sns.lineplot(x=vle.liquid.molefracs[:,0], y=vle.vapor.molefracs[:,0], ax=ax[1])\n",
    "sns.lineplot(x=np.linspace(0, 1, 10), y=np.linspace(0, 1, 10), color=\"black\", alpha=0.3, ax=ax[1])\n",
    "ax[1].set_xlabel(r\"$x_1$\")\n",
    "ax[1].set_ylabel(r\"$y_1$\")\n",
    "ax[1].set_xlim(0, 1)\n",
    "ax[1].set_ylim(0, 1);"
   ]
  },
  {
   "cell_type": "markdown",
   "metadata": {},
   "source": [
    "## Comparison to Rust implementation <a id=\"Comparison-to-Rust-implementation\"/>\n",
    "[↑ Back to top](#toc)\n",
    "\n",
    "Implementing an equation of state in Python is nice for quick prototyping and development but when it comes to performance, implementing the equation of state in Rust is the way to go.\n",
    "For each non-cached call to the Helmholtz energy, we have to transition between Rust and Python with our Python implementation which generates quite some overhead.\n",
    "\n",
    "Here are some comparisons between the Rust and our Pyhton implemenation:"
   ]
  },
  {
   "cell_type": "code",
   "execution_count": 29,
   "metadata": {},
   "outputs": [],
   "source": [
    "# rust\n",
    "from feos.cubic import PengRobinsonParameters\n",
    "eos_rust = EquationOfState.peng_robinson(PengRobinsonParameters.from_json([\"propane\"], \"peng-robinson.json\"))\n",
    "\n",
    "# python\n",
    "tc = si.array(369.96 * si.KELVIN)\n",
    "pc = si.array(4250000.0 * si.PASCAL)\n",
    "omega = np.array([0.153])\n",
    "molar_weight = si.array(44.0962 * si.GRAM / si.MOL)\n",
    "eos_python = EquationOfState.python_residual(PyPengRobinson(tc, pc, omega, molar_weight))"
   ]
  },
  {
   "cell_type": "code",
   "execution_count": 30,
   "metadata": {},
   "outputs": [],
   "source": [
    "# let's first test if both actually yield the same results ;)\n",
    "assert abs(State.critical_point(eos_python).pressure() / si.BAR - State.critical_point(eos_rust).pressure() / si.BAR) < 1e-13\n",
    "assert abs(State.critical_point(eos_python).temperature / si.KELVIN - State.critical_point(eos_rust).temperature / si.KELVIN) < 1e-13"
   ]
  },
  {
   "cell_type": "code",
   "execution_count": 31,
   "metadata": {},
   "outputs": [],
   "source": [
    "import timeit\n",
    "\n",
    "time_python = timeit.timeit(lambda: State.critical_point(eos_python), number=2_500)\n",
    "time_rust = timeit.timeit(lambda: State.critical_point(eos_rust), number=2_500)"
   ]
  },
  {
   "cell_type": "code",
   "execution_count": 32,
   "metadata": {},
   "outputs": [
    {
     "name": "stdout",
     "output_type": "stream",
     "text": [
      "Critical point for pure substance\n",
      "Python implementation is slower by a factor of 42.\n"
     ]
    }
   ],
   "source": [
    "rel_dev = (time_rust - time_python) / time_rust\n",
    "print(f\"Critical point for pure substance\")\n",
    "print(f\"Python implementation is {'slower' if rel_dev < 0 else 'faster'} by a factor of {abs(time_python / time_rust):.0f}.\")"
   ]
  },
  {
   "cell_type": "code",
   "execution_count": 33,
   "metadata": {},
   "outputs": [],
   "source": [
    "time_python = timeit.timeit(lambda: PhaseDiagram.pure(eos_python, 300*si.KELVIN, 100), number=100)\n",
    "time_rust = timeit.timeit(lambda: PhaseDiagram.pure(eos_rust, 300*si.KELVIN, 100), number=100)"
   ]
  },
  {
   "cell_type": "code",
   "execution_count": 34,
   "metadata": {},
   "outputs": [
    {
     "name": "stdout",
     "output_type": "stream",
     "text": [
      "Phase diagram for pure substance\n",
      "Python implementation is slower by a factor of 57.\n"
     ]
    }
   ],
   "source": [
    "rel_dev = (time_rust - time_python) / time_rust\n",
    "print(f\"Phase diagram for pure substance\")\n",
    "print(f\"Python implementation is {'slower' if rel_dev < 0 else 'faster'} by a factor of {abs(time_python / time_rust):.0f}.\")"
   ]
  }
 ],
 "metadata": {
  "kernelspec": {
   "display_name": "feos",
   "language": "python",
   "name": "python3"
  },
  "language_info": {
   "codemirror_mode": {
    "name": "ipython",
    "version": 3
   },
   "file_extension": ".py",
   "mimetype": "text/x-python",
   "name": "python",
   "nbconvert_exporter": "python",
   "pygments_lexer": "ipython3",
   "version": "3.9.10"
  }
 },
 "nbformat": 4,
 "nbformat_minor": 4
}
