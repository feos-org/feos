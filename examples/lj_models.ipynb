{
 "cells": [
  {
   "cell_type": "markdown",
   "metadata": {},
   "source": [
    "# Comparison of equations of state for model fluids\n",
    "\n",
    "In this notebook, we take a look at three model fluid equations of state and compare them.\n",
    "These EoS are:\n",
    "\n",
    "- The PeTS equation of state (from `feos.pets`),\n",
    "- the uv-theory equation of state (from `feos.uvtheory`), \n",
    "- the uv-B3-theory equation of state (from `feos.uvtheory` using `VirialOrder.Third`), and\n",
    "- the Thol equation of state (implemented in as Python class).\n",
    "\n",
    "The PeTS equation of state is for a Lennard-Jones fluid with cut off distance of $r_c = 2.5 \\sigma$ and a potential shift while the uv-theory and Thol equation of state model the full Lennard-Jones potential. Note that the uv-theory was developed to model Mie potentials and not primarily adjusted to the Lennard-Jones fluid. Thus, we don't expect similar results when comparing uv-theory and Thol to PeTS."
   ]
  },
  {
   "cell_type": "code",
   "execution_count": 46,
   "metadata": {},
   "outputs": [],
   "source": [
    "import numpy as np\n",
    "from feos.si import *\n",
    "from feos.uvtheory import UVParameters, Perturbation, VirialOrder\n",
    "from feos.pets import PetsParameters\n",
    "from feos.eos import State, PhaseEquilibrium, PhaseDiagram, EquationOfState, Contributions\n",
    "import matplotlib.pyplot as plt\n",
    "import seaborn as sns\n",
    "import pandas as pd\n",
    "\n",
    "import warnings\n",
    "warnings.filterwarnings('ignore')\n",
    "\n",
    "sns.set_context('talk')\n",
    "#sns.set_palette('asd')\n",
    "sns.set_palette(\"hls\", 8)\n",
    "sns.set_style('ticks')\n",
    "colors = sns.palettes.color_palette('Dark2', 8)"
   ]
  },
  {
   "cell_type": "markdown",
   "metadata": {},
   "source": [
    "## Implement the Thol equation of state as Python class"
   ]
  },
  {
   "cell_type": "code",
   "execution_count": 5,
   "metadata": {},
   "outputs": [],
   "source": [
    "# Parameters for Thol EoS:\n",
    "A = np.array([1.0, 1.0, 1.0, 1.0, 1.0, 1.0, 2.0, 2.0, 2.0, 2.0, 2.0,\n",
    "              2.0, 3.0, 3.0, 3.0, 3.0, 3.0, 3.0, 3.0, 3.0, 3.0, 3.0, 3.0])\n",
    "N = np.array([0.005208073, 2.186252000, -2.161016000, 1.452700000, -2.041792000, 0.186952860, -0.090988445, \n",
    "              -0.497456100, 0.109014310, -0.800559220, -0.568839000, -0.620862500, -1.466717700, 1.891469000, \n",
    "              -0.138370100, -0.386964500, 0.126570200, 0.605781000, 1.179189000, -0.477326790, -9.921857500, -0.574793200, 0.003772923])\n",
    "T = np.array([1.000, 0.320, 0.505, 0.672, 0.843, 0.898, 1.294, 2.590, 1.786, 2.770, 1.786,\n",
    "              1.205, 2.830, 2.548, 4.650, 1.385, 1.460, 1.351, 0.660, 1.496, 1.830, 1.616, 4.970])\n",
    "D = np.array([4.0, 1.0, 1.0, 2.0, 2.0, 3.0, 5.0, 2.0, 2.0, 3.0, 1.0,\n",
    "              1.0, 1.0, 1.0, 2.0, 3.0, 3.0, 2.0, 1.0, 2.0, 3.0, 1.0, 1.0])\n",
    "L = np.array([0.0, 0.0, 0.0, 0.0, 0.0, 0.0, 1.0, 2.0, 1.0, 2.0, 2.0,\n",
    "              1.0, 0.0, 0.0, 0.0, 0.0, 0.0, 0.0, 0.0, 0.0, 0.0, 0.0, 0.0])\n",
    "ETA = np.array([0, 0, 0, 0, 0, 0, 0, 0, 0, 0, 0, 0, 2.067, 1.522,\n",
    "                8.82, 1.722, 0.679, 1.883, 3.925, 2.461, 28.2, 0.753, 0.82])\n",
    "BETA = np.array([0, 0, 0, 0, 0, 0, 0, 0, 0, 0, 0, 0, 0.625,\n",
    "                 0.638, 3.91, 0.156, 0.157, 0.153, 1.16, 1.73, 383, 0.112, 0.119])\n",
    "GAMMA = np.array([0, 0, 0, 0, 0, 0, 0, 0, 0, 0, 0, 0, 0.71,\n",
    "                  0.86, 1.94, 1.48, 1.49, 1.945, 3.02, 1.11, 1.17, 1.33, 0.24])\n",
    "EPSILON = np.array([0, 0, 0, 0, 0, 0, 0, 0, 0, 0, 0, 0, 0.2053,\n",
    "                    0.409, 0.6, 1.203, 1.829, 1.397, 1.39, 0.539, 0.934, 2.369, 2.43])\n",
    "\n",
    "class Thol:\n",
    "    def __init__(self):\n",
    "        self.sigma = 3.7039 * ANGSTROM\n",
    "        self.eps_k = 150.03 * KELVIN\n",
    "        self.tc = 1.32 * self.eps_k / KELVIN\n",
    "        self.rhoc = 0.31 / self.sigma**3 * ANGSTROM**3\n",
    "        \n",
    "    def components(self): \n",
    "        return 1\n",
    "    \n",
    "    def subset(self, components):\n",
    "        return self\n",
    "        \n",
    "    def molar_weight(self):\n",
    "        return np.array([1.0])\n",
    "    \n",
    "    def max_density(self, moles):\n",
    "        return 0.04\n",
    "    \n",
    "    def helmholtz_energy(self, state):\n",
    "        \"\"\"\n",
    "        state (StateHD):\n",
    "            temperature in Kelvin als Float, Dual oder HD oder HD3, HDD, HDD3,\n",
    "            partial_density in # / Angstrom^3\n",
    "            volume in Angstrom^3\n",
    "            moles in mol\n",
    "        \"\"\"\n",
    "        tau = self.tc / state.temperature\n",
    "        delta = np.sum(state.partial_density) / self.rhoc\n",
    "        a = 0.0\n",
    "        \n",
    "        for i in range(6):\n",
    "            a = a + N[i] * delta**D[i] * tau**T[i]\n",
    "        for i in range(6, 12):\n",
    "            a = a + N[i] * delta**D[i] * tau**T[i] * np.exp(-1.0 * delta**L[i])\n",
    "        for i in range(12, 23):\n",
    "            a = a + N[i] * delta**D[i] * tau**T[i] * np.exp(- 1.0 * ETA[i] * (delta - EPSILON[i])**2.0 - 1.0 * BETA[i] * (tau - 1.0 * GAMMA[i])**2.0)\n",
    "        return a * np.sum(state.moles)"
   ]
  },
  {
   "cell_type": "markdown",
   "metadata": {},
   "source": [
    "## Instantiate all equations of state"
   ]
  },
  {
   "cell_type": "code",
   "execution_count": 6,
   "metadata": {},
   "outputs": [],
   "source": [
    "sigma = 3.7039\n",
    "sigma_a = sigma * ANGSTROM\n",
    "eps_k = 150.03\n",
    "eps_k_k = eps_k * KELVIN\n",
    "\n",
    "parameters = UVParameters.new_simple(12.0, 6.0, sigma, eps_k)\n",
    "uvtheory_wca = EquationOfState.uvtheory(parameters)\n",
    "uvtheory_bh = EquationOfState.uvtheory(parameters, perturbation=Perturbation.BarkerHenderson)\n",
    "uvtheory_b3 = EquationOfState.uvtheory(parameters, virial_order=VirialOrder.Third)\n",
    "\n",
    "parameters = PetsParameters.from_values(sigma, eps_k)\n",
    "pets = EquationOfState.pets(parameters)\n",
    "\n",
    "thol = EquationOfState.python(Thol())\n",
    "s3 = State(thol, temperature=300*KELVIN, pressure=1*BAR)"
   ]
  },
  {
   "cell_type": "markdown",
   "metadata": {},
   "source": [
    "## Compare Helmholtz energies at single state point"
   ]
  },
  {
   "cell_type": "code",
   "execution_count": 16,
   "metadata": {},
   "outputs": [],
   "source": [
    "s1 = State(uvtheory_wca, temperature=300*KELVIN, pressure=1*BAR)\n",
    "s2 = State(uvtheory_b3, temperature=300*KELVIN, pressure=1*BAR)\n",
    "s3 = State(thol, temperature=300*KELVIN, pressure=1*BAR)\n",
    "s4 = State(pets, temperature=300*KELVIN, pressure=1*BAR)"
   ]
  },
  {
   "cell_type": "code",
   "execution_count": 17,
   "metadata": {},
   "outputs": [
    {
     "data": {
      "text/plain": [
       "-0.0016213224956115704"
      ]
     },
     "execution_count": 17,
     "metadata": {},
     "output_type": "execute_result"
    }
   ],
   "source": [
    "s1.molar_helmholtz_energy(Contributions.ResidualNvt) / (RGAS * 300 * KELVIN)"
   ]
  },
  {
   "cell_type": "code",
   "execution_count": 18,
   "metadata": {},
   "outputs": [
    {
     "data": {
      "text/plain": [
       "-0.0016138652202999679"
      ]
     },
     "execution_count": 18,
     "metadata": {},
     "output_type": "execute_result"
    }
   ],
   "source": [
    "s2.molar_helmholtz_energy(Contributions.ResidualNvt) / (RGAS * 300 * KELVIN)"
   ]
  },
  {
   "cell_type": "code",
   "execution_count": 19,
   "metadata": {},
   "outputs": [
    {
     "data": {
      "text/plain": [
       "-0.0016144150962601586"
      ]
     },
     "execution_count": 19,
     "metadata": {},
     "output_type": "execute_result"
    }
   ],
   "source": [
    "s3.molar_helmholtz_energy(Contributions.ResidualNvt) / (RGAS * 300 * KELVIN)"
   ]
  },
  {
   "cell_type": "code",
   "execution_count": 20,
   "metadata": {},
   "outputs": [
    {
     "data": {
      "text/plain": [
       "-0.000940704010881386"
      ]
     },
     "execution_count": 20,
     "metadata": {},
     "output_type": "execute_result"
    }
   ],
   "source": [
    "s4.molar_helmholtz_energy(Contributions.ResidualNvt) / (RGAS * 300 * KELVIN)"
   ]
  },
  {
   "cell_type": "markdown",
   "metadata": {},
   "source": [
    "## Compare critical temperatures"
   ]
  },
  {
   "cell_type": "code",
   "execution_count": 23,
   "metadata": {},
   "outputs": [
    {
     "data": {
      "text/plain": [
       "(1.3097658041494296, 1.3208296613277397, 1.3132940626554175)"
      ]
     },
     "execution_count": 23,
     "metadata": {},
     "output_type": "execute_result"
    }
   ],
   "source": [
    "(\n",
    "    #State.critical_point(thol).temperature / eps_k_k, \n",
    "    State.critical_point(uvtheory_wca).temperature / eps_k_k, \n",
    "    State.critical_point(uvtheory_bh).temperature / eps_k_k,\n",
    "    State.critical_point(uvtheory_b3).temperature / eps_k_k\n",
    ")"
   ]
  },
  {
   "cell_type": "markdown",
   "metadata": {},
   "source": [
    "## Phase diagrams"
   ]
  },
  {
   "cell_type": "code",
   "execution_count": 32,
   "metadata": {},
   "outputs": [
    {
     "name": "stdout",
     "output_type": "stream",
     "text": [
      "CPU times: user 52.1 ms, sys: 0 ns, total: 52.1 ms\n",
      "Wall time: 50.9 ms\n"
     ]
    }
   ],
   "source": [
    "%%time\n",
    "vle_uv = PhaseDiagram.pure(uvtheory_wca, 150*KELVIN, 500)"
   ]
  },
  {
   "cell_type": "code",
   "execution_count": 33,
   "metadata": {},
   "outputs": [
    {
     "name": "stdout",
     "output_type": "stream",
     "text": [
      "CPU times: user 36 ms, sys: 0 ns, total: 36 ms\n",
      "Wall time: 33.9 ms\n"
     ]
    }
   ],
   "source": [
    "%%time\n",
    "vle_uv_bh = PhaseDiagram.pure(uvtheory_bh, 150*KELVIN, 500)"
   ]
  },
  {
   "cell_type": "code",
   "execution_count": 34,
   "metadata": {},
   "outputs": [
    {
     "name": "stdout",
     "output_type": "stream",
     "text": [
      "CPU times: user 51.9 ms, sys: 0 ns, total: 51.9 ms\n",
      "Wall time: 50.8 ms\n"
     ]
    }
   ],
   "source": [
    "%%time\n",
    "vle_uv_b3 = PhaseDiagram.pure(uvtheory_b3, 150*KELVIN, 500)"
   ]
  },
  {
   "cell_type": "code",
   "execution_count": 35,
   "metadata": {},
   "outputs": [
    {
     "name": "stderr",
     "output_type": "stream",
     "text": [
      "thread '<unnamed>' panicked at 'called `Result::unwrap()` on an `Err` value: PyErr { type: <class 'AttributeError'>, value: AttributeError(\"'builtins.StateHDDV2' object has no attribute 'temperature'\"), traceback: Some(<traceback object at 0x7f7f8cc73b80>) }', feos-core/src/python/user_defined.rs:210:1\n"
     ]
    },
    {
     "ename": "PanicException",
     "evalue": "called `Result::unwrap()` on an `Err` value: PyErr { type: <class 'AttributeError'>, value: AttributeError(\"'builtins.StateHDDV2' object has no attribute 'temperature'\"), traceback: Some(<traceback object at 0x7f7f8cc73b80>) }",
     "output_type": "error",
     "traceback": [
      "\u001b[0;31m---------------------------------------------------------------------------\u001b[0m",
      "\u001b[0;31mPanicException\u001b[0m                            Traceback (most recent call last)",
      "File \u001b[0;32m<timed exec>:1\u001b[0m\n",
      "\u001b[0;31mPanicException\u001b[0m: called `Result::unwrap()` on an `Err` value: PyErr { type: <class 'AttributeError'>, value: AttributeError(\"'builtins.StateHDDV2' object has no attribute 'temperature'\"), traceback: Some(<traceback object at 0x7f7f8cc73b80>) }"
     ]
    }
   ],
   "source": [
    "%%time\n",
    "vle_thol = PhaseDiagram.pure(thol, 150*KELVIN, 500)"
   ]
  },
  {
   "cell_type": "code",
   "execution_count": 36,
   "metadata": {},
   "outputs": [
    {
     "name": "stdout",
     "output_type": "stream",
     "text": [
      "CPU times: user 20.3 ms, sys: 0 ns, total: 20.3 ms\n",
      "Wall time: 20.1 ms\n"
     ]
    }
   ],
   "source": [
    "%%time\n",
    "vle_pets = PhaseDiagram.pure(pets, 150*KELVIN, 500)"
   ]
  },
  {
   "cell_type": "markdown",
   "metadata": {},
   "source": [
    "### Compare phase diagrams"
   ]
  },
  {
   "cell_type": "code",
   "execution_count": 71,
   "metadata": {},
   "outputs": [
    {
     "data": {
      "text/html": [
       "<div>\n",
       "<style scoped>\n",
       "    .dataframe tbody tr th:only-of-type {\n",
       "        vertical-align: middle;\n",
       "    }\n",
       "\n",
       "    .dataframe tbody tr th {\n",
       "        vertical-align: top;\n",
       "    }\n",
       "\n",
       "    .dataframe thead th {\n",
       "        text-align: right;\n",
       "    }\n",
       "</style>\n",
       "<table border=\"1\" class=\"dataframe\">\n",
       "  <thead>\n",
       "    <tr style=\"text-align: right;\">\n",
       "      <th></th>\n",
       "      <th>t</th>\n",
       "      <th>rhov</th>\n",
       "      <th>rhol</th>\n",
       "      <th>p</th>\n",
       "    </tr>\n",
       "  </thead>\n",
       "  <tbody>\n",
       "    <tr>\n",
       "      <th>0</th>\n",
       "      <td>0.700</td>\n",
       "      <td>0.002012</td>\n",
       "      <td>0.843237</td>\n",
       "      <td>0.001381</td>\n",
       "    </tr>\n",
       "    <tr>\n",
       "      <th>5</th>\n",
       "      <td>0.705</td>\n",
       "      <td>0.002145</td>\n",
       "      <td>0.841186</td>\n",
       "      <td>0.001481</td>\n",
       "    </tr>\n",
       "    <tr>\n",
       "      <th>10</th>\n",
       "      <td>0.710</td>\n",
       "      <td>0.002284</td>\n",
       "      <td>0.839106</td>\n",
       "      <td>0.001586</td>\n",
       "    </tr>\n",
       "    <tr>\n",
       "      <th>15</th>\n",
       "      <td>0.715</td>\n",
       "      <td>0.002431</td>\n",
       "      <td>0.836999</td>\n",
       "      <td>0.001698</td>\n",
       "    </tr>\n",
       "    <tr>\n",
       "      <th>20</th>\n",
       "      <td>0.720</td>\n",
       "      <td>0.002584</td>\n",
       "      <td>0.834868</td>\n",
       "      <td>0.001815</td>\n",
       "    </tr>\n",
       "  </tbody>\n",
       "</table>\n",
       "</div>"
      ],
      "text/plain": [
       "        t      rhov      rhol         p\n",
       "0   0.700  0.002012  0.843237  0.001381\n",
       "5   0.705  0.002145  0.841186  0.001481\n",
       "10  0.710  0.002284  0.839106  0.001586\n",
       "15  0.715  0.002431  0.836999  0.001698\n",
       "20  0.720  0.002584  0.834868  0.001815"
      ]
     },
     "execution_count": 71,
     "metadata": {},
     "output_type": "execute_result"
    }
   ],
   "source": [
    "nist_data = pd.read_csv(\"data/lennard_jones_nist.csv\", delim_whitespace=True)\n",
    "nist_data = nist_data[::5]\n",
    "nist_data.head()"
   ]
  },
  {
   "cell_type": "code",
   "execution_count": 76,
   "metadata": {},
   "outputs": [
    {
     "data": {
      "image/png": "[encoded data removed]",
      "text/plain": [
       "<Figure size 1200x600 with 1 Axes>"
      ]
     },
     "metadata": {},
     "output_type": "display_data"
    }
   ],
   "source": [
    "s3 = NAV * sigma_a**3\n",
    "colors = sns.color_palette(\"Dark2\", n_colors = 6)\n",
    "plt.figure(figsize=(12, 6))\n",
    "\n",
    "plt.plot(nist_data.rhov, nist_data.t, linestyle=\"\", color=\"k\", marker=\".\", label='MC', alpha=0.5)\n",
    "plt.plot(nist_data.rhol, nist_data.t, linestyle=\"\", color=\"k\", marker=\".\", alpha=0.5)\n",
    "\n",
    "plt.plot(vle_uv.vapor.density * s3 , vle_uv.vapor.temperature / eps_k_k, color=colors[0], label='uv (WCA)')\n",
    "plt.plot(vle_uv.liquid.density * s3, vle_uv.vapor.temperature / eps_k_k, color=colors[0])\n",
    "\n",
    "plt.plot(vle_uv_bh.vapor.density * s3 , vle_uv_bh.vapor.temperature / eps_k_k, color=colors[1], label='uv (BH)')\n",
    "plt.plot(vle_uv_bh.liquid.density * s3, vle_uv_bh.vapor.temperature / eps_k_k, color=colors[1])\n",
    "\n",
    "plt.plot(vle_uv_b3.vapor.density * s3 , vle_uv_b3.vapor.temperature / eps_k_k, color=colors[2], label='uv (B3)')\n",
    "plt.plot(vle_uv_b3.liquid.density * s3, vle_uv_b3.vapor.temperature / eps_k_k, color=colors[2])\n",
    "\n",
    "plt.ylabel(r\"$T*$\")\n",
    "plt.xlabel(r\"$\\rho*$\")\n",
    "plt.xlim(0., 0.8)\n",
    "plt.ylim(1.0, 1.35)\n",
    "plt.legend(frameon=False)\n",
    "sns.despine(offset=10);"
   ]
  },
  {
   "cell_type": "code",
   "execution_count": null,
   "metadata": {},
   "outputs": [],
   "source": []
  }
 ],
 "metadata": {
  "kernelspec": {
   "display_name": "venv_feos05",
   "language": "python",
   "name": "venv_feos05"
  },
  "language_info": {
   "codemirror_mode": {
    "name": "ipython",
    "version": 3
   },
   "file_extension": ".py",
   "mimetype": "text/x-python",
   "name": "python",
   "nbconvert_exporter": "python",
   "pygments_lexer": "ipython3",
   "version": "3.8.5"
  }
 },
 "nbformat": 4,
 "nbformat_minor": 4
}
