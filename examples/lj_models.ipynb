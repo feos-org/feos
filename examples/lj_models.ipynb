{
 "cells": [
  {
   "cell_type": "markdown",
   "metadata": {},
   "source": [
    "# Comparison of equations of state for the Lennard-Jones fluid\n",
    "\n",
    "In this notebook, we take a look at three model fluid equations of state and compare them.\n",
    "These EoS are:\n",
    "\n",
    "- The PeTS equation of state (from `feos.pets`),\n",
    "- the uv-theory equation of state (from `feos.uvtheory`), and\n",
    "- the Thol equation of state (implemented in as Python class).\n",
    "\n",
    "The PeTS equation of state is for a Lennard-Jones fluid with cut off distance of $r_c = 2.5 \\sigma$ and a potential shift while the uv-theory and Thol equation of state model the full Lennard-Jones potential. Thus, we don't expect similar results when comparing uv-theory and Thol to PeTS."
   ]
  },
  {
   "cell_type": "code",
   "execution_count": 47,
   "metadata": {},
   "outputs": [],
   "source": [
    "import numpy as np\n",
    "from feos.si import *\n",
    "from feos.uvtheory import UVParameters, Perturbation\n",
    "from feos.pets import PetsParameters\n",
    "from feos.eos import State, PhaseEquilibrium, PhaseDiagram, EquationOfState, Contributions\n",
    "import matplotlib.pyplot as plt\n",
    "import seaborn as sns\n",
    "\n",
    "import warnings\n",
    "warnings.filterwarnings('ignore')\n",
    "\n",
    "sns.set_context('talk')\n",
    "sns.set_palette('Dark2')\n",
    "sns.set_style('ticks')\n",
    "colors = sns.palettes.color_palette('Dark2', 8)"
   ]
  },
  {
   "cell_type": "markdown",
   "metadata": {},
   "source": [
    "## Implement the Thol equation of state as Python class"
   ]
  },
  {
   "cell_type": "code",
   "execution_count": 48,
   "metadata": {},
   "outputs": [],
   "source": [
    "# Parameters for Thol EoS:\n",
    "A = np.array([1.0, 1.0, 1.0, 1.0, 1.0, 1.0, 2.0, 2.0, 2.0, 2.0, 2.0,\n",
    "              2.0, 3.0, 3.0, 3.0, 3.0, 3.0, 3.0, 3.0, 3.0, 3.0, 3.0, 3.0])\n",
    "N = np.array([0.005208073, 2.186252000, -2.161016000, 1.452700000, -2.041792000, 0.186952860, -0.090988445, \n",
    "              -0.497456100, 0.109014310, -0.800559220, -0.568839000, -0.620862500, -1.466717700, 1.891469000, \n",
    "              -0.138370100, -0.386964500, 0.126570200, 0.605781000, 1.179189000, -0.477326790, -9.921857500, -0.574793200, 0.003772923])\n",
    "T = np.array([1.000, 0.320, 0.505, 0.672, 0.843, 0.898, 1.294, 2.590, 1.786, 2.770, 1.786,\n",
    "              1.205, 2.830, 2.548, 4.650, 1.385, 1.460, 1.351, 0.660, 1.496, 1.830, 1.616, 4.970])\n",
    "D = np.array([4.0, 1.0, 1.0, 2.0, 2.0, 3.0, 5.0, 2.0, 2.0, 3.0, 1.0,\n",
    "              1.0, 1.0, 1.0, 2.0, 3.0, 3.0, 2.0, 1.0, 2.0, 3.0, 1.0, 1.0])\n",
    "L = np.array([0.0, 0.0, 0.0, 0.0, 0.0, 0.0, 1.0, 2.0, 1.0, 2.0, 2.0,\n",
    "              1.0, 0.0, 0.0, 0.0, 0.0, 0.0, 0.0, 0.0, 0.0, 0.0, 0.0, 0.0])\n",
    "ETA = np.array([0, 0, 0, 0, 0, 0, 0, 0, 0, 0, 0, 0, 2.067, 1.522,\n",
    "                8.82, 1.722, 0.679, 1.883, 3.925, 2.461, 28.2, 0.753, 0.82])\n",
    "BETA = np.array([0, 0, 0, 0, 0, 0, 0, 0, 0, 0, 0, 0, 0.625,\n",
    "                 0.638, 3.91, 0.156, 0.157, 0.153, 1.16, 1.73, 383, 0.112, 0.119])\n",
    "GAMMA = np.array([0, 0, 0, 0, 0, 0, 0, 0, 0, 0, 0, 0, 0.71,\n",
    "                  0.86, 1.94, 1.48, 1.49, 1.945, 3.02, 1.11, 1.17, 1.33, 0.24])\n",
    "EPSILON = np.array([0, 0, 0, 0, 0, 0, 0, 0, 0, 0, 0, 0, 0.2053,\n",
    "                    0.409, 0.6, 1.203, 1.829, 1.397, 1.39, 0.539, 0.934, 2.369, 2.43])\n",
    "\n",
    "class Thol:\n",
    "    def __init__(self):\n",
    "        self.sigma = 3.7039 * ANGSTROM\n",
    "        self.eps_k = 150.03 * KELVIN\n",
    "        self.tc = 1.32 * self.eps_k / KELVIN\n",
    "        self.rhoc = 0.31 / self.sigma**3 * ANGSTROM**3\n",
    "        \n",
    "    def components(self): \n",
    "        return 1\n",
    "    \n",
    "    def subset(self, components):\n",
    "        return self\n",
    "        \n",
    "    def molar_weight(self):\n",
    "        return np.array([1.0])\n",
    "    \n",
    "    def max_density(self, moles):\n",
    "        return 0.04\n",
    "    \n",
    "    def helmholtz_energy(self, state):\n",
    "        \"\"\"\n",
    "        state (StateHD):\n",
    "            temperature in Kelvin als Float, Dual oder HD oder HD3, HDD, HDD3,\n",
    "            partial_density in # / Angstrom^3\n",
    "            volume in Angstrom^3\n",
    "            moles in mol\n",
    "        \"\"\"\n",
    "        tau = self.tc / state.temperature\n",
    "        delta = np.sum(state.partial_density) / self.rhoc\n",
    "        a = 0.0 #zero(state)\n",
    "        \n",
    "        for i in range(6):\n",
    "            a = a + N[i] * delta**D[i] * tau**T[i]\n",
    "        \n",
    "       # print(\"2\")\n",
    "        for i in range(6, 12):\n",
    "            a = a + N[i] * delta**D[i] * tau**T[i] * np.exp(-1.0 * delta**L[i])\n",
    "       # print(\"3\")\n",
    "        for i in range(12, 23):\n",
    "            a = a + N[i] * delta**D[i] * tau**T[i] * np.exp(- 1.0 * ETA[i] * (delta - EPSILON[i])**2.0 - 1.0 * BETA[i] * (tau - 1.0 * GAMMA[i])**2.0)\n",
    "        return a * np.sum(state.moles)"
   ]
  },
  {
   "cell_type": "markdown",
   "metadata": {},
   "source": [
    "## Instantiate all equations of state"
   ]
  },
  {
   "cell_type": "code",
   "execution_count": 49,
   "metadata": {},
   "outputs": [],
   "source": [
    "sigma = 3.7039\n",
    "sigma_a = sigma * ANGSTROM\n",
    "eps_k = 150.03\n",
    "eps_k_k = eps_k * KELVIN\n",
    "\n",
    "parameters = UVParameters.from_lists([12.0], [6.0], [sigma], [eps_k])\n",
    "uvtheory_wca = EquationOfState.uvtheory(parameters)\n",
    "uvtheory_bh = EquationOfState.uvtheory(parameters, perturbation=Perturbation.BarkerHenderson)\n",
    "\n",
    "parameters = PetsParameters.from_values(sigma, eps_k)\n",
    "pets = EquationOfState.pets(parameters)\n",
    "\n",
    "thol = EquationOfState.python(Thol())\n",
    "s3 = State(thol, temperature=300*KELVIN, pressure=1*BAR)"
   ]
  },
  {
   "cell_type": "markdown",
   "metadata": {},
   "source": [
    "## Compare Helmholtz energies at single state point"
   ]
  },
  {
   "cell_type": "code",
   "execution_count": 50,
   "metadata": {},
   "outputs": [],
   "source": [
    "s1 = State(uvtheory_wca, temperature=300*KELVIN, pressure=1*BAR)\n",
    "s2 = State(pets, temperature=300*KELVIN, pressure=1*BAR)\n",
    "s3 = State(thol, temperature=300*KELVIN, pressure=1*BAR)"
   ]
  },
  {
   "cell_type": "code",
   "execution_count": 51,
   "metadata": {},
   "outputs": [
    {
     "data": {
      "text/plain": [
       "-0.0016213224956115704"
      ]
     },
     "execution_count": 51,
     "metadata": {},
     "output_type": "execute_result"
    }
   ],
   "source": [
    "s1.molar_helmholtz_energy(Contributions.ResidualNvt) / (RGAS * 300 * KELVIN)"
   ]
  },
  {
   "cell_type": "code",
   "execution_count": 52,
   "metadata": {},
   "outputs": [
    {
     "data": {
      "text/plain": [
       "-0.000940704010881386"
      ]
     },
     "execution_count": 52,
     "metadata": {},
     "output_type": "execute_result"
    }
   ],
   "source": [
    "s2.molar_helmholtz_energy(Contributions.ResidualNvt) / (RGAS * 300 * KELVIN)"
   ]
  },
  {
   "cell_type": "code",
   "execution_count": 53,
   "metadata": {},
   "outputs": [
    {
     "data": {
      "text/plain": [
       "-0.0016144150962601586"
      ]
     },
     "execution_count": 53,
     "metadata": {},
     "output_type": "execute_result"
    }
   ],
   "source": [
    "s3.molar_helmholtz_energy(Contributions.ResidualNvt) / (RGAS * 300 * KELVIN)"
   ]
  },
  {
   "cell_type": "markdown",
   "metadata": {},
   "source": [
    "## Compare critical temperatures"
   ]
  },
  {
   "cell_type": "code",
   "execution_count": 54,
   "metadata": {},
   "outputs": [
    {
     "data": {
      "text/plain": [
       "(1.320000346982154, 1.3097658041494296, 1.3208296613277397)"
      ]
     },
     "execution_count": 54,
     "metadata": {},
     "output_type": "execute_result"
    }
   ],
   "source": [
    "(\n",
    "    State.critical_point(thol).temperature / eps_k_k, \n",
    "    State.critical_point(uvtheory_wca).temperature / eps_k_k, \n",
    "    State.critical_point(uvtheory_bh).temperature / eps_k_k\n",
    ")"
   ]
  },
  {
   "cell_type": "markdown",
   "metadata": {},
   "source": [
    "## Phase diagrams"
   ]
  },
  {
   "cell_type": "code",
   "execution_count": 55,
   "metadata": {},
   "outputs": [
    {
     "name": "stdout",
     "output_type": "stream",
     "text": [
      "CPU times: user 51.7 ms, sys: 0 ns, total: 51.7 ms\n",
      "Wall time: 50.6 ms\n"
     ]
    }
   ],
   "source": [
    "%%time\n",
    "vle_uv = PhaseDiagram.pure(uvtheory_wca, 150*KELVIN, 500)"
   ]
  },
  {
   "cell_type": "code",
   "execution_count": 56,
   "metadata": {},
   "outputs": [
    {
     "name": "stdout",
     "output_type": "stream",
     "text": [
      "CPU times: user 41.8 ms, sys: 3.92 ms, total: 45.7 ms\n",
      "Wall time: 45.1 ms\n"
     ]
    }
   ],
   "source": [
    "%%time\n",
    "vle_uv_bh = PhaseDiagram.pure(uvtheory_bh, 150*KELVIN, 500)"
   ]
  },
  {
   "cell_type": "code",
   "execution_count": 57,
   "metadata": {},
   "outputs": [
    {
     "name": "stdout",
     "output_type": "stream",
     "text": [
      "CPU times: user 1.64 s, sys: 3.88 ms, total: 1.65 s\n",
      "Wall time: 1.64 s\n"
     ]
    }
   ],
   "source": [
    "%%time\n",
    "vle_thol = PhaseDiagram.pure(thol, 150*KELVIN, 500)"
   ]
  },
  {
   "cell_type": "code",
   "execution_count": 58,
   "metadata": {},
   "outputs": [
    {
     "name": "stdout",
     "output_type": "stream",
     "text": [
      "CPU times: user 13.4 ms, sys: 2.94 ms, total: 16.4 ms\n",
      "Wall time: 16 ms\n"
     ]
    }
   ],
   "source": [
    "%%time\n",
    "vle_pets = PhaseDiagram.pure(pets, 150*KELVIN, 500)"
   ]
  },
  {
   "cell_type": "markdown",
   "metadata": {},
   "source": [
    "### Compare phase diagrams"
   ]
  },
  {
   "cell_type": "code",
   "execution_count": 59,
   "metadata": {},
   "outputs": [
    {
     "data": {
      "image/png": "[encoded data removed]",
      "text/plain": [
       "<Figure size 864x432 with 1 Axes>"
      ]
     },
     "metadata": {},
     "output_type": "display_data"
    }
   ],
   "source": [
    "s3 = NAV * sigma_a**3\n",
    "colors = sns.color_palette(\"Dark2\", n_colors = 4)\n",
    "plt.figure(figsize=(12, 6))\n",
    "\n",
    "plt.plot(vle_uv.vapor.density * s3 , vle_uv.vapor.temperature / eps_k_k, color=colors[0], label='uv (WCA)')\n",
    "plt.plot(vle_uv.liquid.density * s3, vle_uv.vapor.temperature / eps_k_k, color=colors[0])\n",
    "\n",
    "plt.plot(vle_uv_bh.vapor.density * s3 , vle_uv_bh.vapor.temperature / eps_k_k, color=colors[1], label='uv (BH)')\n",
    "plt.plot(vle_uv_bh.liquid.density * s3, vle_uv_bh.vapor.temperature / eps_k_k, color=colors[1], )\n",
    "\n",
    "plt.plot(vle_thol.vapor.density * s3, vle_thol.vapor.temperature / eps_k_k, color=colors[2], label='Thol')\n",
    "plt.plot(vle_thol.liquid.density * s3, vle_thol.vapor.temperature / eps_k_k, color=colors[2])\n",
    "\n",
    "plt.plot(vle_pets.vapor.density * s3, vle_pets.vapor.temperature / eps_k_k, color=colors[3], label='PeTS')\n",
    "plt.plot(vle_pets.liquid.density * s3, vle_pets.vapor.temperature / eps_k_k, color=colors[3])\n",
    "\n",
    "plt.ylabel(r\"$T*$\")\n",
    "plt.xlabel(r\"$\\rho*$\")\n",
    "plt.xlim(0., 0.8)\n",
    "plt.ylim(1.0, 1.35)\n",
    "plt.legend(frameon=False)\n",
    "sns.despine(offset=10);"
   ]
  }
 ],
 "metadata": {
  "kernelspec": {
   "display_name": "Python 3 (ipykernel)",
   "language": "python",
   "name": "python3"
  },
  "language_info": {
   "codemirror_mode": {
    "name": "ipython",
    "version": 3
   },
   "file_extension": ".py",
   "mimetype": "text/x-python",
   "name": "python",
   "nbconvert_exporter": "python",
   "pygments_lexer": "ipython3",
   "version": "3.9.12"
  }
 },
 "nbformat": 4,
 "nbformat_minor": 4
}
