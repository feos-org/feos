{
 "cells": [
  {
   "cell_type": "markdown",
   "id": "d2e9adfb-9962-40f7-8265-4861621e757e",
   "metadata": {},
   "source": [
    "# Adjusting PC-SAFT parameters for a non-associating, non-polar substance"
   ]
  },
  {
   "cell_type": "markdown",
   "id": "4b54ad7f-d2ee-478c-8dd3-aebb2addec81",
   "metadata": {},
   "source": [
    "## Goal\n",
    "\n",
    "- Read in experimental data for vapor pressure and liquid density of a pure substance.\n",
    "- Use the `DataSet`, `Loss` and `Estimator` objects to store and work with experimental data.\n",
    "- Define a `cost` function that will be used with `scipy.optimize.least_squares`.\n",
    "- Run the optimization."
   ]
  },
  {
   "cell_type": "code",
   "execution_count": 1,
   "id": "805bdfdb-d397-45a3-8354-082a8d13e4c1",
   "metadata": {},
   "outputs": [],
   "source": [
    "import numpy as np\n",
    "import pandas as pd\n",
    "from scipy.optimize import least_squares\n",
    "import matplotlib.pyplot as plt\n",
    "import seaborn as sns\n",
    "\n",
    "from feos.si import *\n",
    "from feos.eos import *\n",
    "from feos.pcsaft import *\n",
    "from feos.eos.estimator import Estimator, Loss, DataSet\n",
    "\n",
    "sns.set_context('talk')\n",
    "sns.set_palette('Dark2')\n",
    "sns.set_style('ticks')\n",
    "colors = sns.palettes.color_palette('Dark2', 5)"
   ]
  },
  {
   "cell_type": "markdown",
   "id": "46c5a891-be8b-44d9-8f42-c84adf0cadb4",
   "metadata": {},
   "source": [
    "# `DataSet` objects\n",
    "\n",
    "FeO$_\\text{s}$ provides a range of data structures that facilitate the adjustment of parameters. One such structure is the `DataSet`, which serves as a storage unit for experimental data. When working with a specific model, a `DataSet` enables the evaluation of the relative difference between the model's prediction and the experimental value of the desired property.\n",
    "\n",
    "A DataSet encompasses the following components:\n",
    "\n",
    "- The `target`: This refers to the experimental data associated with the property for which we intend to adjust parameters. In our case, these properties include vapor pressures and liquid densities. Additional options consist of dynamic properties used to adjust correlation parameters for entropy scaling or VLE (Vapor-Liquid Equilibrium) data of mixtures to fine-tune binary interaction parameters.\n",
    "- Other properties: These are necessary for determining the thermodynamic conditions. For instance, temperature is required for vapor pressure calculations, while liquid density computations necessitate temperature and pressure.\n",
    "- Each property available in FeO$_\\text{s}$ is accompanied by a corresponding DataSet constructor.\n",
    "\n",
    "Below, we load (pseudo) experimental data for hexane's vapor pressures and liquid densities. The data, derived from the NIST WebBook, incorporates simulated statistical uncertainties (e.g., measurement errors) by introducing Gaussian noise."
   ]
  },
  {
   "cell_type": "code",
   "execution_count": 2,
   "id": "3c80cd76-4868-4b92-a654-287c7d65b875",
   "metadata": {},
   "outputs": [],
   "source": [
    "# read data from file into DataFrame\n",
    "data_psat = pd.read_csv(\"data/hexane_vapor_pressure.csv\")\n",
    "# construct a `DataSet` for vapor pressure\n",
    "dataset_psat = DataSet.vapor_pressure(\n",
    "    target=data_psat[\"vapor_pressure / bar\"].values * BAR,\n",
    "    temperature=data_psat[\"temperature / K\"].values * KELVIN,\n",
    "    extrapolate=True\n",
    ")"
   ]
  },
  {
   "cell_type": "markdown",
   "id": "30f51ce6-a910-4e6f-93d2-7c02d070143e",
   "metadata": {},
   "source": [
    "For `DataSet.vapor_pressure` we have to supply the experimental data for vapor pressures and temperatures as input.\n",
    "\n",
    "Optional parameters are\n",
    "- `extrapolate` which allows an extrapolation for experimental data above the model's critical temperature (using an Antoine-like equation),\n",
    "- `critical_temperature` when the experimental critical temperature is known,\n",
    "- `max_iter` for the VLE solver, and\n",
    "- `verbosity` to print the solver iterations to the console."
   ]
  },
  {
   "cell_type": "code",
   "execution_count": 3,
   "id": "981aab8f-bd41-4939-a27a-02223c5a5ff0",
   "metadata": {},
   "outputs": [],
   "source": [
    "# read data from file into DataFrame\n",
    "data_rhol = pd.read_csv(\"data/hexane_liquid_density.csv\")\n",
    "# construct a `DataSet` for liquid density\n",
    "dataset_rhol = DataSet.liquid_density(\n",
    "    target=data_rhol[\"density / kg/m3\"].values * KILOGRAM / METER**3,\n",
    "    temperature=data_rhol[\"temperature / K\"].values * KELVIN,\n",
    "    pressure=data_rhol[\"pressure / bar\"].values * BAR\n",
    ")"
   ]
  },
  {
   "cell_type": "markdown",
   "id": "53e754f2-6a6f-415b-87f7-8a35e0c7d61b",
   "metadata": {},
   "source": [
    "For `DataSet.liquid_density` we have to supply the experimental data for liquid mass densities, temperatures and pressures as input."
   ]
  },
  {
   "cell_type": "markdown",
   "id": "65c565d7-30a4-446a-8e22-0c225edeb88f",
   "metadata": {},
   "source": [
    "# `Estimator` and `Loss` objects"
   ]
  },
  {
   "cell_type": "markdown",
   "id": "89312d88-4eba-4649-af06-a11d673a88b9",
   "metadata": {},
   "source": [
    "To collect the `DataSet` objects for the properties we wish to adjust parameters for, we can assemble them into an `Estimator` object. The `Estimator` requires the following inputs:\n",
    "\n",
    "- A list of `DataSet` objects.\n",
    "- A corresponding list of `weights`, with each weight assigned to a specific `DataSet`.\n",
    "- A list of `losses`, where each `DataSet` has an associated loss function.\n",
    "\n",
    "The `Estimator` facilitates the calculation of the model's `cost`, which involves the following steps:\n",
    "\n",
    "1. Iterating through all `DataSets`: For each `DataSet`, the relative difference between the model's prediction and the experimental data is evaluated.\n",
    "2. Application of a `Loss` function: The available `Loss` functions in FeO$_\\text{s}$ are identical to those found in [`scipy.optimize.least_squares`](https://docs.scipy.org/doc/scipy/reference/generated/scipy.optimize.least_squares.html). Each property can have a different `Loss`. If `Loss.linear()` is used, the optimization simplifies to a regular least-squares problem.\n",
    "3. Normalization: The relative differences (with the applied loss functions) are divided by the number of data points in each corresponding `DataSet`.\n",
    "4. Weighted cost calculation: The costs of each `DataSet` are weighted based on the provided (normalized) `weights`.\n",
    "\n",
    "The following example demonstrates the construction of an estimator using vapor pressure and liquid density data. We utilize `weights = [3, 2]` (normalized `weights = [0.6, 0.4]`) and a `Loss.huber(0.05)` loss function, which treats predictions above 0.05% linearly in the cost function instead of squaring them (outlier treatment).\n"
   ]
  },
  {
   "cell_type": "code",
   "execution_count": 4,
   "id": "2e4c20fb-2415-43ac-87c4-68279dcb4e7d",
   "metadata": {},
   "outputs": [],
   "source": [
    "estimator = Estimator(\n",
    "    data=[dataset_psat, dataset_rhol],\n",
    "    weights=[3, 2],\n",
    "    losses=[Loss.huber(0.05), Loss.huber(0.05)]\n",
    ")"
   ]
  },
  {
   "cell_type": "markdown",
   "id": "c49e1f8a-93f5-4981-b7ea-410b651058c8",
   "metadata": {},
   "source": [
    "When using `scipy`'s `least_squares` solver, it requires a function to calculate the cost or residuals. The first argument of this function should be the parameter vector being optimized. Therefore, it is necessary to define this function in Python before working with `least_squares`.\n",
    "\n",
    "To simplify the process, we create two functions:\n",
    "\n",
    "- `eos_from_parameters`: This function constructs the parameters and equation of state based on the current parameter vector. Since FeO$_\\text{s}$ does not allow mutation of an existing `EquationOfState` object, generating a new equation of state is necessary. We can use this function later to generate the equation of state for the final parameters.\n",
    "- `cost`: Taking the parameters and estimator as inputs, this function builds the equation of state, calculates the cost of the current model, and returns the result.\n",
    "\n",
    "These functions aid in the seamless integration of the solver, allowing for the generation of the equation of state and the calculation of the model's cost."
   ]
  },
  {
   "cell_type": "code",
   "execution_count": 5,
   "id": "a61f8330-e31c-4d97-943d-6abe9fad9f1b",
   "metadata": {},
   "outputs": [],
   "source": [
    "# define things that are constant during optimization\n",
    "identifier = Identifier(\n",
    "    cas=\"110-54-3\", \n",
    "    name=\"hexane\", \n",
    "    iupac_name=\"hexane\", \n",
    "    smiles=\"CCCCCC\", \n",
    "    inchi=\"InChI=1/C6H14/c1-3-5-6-4-2/h3-6H2,1-2H3\", \n",
    "    formula=\"C6H14\"\n",
    ")\n",
    "molarweight = 86.177 # g / mol\n",
    "\n",
    "def eos_from_parameters(p):\n",
    "    \"\"\"Returns equation of state (PC-SAFT) for current parameters.\"\"\"\n",
    "    global identifier, molarweight\n",
    "    m, sigma, epsilon_k = p\n",
    "    model_record = PcSaftRecord(m, sigma, epsilon_k)\n",
    "    pure_record = PureRecord(identifier, molarweight, model_record)\n",
    "    parameters = PcSaftParameters.new_pure(pure_record)\n",
    "    return EquationOfState.pcsaft(parameters)\n",
    "\n",
    "def cost(p, estimator):\n",
    "    \"\"\"Calculates cost function for current parameters.\"\"\"\n",
    "    eos = eos_from_parameters(p)\n",
    "    return estimator.cost(eos)"
   ]
  },
  {
   "cell_type": "markdown",
   "id": "b3d9f5f9-77ff-4523-a3ec-d7a3c05b829a",
   "metadata": {},
   "source": [
    "# Adjust parameters\n",
    "\n",
    "To begin parameter adjustment, there are two additional requirements:\n",
    "\n",
    "1. An initial guess for the parameters.\n",
    "2. Bounds for the parameters.\n",
    "\n",
    "It is crucial to note that trying multiple combinations of initial parameters is recommended to avoid getting stuck in a local optimum.\n",
    "\n",
    "Once these prerequisites are fulfilled, we can invoke `least_squares` with `args=(estimator, )` as an argument for the `cost` function. Please note that the tuple syntax is necessary in this case."
   ]
  },
  {
   "cell_type": "code",
   "execution_count": 6,
   "id": "1309b82d-dd20-4e9c-987c-03167cf4a7b8",
   "metadata": {},
   "outputs": [
    {
     "name": "stdout",
     "output_type": "stream",
     "text": [
      "   Iteration     Total nfev        Cost      Cost reduction    Step norm     Optimality   \n",
      "       0              1         9.6023e-05                                    1.11e-04    \n",
      "       1              2         4.1624e-05      5.44e-05       5.08e+01       2.02e-01    \n",
      "       2              3         4.0880e-05      7.44e-07       4.93e-01       2.08e-01    \n",
      "       3              4         4.0400e-05      4.79e-07       4.01e-01       4.78e-02    \n",
      "       4              5         1.0082e-05      3.03e-05       1.06e+01       5.25e-04    \n",
      "       5              6         4.4005e-06      5.68e-06       1.45e+01       4.32e-04    \n",
      "       6              7         3.3840e-06      1.02e-06       3.03e+00       1.11e-04    \n",
      "       7              8         3.2471e-06      1.37e-07       2.95e+00       4.81e-05    \n",
      "       8              9         3.2205e-06      2.66e-08       1.23e+00       1.82e-05    \n",
      "       9             10         3.2167e-06      3.78e-09       4.74e-01       4.97e-06    \n",
      "      10             11         3.2164e-06      2.92e-10       1.33e-01       1.23e-06    \n",
      "      11             12         3.2164e-06      1.77e-11       3.21e-02       2.91e-07    \n",
      "      12             13         3.2164e-06      9.90e-13       7.58e-03       6.59e-08    \n",
      "      13             14         3.2164e-06      5.28e-14       1.76e-03       1.50e-08    \n",
      "      14             15         3.2164e-06      2.84e-15       4.09e-04       3.40e-09    \n",
      "`gtol` termination condition is satisfied.\n",
      "Function evaluations 15, initial cost 9.6023e-05, final cost 3.2164e-06, first-order optimality 3.40e-09.\n",
      "CPU times: user 5.62 s, sys: 116 ms, total: 5.74 s\n",
      "Wall time: 1.52 s\n"
     ]
    }
   ],
   "source": [
    "%%time\n",
    "initial_parameters = [3.0, 3.0, 300.0] # m, sigma, epsilon_k\n",
    "bounds = ([2.0, 2.0, 150.0], [8.0, 5.0, 500.0]) # ([lower bounds], [upper bounds])\n",
    "fitted_parameters = least_squares(cost, initial_parameters, bounds=bounds, args=(estimator,), verbose=2).x"
   ]
  },
  {
   "cell_type": "markdown",
   "id": "c7810262-d26d-4a5a-8d3b-5b1d217a9eb5",
   "metadata": {},
   "source": [
    "To provide statistics during the adjustment process, we can utilize the `verbose=2` option, which prints relevant information. However, our primary interest lies in obtaining the optimal parameters. These parameters can be accessed from the `x` field of the `OptimizeResult` object generated by the `least_squares` function.\n",
    "\n",
    "Once the adjustment is complete, we can investigate the results. A quick and straightforward method for analyzing the optimization results is to use the `Estimator.mean_absolute_relative_difference` method. This method returns the mean absolute relative difference (MARD) for each `DataSet`, without applying losses or weights. It is important to exercise caution when dealing with `NaN` values, as any predictions resulting in `NaN` are filtered out and thus not immediately visible in the reported values.\n",
    "\n",
    "It's essential to note that the resulting MARD does not include the effects of loss functions or weights. Therefore, it does not represent the property being minimized in the optimization process."
   ]
  },
  {
   "cell_type": "code",
   "execution_count": 7,
   "id": "b266f557-40f5-43d6-82eb-f5c393a3b464",
   "metadata": {},
   "outputs": [
    {
     "name": "stdout",
     "output_type": "stream",
     "text": [
      "Adjusted parameters\n",
      "m         =    3.024\n",
      "sigma     =    3.811 A\n",
      "epsilon_k =  238.333 K\n",
      "\n",
      "MARD (including outliers)\n",
      "p_sat = 6.3  %\n",
      "rho_l = 0.93 %\n"
     ]
    }
   ],
   "source": [
    "print(\"Adjusted parameters\")\n",
    "print(\"m         = {:>8.4}\".format(fitted_parameters[0]))\n",
    "print(\"sigma     = {:>8.4} A\".format(fitted_parameters[1]))\n",
    "print(\"epsilon_k = {:>8.6} K\".format(fitted_parameters[2]))\n",
    "print(\"\")\n",
    "\n",
    "mard = estimator.mean_absolute_relative_difference(eos_from_parameters(fitted_parameters)) * 100\n",
    "print(\"MARD (including outliers)\")\n",
    "print(\"p_sat = {:<4.2} %\".format(mard[0]))\n",
    "print(\"rho_l = {:<4.2} %\".format(mard[1]))"
   ]
  },
  {
   "cell_type": "markdown",
   "id": "342179f3-ca31-4ecf-8fa6-b58680ffd697",
   "metadata": {},
   "source": [
    "# Plot resuts\n",
    "\n",
    "We can now use our results and calcuate the phase diagram and have a visual inspection of our parameters."
   ]
  },
  {
   "cell_type": "code",
   "execution_count": 8,
   "id": "9a75d38a-8f73-402a-9558-e5f3582e982d",
   "metadata": {},
   "outputs": [],
   "source": [
    "phase_diagram = PhaseDiagram.pure(eos_from_parameters(fitted_parameters), 250.0 * KELVIN, 201)"
   ]
  },
  {
   "cell_type": "code",
   "execution_count": 9,
   "id": "f8444e44-ca81-42f5-be85-543640490d89",
   "metadata": {},
   "outputs": [
    {
     "data": {
      "image/png": "[encoded data removed]",
      "text/plain": [
       "<Figure size 1080x432 with 2 Axes>"
      ]
     },
     "metadata": {
      "needs_background": "light"
     },
     "output_type": "display_data"
    }
   ],
   "source": [
    "fig, ax = plt.subplots(1, 2, figsize=(15, 6))\n",
    "ax[0].set_title(\"saturation pressure of hexane\")\n",
    "\n",
    "sns.lineplot(\n",
    "    y=phase_diagram.vapor.pressure / BAR,\n",
    "    x=1.0/phase_diagram.vapor.temperature * KELVIN,\n",
    "    ax=ax[0]\n",
    ")\n",
    "sns.scatterplot(\n",
    "    x=1.0 / data_psat[\"temperature / K\"], \n",
    "    y=data_psat[\"vapor_pressure / bar\"], \n",
    "    ax=ax[0],\n",
    "    color=colors[1]\n",
    ")\n",
    "ax[0].set_yscale('log')\n",
    "ax[0].set_xlabel(r'$\\frac{1}{T}$ / K$^{-1}$');\n",
    "ax[0].set_ylabel(r'$p$ / bar');\n",
    "#ax[0].set_xlim()\n",
    "#ax[0].set_ylim()\n",
    "\n",
    "ax[1].set_title(r\"$T$-$\\rho$-diagram of hexane\")\n",
    "sns.lineplot(\n",
    "    y=phase_diagram.vapor.temperature / KELVIN,\n",
    "    x=phase_diagram.vapor.mass_density / KILOGRAM * METER**3,\n",
    "    ax=ax[1],\n",
    "    color=colors[0]\n",
    ")\n",
    "sns.lineplot(\n",
    "    y=phase_diagram.liquid.temperature / KELVIN,\n",
    "    x=phase_diagram.liquid.mass_density / KILOGRAM * METER**3,\n",
    "    ax=ax[1],\n",
    "    color=colors[0]\n",
    ")\n",
    "\n",
    "ax[1].set_ylabel(r'$T$ / K');\n",
    "ax[1].set_xlabel(r'$\\rho$ / kg m$^{-3}$');\n",
    "\n",
    "sns.despine(offset=10)"
   ]
  },
  {
   "cell_type": "markdown",
   "id": "96c715a3-dd27-4afd-a146-c5c516e43ce7",
   "metadata": {},
   "source": [
    "# Summary\n",
    "\n",
    "- The `Estimator` object in FeO allows the collection of `DataSet` objects for adjusting parameters.\n",
    "  - The `Estimator` takes a list of `DataSet` objects, weights, and `Loss` objects as inputs.\n",
    "  - It calculates the cost of a model by evaluating the relative difference between the model's prediction and experimental data in each `DataSet`.\n",
    "- To work with `scipy`'s `least_squares` solver, a cost function is required.\n",
    "  - Two convenient functions, `eos_from_parameters` and `cost`, are built for this purpose.\n",
    "  - `eos_from_parameters` constructs the parameters and equation of state for the current parameter vector.\n",
    "  - `cost` calculates and returns the cost of the current model based on the parameters and estimator.\n",
    "- Initial parameter guesses and parameter bounds are necessary for parameter adjustment.\n",
    "  - Checking multiple combinations of initial parameters is recommended to avoid local optima.\n",
    "- The `Estimator.mean_absolute_relative_difference` method provides the mean absolute relative difference (MARD) for each `DataSet`, without applying losses or weights.\n",
    "  - The resulting MARD does not include the effects of loss functions or weights and does not represent the minimized property."
   ]
  }
 ],
 "metadata": {
  "kernelspec": {
   "display_name": "Python 3 (ipykernel)",
   "language": "python",
   "name": "python3"
  },
  "language_info": {
   "codemirror_mode": {
    "name": "ipython",
    "version": 3
   },
   "file_extension": ".py",
   "mimetype": "text/x-python",
   "name": "python",
   "nbconvert_exporter": "python",
   "pygments_lexer": "ipython3",
   "version": "3.9.12"
  }
 },
 "nbformat": 4,
 "nbformat_minor": 5
}
