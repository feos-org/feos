{
 "cells": [
  {
   "cell_type": "markdown",
   "id": "d2e9adfb-9962-40f7-8265-4861621e757e",
   "metadata": {},
   "source": [
    "# Adjusting correlation parameters for entropy scaling of viscosity"
   ]
  },
  {
   "cell_type": "markdown",
   "id": "4b54ad7f-d2ee-478c-8dd3-aebb2addec81",
   "metadata": {},
   "source": [
    "## Goal\n",
    "\n",
    "- Read in experimental data for viscosity of a pure substance.\n",
    "- Use the `DataSet`, `Loss` and `Estimator` objects to store and work with experimental data.\n",
    "- Define a `cost` function that will be used with `scipy.optimize.least_squares`.\n",
    "- Run the optimization."
   ]
  },
  {
   "cell_type": "code",
   "execution_count": 123,
   "id": "805bdfdb-d397-45a3-8354-082a8d13e4c1",
   "metadata": {},
   "outputs": [],
   "source": [
    "import numpy as np\n",
    "import pandas as pd\n",
    "from scipy.optimize import least_squares\n",
    "import matplotlib.pyplot as plt\n",
    "import seaborn as sns\n",
    "\n",
    "from feos.si import BAR, KELVIN, KILOGRAM, METER, MILLI, PASCAL, SECOND, RGAS\n",
    "from feos.eos import EquationOfState, State\n",
    "from feos.pcsaft import Identifier, PcSaftParameters, PcSaftRecord, PureRecord\n",
    "from feos.eos.estimator import Estimator, Loss, DataSet, Phase\n",
    "\n",
    "sns.set_context('talk')\n",
    "sns.set_palette('Dark2')\n",
    "sns.set_style('ticks')\n",
    "colors = sns.palettes.color_palette('Dark2', 5)\n",
    "plt.rcParams['figure.figsize'] = [12,7]"
   ]
  },
  {
   "cell_type": "markdown",
   "id": "46c5a891-be8b-44d9-8f42-c84adf0cadb4",
   "metadata": {},
   "source": [
    "# `DataSet` objects\n",
    "\n",
    "FeO$_\\text{s}$ provides a range of data structures that facilitate the adjustment of parameters. One such structure is the `DataSet`, which serves as a storage unit for experimental data. When working with a specific model, a `DataSet` enables the evaluation of a `cost` function. How this cost function is defined depends on the property that you want to predict with your equation of state. In this notebook, we use the viscosity where the cost function is the relative difference between the experimental data and the model prediction.\n",
    "\n",
    "A DataSet encompasses the following components:\n",
    "\n",
    "- The `target`: This refers to the experimental data associated with the property for which we intend to adjust parameters. In our case, this is the viscosity.\n",
    "- Other properties: These are necessary for determining the thermodynamic conditions. For instance, temperature is required for vapor pressure calculations, while liquid density computations necessitate temperature and pressure. For the viscosity, we use pressure, temperature and the phase (liquid or vapor) as input.\n",
    "- Each property available in FeO$_\\text{s}$ is accompanied by a corresponding DataSet constructor."
   ]
  },
  {
   "cell_type": "code",
   "execution_count": 97,
   "id": "3c80cd76-4868-4b92-a654-287c7d65b875",
   "metadata": {},
   "outputs": [],
   "source": [
    "# read data from file into DataFrame\n",
    "data = pd.read_csv(\"data/hexane_viscosity.csv\")\n",
    "# map strings for phase to Phase objects\n",
    "phase = [Phase.Vapor if p == 'vapor' else Phase.Liquid for p in data.phase]\n",
    "\n",
    "# construct a `DataSet` for vapor pressure\n",
    "dataset = DataSet.viscosity(\n",
    "    target=data[\"viscosity / mPas\"].values * MILLI * PASCAL * SECOND,\n",
    "    temperature=data[\"temperature / K\"].values * KELVIN,\n",
    "    pressure=data[\"pressure / bar\"].values * BAR,\n",
    "    phase=phase\n",
    ")"
   ]
  },
  {
   "cell_type": "markdown",
   "id": "30f51ce6-a910-4e6f-93d2-7c02d070143e",
   "metadata": {},
   "source": [
    "For `DataSet.viscosity` we have to supply the experimental data for viscosity, temperature, and pressure.\n",
    "\n",
    "Optionally, a list of `Phase` objects can be supplied (via the `phase` argument) in which case not the stable phase is calculated for given temperature and pressure but the possibly instable phase according to the input phase."
   ]
  },
  {
   "cell_type": "markdown",
   "id": "65c565d7-30a4-446a-8e22-0c225edeb88f",
   "metadata": {},
   "source": [
    "# `Estimator` and `Loss` objects"
   ]
  },
  {
   "cell_type": "markdown",
   "id": "89312d88-4eba-4649-af06-a11d673a88b9",
   "metadata": {},
   "source": [
    "To collect the `DataSet` objects for the properties we wish to adjust parameters for, we can assemble them into an `Estimator` object. The `Estimator` requires the following inputs:\n",
    "\n",
    "- A list of `DataSet` objects.\n",
    "- A corresponding list of `weights`, with each weight assigned to a specific `DataSet`.\n",
    "- A list of `losses`, where each `DataSet` has an associated loss function.\n",
    "\n",
    "In our case, there is only a single `DataSet` so we can ignore the `weights`. Since our data comes from a correlation (from the NIST WebBook), we don't need a loss function."
   ]
  },
  {
   "cell_type": "code",
   "execution_count": 98,
   "id": "2e4c20fb-2415-43ac-87c4-68279dcb4e7d",
   "metadata": {},
   "outputs": [],
   "source": [
    "estimator = Estimator(data=[dataset],weights=[1],losses=[Loss.linear()])"
   ]
  },
  {
   "cell_type": "markdown",
   "id": "c49e1f8a-93f5-4981-b7ea-410b651058c8",
   "metadata": {},
   "source": [
    "# Defining a cost function\n",
    "\n",
    "When using `scipy`'s `least_squares` solver, it requires a function to calculate the cost or residuals. The first argument of this function must be the parameter vector that's being optimized. Therefore, it is necessary to define this function in Python before working with `least_squares`.\n",
    "\n",
    "To simplify the process, we create two functions:\n",
    "\n",
    "- `eos_from_parameters`: This function constructs the parameters and equation of state based on the current parameter vector. Since FeO$_\\text{s}$ does not allow mutation of an existing `EquationOfState` object, generating a new equation of state is necessary. We can use this function later to generate the equation of state for the final parameters.\n",
    "- `cost`: Taking the parameters and estimator as inputs, this function builds the equation of state, calculates the cost of the current model, and returns the result.\n",
    "\n",
    "These functions aid in the seamless integration of the solver, allowing for the generation of the equation of state and the calculation of the model's cost."
   ]
  },
  {
   "cell_type": "code",
   "execution_count": 99,
   "id": "8002fc42-49dd-4166-b85e-7c96f567fa8d",
   "metadata": {},
   "outputs": [],
   "source": [
    "# extract PC-SAFT parameters, identifier and molarweight, which are kept constant during optimization\n",
    "hexane = PcSaftParameters.from_json([\"hexane\"], \"../../../parameters/pcsaft/esper2023.json\").pure_records[0]\n",
    "identifier = hexane.identifier\n",
    "saft = hexane.model_record\n",
    "mw = hexane.molarweight\n",
    "m, sigma, epsilon_k = saft.m, saft.sigma, saft.epsilon_k\n",
    "\n",
    "def eos_from_parameters(c):\n",
    "    \"\"\"Returns equation of state (PC-SAFT) for current parameters.\"\"\"\n",
    "    global m, sigma, epsilon_k, identifier, mw\n",
    "    model_record = PcSaftRecord(m, sigma, epsilon_k, viscosity=c)\n",
    "    pure_record = PureRecord(identifier, mw, model_record)\n",
    "    parameters = PcSaftParameters.from_records([pure_record])\n",
    "    return EquationOfState.pcsaft(parameters)\n",
    "\n",
    "def cost(p, estimator):\n",
    "    \"\"\"Calculates cost function for current parameters.\"\"\"\n",
    "    return estimator.cost(eos_from_parameters(p))"
   ]
  },
  {
   "cell_type": "markdown",
   "id": "b3d9f5f9-77ff-4523-a3ec-d7a3c05b829a",
   "metadata": {},
   "source": [
    "# Adjust parameters\n",
    "\n",
    "To begin parameter adjustment, there are two additional requirements:\n",
    "\n",
    "1. An initial guess for the parameters.\n",
    "2. Bounds for the parameters.\n",
    "\n",
    "It is crucial to note that trying multiple combinations of initial parameters is recommended to avoid getting stuck in a local minimum.\n",
    "\n",
    "Once these prerequisites are fulfilled, we can invoke `least_squares` with `args=(estimator, )` as an argument for the `cost` function. Please note that the tuple syntax is necessary in this case."
   ]
  },
  {
   "cell_type": "code",
   "execution_count": 100,
   "id": "1309b82d-dd20-4e9c-987c-03167cf4a7b8",
   "metadata": {},
   "outputs": [
    {
     "name": "stdout",
     "output_type": "stream",
     "text": [
      "   Iteration     Total nfev        Cost      Cost reduction    Step norm     Optimality   \n",
      "       0              1         4.7163e-03                                    6.45e-03    \n",
      "       1              2         4.5509e-04      4.26e-03       1.00e+00       2.23e-03    \n",
      "       2              3         1.6840e-05      4.38e-04       1.75e+00       2.57e-04    \n",
      "       3              4         1.6086e-07      1.67e-05       1.21e+00       1.39e-05    \n",
      "       4              5         8.4360e-08      7.65e-08       2.34e-01       7.53e-08    \n",
      "       5              6         8.4357e-08      3.66e-12       4.59e-03       2.38e-11    \n",
      "`gtol` termination condition is satisfied.\n",
      "Function evaluations 6, initial cost 4.7163e-03, final cost 8.4357e-08, first-order optimality 2.38e-11.\n",
      "CPU times: user 274 ms, sys: 0 ns, total: 274 ms\n",
      "Wall time: 93.2 ms\n"
     ]
    }
   ],
   "source": [
    "%%time\n",
    "initial_parameters = [0.0]*4 \n",
    "fitted_parameters = least_squares(cost, initial_parameters, args=(estimator,), verbose=2).x"
   ]
  },
  {
   "cell_type": "markdown",
   "id": "c7810262-d26d-4a5a-8d3b-5b1d217a9eb5",
   "metadata": {},
   "source": [
    "To provide statistics during the adjustment process, we can utilize the `verbose=2` option, which prints relevant information. However, our primary interest lies in obtaining the optimal parameters. These parameters can be accessed from the `x` field of the `OptimizeResult` object generated by the `least_squares` function.\n",
    "\n",
    "Once the adjustment is complete, we can investigate the results. A quick and straightforward method for analyzing the optimization results is to use the `Estimator.mean_absolute_relative_difference` method. This method returns the mean absolute relative difference (MARD) for each `DataSet`, without applying losses or weights. It is important to exercise caution when dealing with `NaN` values, as any predictions resulting in `NaN` are filtered out and thus not immediately visible in the reported values.\n",
    "\n",
    "It's essential to note that the resulting MARD **does not include** an evaluation of the loss functions or weights. Therefore, it may not equal the property that is minimized in the optimization process."
   ]
  },
  {
   "cell_type": "code",
   "execution_count": 101,
   "id": "b266f557-40f5-43d6-82eb-f5c393a3b464",
   "metadata": {},
   "outputs": [
    {
     "name": "stdout",
     "output_type": "stream",
     "text": [
      "Adjusted correlation parameters\n",
      "c    = [-1.20010418 -2.15742129  0.24509735  0.21828781]\n",
      "MARD = 0.2038 %\n"
     ]
    }
   ],
   "source": [
    "print(\"Adjusted correlation parameters\")\n",
    "print(\"c    = {}\".format(fitted_parameters))\n",
    "\n",
    "mard = estimator.mean_absolute_relative_difference(eos_from_parameters(fitted_parameters)) * 100\n",
    "print(\"MARD = {:<5.4} %\".format(mard[0]))"
   ]
  },
  {
   "cell_type": "markdown",
   "id": "342179f3-ca31-4ecf-8fa6-b58680ffd697",
   "metadata": {},
   "source": [
    "# Plot resuts\n",
    "\n",
    "We can now use our results and calcuate the phase diagram and have a visual inspection of our parameters. Here, we calculate the reduced logarithmic viscosity to use the entropy scaled depiction."
   ]
  },
  {
   "cell_type": "code",
   "execution_count": 106,
   "id": "4569e7a0-54ec-4fb7-b735-1dbb4dca268a",
   "metadata": {},
   "outputs": [],
   "source": [
    "fitted_eos = eos_from_parameters(fitted_parameters)\n",
    "results = []\n",
    "for _, (t, p, viscosity, phase) in data.iterrows():\n",
    "    s = State(fitted_eos, temperature=t*KELVIN, pressure=p*BAR, density_initialization=phase)\n",
    "    results.append({\n",
    "        's_res': s.molar_entropy(Contributions.Residual) / RGAS / m,\n",
    "        'ln_eta_nist': np.log(viscosity * MILLI * PASCAL * SECOND / s.viscosity_reference()),\n",
    "        'ln_eta_saft': s.ln_viscosity_reduced(),\n",
    "        'temperature': t,\n",
    "        'pressure': p,\n",
    "    })\n",
    "    \n",
    "# collect into DataFrame\n",
    "results_df = pd.DataFrame(results)"
   ]
  },
  {
   "cell_type": "code",
   "execution_count": 124,
   "id": "90dca269-a213-4b2b-aff2-f006b4f522e2",
   "metadata": {},
   "outputs": [
    {
     "data": {
      "image/png": "[encoded data removed]",
      "text/plain": [
       "<Figure size 864x504 with 1 Axes>"
      ]
     },
     "metadata": {},
     "output_type": "display_data"
    }
   ],
   "source": [
    "sns.scatterplot(\n",
    "    data=results_df, x='s_res', y='ln_eta_nist', \n",
    "    color=colors[0], label='NIST'\n",
    ")\n",
    "sns.lineplot(\n",
    "    data=results_df, x='s_res', y='ln_eta_saft', \n",
    "    color=colors[1], label='entropy scaling'\n",
    ")\n",
    "\n",
    "plt.xlabel(r\"$s^\\text{res}(T, \\rho) / R / m$\")\n",
    "plt.ylabel(r\"$\\ln\\frac{\\eta}{\\eta_\\text{CE}}$\")\n",
    "plt.legend(frameon=False);"
   ]
  },
  {
   "cell_type": "markdown",
   "id": "96c715a3-dd27-4afd-a146-c5c516e43ce7",
   "metadata": {},
   "source": [
    "# Summary\n",
    "\n",
    "- The `Estimator` object in FeO$_\\text{s}$ allows the collection of `DataSet` objects for adjusting parameters.\n",
    "  - The `Estimator` takes a list of `DataSet` objects, weights, and `Loss` objects as inputs.\n",
    "  - For `DataSet.viscosity`, it calculates the cost of a model by evaluating the relative difference between the model's prediction and experimental data in each `DataSet`.\n",
    "- To work with `scipy`'s `least_squares` solver, a cost function is required.\n",
    "  - Two functions, `eos_from_parameters` and `cost`, are built for this purpose.\n",
    "  - `eos_from_parameters` constructs the parameters and equation of state for the current parameter vector.\n",
    "  - `cost` calculates and returns the cost of the current model based on the parameters and estimator.\n",
    "- Initial parameter guesses and parameter bounds are necessary for parameter adjustment.\n",
    "  - Checking multiple combinations of initial parameters is recommended to avoid local minima (not shown in this notebook).\n",
    "- For `DataSet.viscosity`, the `Estimator.mean_absolute_relative_difference` method provides the mean absolute relative difference (MARD) without applying weights or losses."
   ]
  }
 ],
 "metadata": {
  "kernelspec": {
   "display_name": "Python 3 (ipykernel)",
   "language": "python",
   "name": "python3"
  },
  "language_info": {
   "codemirror_mode": {
    "name": "ipython",
    "version": 3
   },
   "file_extension": ".py",
   "mimetype": "text/x-python",
   "name": "python",
   "nbconvert_exporter": "python",
   "pygments_lexer": "ipython3",
   "version": "3.9.12"
  }
 },
 "nbformat": 4,
 "nbformat_minor": 5
}
