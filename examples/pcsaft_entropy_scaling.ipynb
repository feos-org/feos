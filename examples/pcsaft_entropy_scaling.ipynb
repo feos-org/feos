{
 "cells": [
  {
   "cell_type": "markdown",
   "metadata": {},
   "source": [
    "# Entropy scaling of pure substances\n",
    "\n",
    "## Goal\n",
    "\n",
    "- Learn how to compute dynamic properties (viscosity in this example)\n",
    "- Compare substance specific parameters against homo-segmented group contribution\n",
    "- Compare viscosity to NIST data (generated in NIST's [webapp](https://webbook.nist.gov/chemistry/fluid/))\n",
    "\n",
    "## Import needed packages"
   ]
  },
  {
   "cell_type": "code",
   "execution_count": 1,
   "metadata": {},
   "outputs": [],
   "source": [
    "from feos.si import *\n",
    "from feos.pcsaft import *\n",
    "from feos.eos import *\n",
    "import matplotlib.pyplot as plt\n",
    "import seaborn as sns\n",
    "import numpy as np\n",
    "import pandas as pd\n",
    "\n",
    "sns.set_context(\"talk\")\n",
    "sns.set_palette(\"Dark2\")\n",
    "sns.set_style(\"ticks\")"
   ]
  },
  {
   "cell_type": "markdown",
   "metadata": {},
   "source": [
    "## PC-SAFT (individual component parameters)\n",
    "\n",
    "First, we read parameters adjusted to hexane saturation pressure and liquid densities (for the regular SAFT parameters) and to viscosity (for correlation). "
   ]
  },
  {
   "cell_type": "code",
   "execution_count": 2,
   "metadata": {},
   "outputs": [
    {
     "data": {
      "text/markdown": [
       "|component|molarweight|$m$|$\\sigma$|$\\varepsilon$|$\\mu$|$Q$|$\\kappa_{AB}$|$\\varepsilon_{AB}$|$N_A$|$N_B$|\n",
       "|-|-|-|-|-|-|-|-|-|-|-|\n",
       "|hexane|86.177|3.0576|3.7983|236.77|0|0|0|0|1|1|"
      ],
      "text/plain": [
       "PcSaftParameters(\n",
       "\tmolarweight=[86.177]\n",
       "\tm=[3.0576]\n",
       "\tsigma=[3.7983]\n",
       "\tepsilon_k=[236.77]\n",
       ")"
      ]
     },
     "execution_count": 2,
     "metadata": {},
     "output_type": "execute_result"
    }
   ],
   "source": [
    "parameters = PcSaftParameters.from_json(\n",
    "    [\"hexane\"], \"../parameters/pcsaft/loetgeringlin2018.json\"\n",
    ")\n",
    "parameters"
   ]
  },
  {
   "cell_type": "markdown",
   "metadata": {},
   "source": [
    "## PC-SAFT homo-GC\n",
    "\n",
    "For transparency, we build parameters by hand. You can read a detailed explanation about PC-SAFT parameters in the \"working with parameters\" tutorial."
   ]
  },
  {
   "cell_type": "code",
   "execution_count": 3,
   "metadata": {},
   "outputs": [],
   "source": [
    "hexane = ChemicalRecord(\n",
    "    identifier=Identifier(\n",
    "        cas=\"110-54-3\",\n",
    "        name=\"hexane\",\n",
    "        iupac_name=\"hexane\",\n",
    "        smiles=\"CCCCCC\",\n",
    "        inchi=\"InChI=1/C6H14/c1-3-5-6-4-2/h3-6H2,1-2H3\",\n",
    "        formula=\"C6H14\"\n",
    "    ),\n",
    "    segments=['CH3', 'CH2', 'CH2', 'CH2', 'CH2', 'CH3']\n",
    ")\n",
    "\n",
    "ch3 = SegmentRecord(\n",
    "    'CH3', \n",
    "    molarweight=15.0345, \n",
    "    model_record=PcSaftRecord(\n",
    "        m=0.61198, sigma=3.7202, epsilon_k=229.90,\n",
    "        viscosity=[-8.6878e-3, -1.7951e-1, -12.2359e-2, -0.01245]\n",
    "    )\n",
    ")\n",
    "\n",
    "ch2 = SegmentRecord(\n",
    "    'CH2', \n",
    "    molarweight=14.02658, \n",
    "    model_record=PcSaftRecord(\n",
    "        m=0.45606, sigma=3.8900, epsilon_k=239.01,\n",
    "        viscosity=[-0.9194e-3, -1.3316e-1, -4.2657e-2, -0.01245]\n",
    "    )\n",
    ")\n",
    "\n",
    "segment_records = {r.identifier: r for r in [ch3, ch2]}\n",
    "\n",
    "def from_segments(chemical_record, segment_records):\n",
    "    m = 0\n",
    "    s3 = 0\n",
    "    eps = 0\n",
    "    mw = 0\n",
    "    viscosity = np.zeros(4)\n",
    "    for s in chemical_record.segments:\n",
    "        segment = segment_records[s]\n",
    "        mw += segment.molarweight\n",
    "        m += segment.model_record.m\n",
    "        s3 += segment.model_record.m * segment.model_record.sigma**3\n",
    "        eps += segment.model_record.m * segment.model_record.epsilon_k\n",
    "        v = segment.model_record.viscosity\n",
    "        viscosity += np.array([\n",
    "            v[0] * segment.model_record.m * segment.model_record.sigma**3, \n",
    "            v[1] * segment.model_record.m * segment.model_record.sigma**3, \n",
    "            v[2], \n",
    "            v[3]\n",
    "        ])\n",
    "    viscosity[1] /= s3**0.45\n",
    "    \n",
    "    # We have to shift the \"A\" parameter because the implemented reference\n",
    "    # is eta_CE according to eq. 3 of Loetgerin-Lin (2018)\n",
    "    # A = A(GC) + log(sqrt(1/m)) = -log(m)/2\n",
    "    viscosity[0] += np.log(np.sqrt(1/m))\n",
    "    saft_record = PcSaftRecord(m, np.cbrt(s3 / m), eps / m, viscosity=viscosity)\n",
    "    return PureRecord(chemical_record.identifier, mw, saft_record)"
   ]
  },
  {
   "cell_type": "markdown",
   "metadata": {},
   "source": [
    "### Build equations of state\n",
    "\n",
    "We instantiate an equation of state for each parameter set. `saft` uses substance specific parameters while `saft_gc` uses homo GC parameters both for SAFT as well as correlation parameters."
   ]
  },
  {
   "cell_type": "code",
   "execution_count": 4,
   "metadata": {},
   "outputs": [],
   "source": [
    "parameters_gc = PcSaftParameters.new_pure(from_segments(hexane, segment_records))\n",
    "saft_gc = EquationOfState.pcsaft(parameters_gc)\n",
    "saft = EquationOfState.pcsaft(parameters)\n",
    "\n",
    "m_gc = parameters_gc.pure_records[0].model_record.m\n",
    "m = parameters.pure_records[0].model_record.m"
   ]
  },
  {
   "cell_type": "markdown",
   "metadata": {},
   "source": [
    "### Compare parameters"
   ]
  },
  {
   "cell_type": "code",
   "execution_count": 5,
   "metadata": {},
   "outputs": [
    {
     "name": "stdout",
     "output_type": "stream",
     "text": [
      "Substance specific:  [-1.2035, -2.5958, -0.4816, -0.0865]\n",
      "Segments          :  [-1.2034921145837285, -2.536713016411593, -0.415346, -0.0747]\n"
     ]
    }
   ],
   "source": [
    "print(\"Substance specific: \", parameters.pure_records[0].model_record.viscosity)\n",
    "print(\"Segments          : \", parameters_gc.pure_records[0].model_record.viscosity)"
   ]
  },
  {
   "cell_type": "markdown",
   "metadata": {},
   "source": [
    "## Compare methods to NIST data (T = 450 K)\n",
    "\n",
    "We will compute the residual entropy, viscosity and logarithmic reduced viscosity and compare to literature data (for which the entropy is computed with parameters fitted to the component, not GC)."
   ]
  },
  {
   "cell_type": "code",
   "execution_count": 6,
   "metadata": {},
   "outputs": [
    {
     "data": {
      "text/html": [
       "<div>\n",
       "<style scoped>\n",
       "    .dataframe tbody tr th:only-of-type {\n",
       "        vertical-align: middle;\n",
       "    }\n",
       "\n",
       "    .dataframe tbody tr th {\n",
       "        vertical-align: top;\n",
       "    }\n",
       "\n",
       "    .dataframe thead th {\n",
       "        text-align: right;\n",
       "    }\n",
       "</style>\n",
       "<table border=\"1\" class=\"dataframe\">\n",
       "  <thead>\n",
       "    <tr style=\"text-align: right;\">\n",
       "      <th></th>\n",
       "      <th>Temperature (K)</th>\n",
       "      <th>Pressure (MPa)</th>\n",
       "      <th>Density (mol/m3)</th>\n",
       "      <th>Volume (m3/mol)</th>\n",
       "      <th>Internal Energy (kJ/mol)</th>\n",
       "      <th>Enthalpy (kJ/mol)</th>\n",
       "      <th>Entropy (J/mol*K)</th>\n",
       "      <th>Cv (J/mol*K)</th>\n",
       "      <th>Cp (J/mol*K)</th>\n",
       "      <th>Sound Spd. (m/s)</th>\n",
       "      <th>Joule-Thomson (K/MPa)</th>\n",
       "      <th>Viscosity (Pa*s)</th>\n",
       "      <th>Therm. Cond. (W/m*K)</th>\n",
       "      <th>Phase</th>\n",
       "    </tr>\n",
       "  </thead>\n",
       "  <tbody>\n",
       "    <tr>\n",
       "      <th>0</th>\n",
       "      <td>450.0</td>\n",
       "      <td>0.01</td>\n",
       "      <td>2.6774</td>\n",
       "      <td>0.373500</td>\n",
       "      <td>45.229</td>\n",
       "      <td>48.964</td>\n",
       "      <td>154.33</td>\n",
       "      <td>193.37</td>\n",
       "      <td>201.76</td>\n",
       "      <td>212.47</td>\n",
       "      <td>11.204</td>\n",
       "      <td>0.000009</td>\n",
       "      <td>0.029374</td>\n",
       "      <td>vapor</td>\n",
       "    </tr>\n",
       "    <tr>\n",
       "      <th>1</th>\n",
       "      <td>450.0</td>\n",
       "      <td>0.11</td>\n",
       "      <td>29.9840</td>\n",
       "      <td>0.033351</td>\n",
       "      <td>45.065</td>\n",
       "      <td>48.734</td>\n",
       "      <td>134.03</td>\n",
       "      <td>193.94</td>\n",
       "      <td>203.09</td>\n",
       "      <td>209.04</td>\n",
       "      <td>11.510</td>\n",
       "      <td>0.000009</td>\n",
       "      <td>0.029276</td>\n",
       "      <td>vapor</td>\n",
       "    </tr>\n",
       "    <tr>\n",
       "      <th>2</th>\n",
       "      <td>450.0</td>\n",
       "      <td>0.21</td>\n",
       "      <td>58.3290</td>\n",
       "      <td>0.017144</td>\n",
       "      <td>44.896</td>\n",
       "      <td>48.496</td>\n",
       "      <td>128.27</td>\n",
       "      <td>194.53</td>\n",
       "      <td>204.55</td>\n",
       "      <td>205.48</td>\n",
       "      <td>11.842</td>\n",
       "      <td>0.000009</td>\n",
       "      <td>0.029196</td>\n",
       "      <td>vapor</td>\n",
       "    </tr>\n",
       "    <tr>\n",
       "      <th>3</th>\n",
       "      <td>450.0</td>\n",
       "      <td>0.31</td>\n",
       "      <td>87.8260</td>\n",
       "      <td>0.011386</td>\n",
       "      <td>44.720</td>\n",
       "      <td>48.249</td>\n",
       "      <td>124.64</td>\n",
       "      <td>195.15</td>\n",
       "      <td>206.15</td>\n",
       "      <td>201.76</td>\n",
       "      <td>12.207</td>\n",
       "      <td>0.000009</td>\n",
       "      <td>0.029136</td>\n",
       "      <td>vapor</td>\n",
       "    </tr>\n",
       "    <tr>\n",
       "      <th>4</th>\n",
       "      <td>450.0</td>\n",
       "      <td>0.41</td>\n",
       "      <td>118.6100</td>\n",
       "      <td>0.008431</td>\n",
       "      <td>44.536</td>\n",
       "      <td>47.992</td>\n",
       "      <td>121.90</td>\n",
       "      <td>195.80</td>\n",
       "      <td>207.93</td>\n",
       "      <td>197.87</td>\n",
       "      <td>12.608</td>\n",
       "      <td>0.000010</td>\n",
       "      <td>0.029098</td>\n",
       "      <td>vapor</td>\n",
       "    </tr>\n",
       "  </tbody>\n",
       "</table>\n",
       "</div>"
      ],
      "text/plain": [
       "   Temperature (K)  Pressure (MPa)  Density (mol/m3)  Volume (m3/mol)  \\\n",
       "0            450.0            0.01            2.6774         0.373500   \n",
       "1            450.0            0.11           29.9840         0.033351   \n",
       "2            450.0            0.21           58.3290         0.017144   \n",
       "3            450.0            0.31           87.8260         0.011386   \n",
       "4            450.0            0.41          118.6100         0.008431   \n",
       "\n",
       "   Internal Energy (kJ/mol)  Enthalpy (kJ/mol)  Entropy (J/mol*K)  \\\n",
       "0                    45.229             48.964             154.33   \n",
       "1                    45.065             48.734             134.03   \n",
       "2                    44.896             48.496             128.27   \n",
       "3                    44.720             48.249             124.64   \n",
       "4                    44.536             47.992             121.90   \n",
       "\n",
       "   Cv (J/mol*K)  Cp (J/mol*K)  Sound Spd. (m/s)  Joule-Thomson (K/MPa)  \\\n",
       "0        193.37        201.76            212.47                 11.204   \n",
       "1        193.94        203.09            209.04                 11.510   \n",
       "2        194.53        204.55            205.48                 11.842   \n",
       "3        195.15        206.15            201.76                 12.207   \n",
       "4        195.80        207.93            197.87                 12.608   \n",
       "\n",
       "   Viscosity (Pa*s)  Therm. Cond. (W/m*K)  Phase  \n",
       "0          0.000009              0.029374  vapor  \n",
       "1          0.000009              0.029276  vapor  \n",
       "2          0.000009              0.029196  vapor  \n",
       "3          0.000009              0.029136  vapor  \n",
       "4          0.000010              0.029098  vapor  "
      ]
     },
     "execution_count": 6,
     "metadata": {},
     "output_type": "execute_result"
    }
   ],
   "source": [
    "literature = pd.read_csv(\"data/hexane_nist.csv\", delimiter=\"\\t\")\n",
    "literature.head()"
   ]
  },
  {
   "cell_type": "markdown",
   "metadata": {},
   "source": [
    "We loop through experimental data, read temperature, pressure and the phase (liquid or vapor) and generate `State` objects for the experimental conditions. Then, we compute the residual molar entropy and the logarithmic reduced viscosity."
   ]
  },
  {
   "cell_type": "code",
   "execution_count": 7,
   "metadata": {},
   "outputs": [
    {
     "data": {
      "text/html": [
       "<div>\n",
       "<style scoped>\n",
       "    .dataframe tbody tr th:only-of-type {\n",
       "        vertical-align: middle;\n",
       "    }\n",
       "\n",
       "    .dataframe tbody tr th {\n",
       "        vertical-align: top;\n",
       "    }\n",
       "\n",
       "    .dataframe thead th {\n",
       "        text-align: right;\n",
       "    }\n",
       "</style>\n",
       "<table border=\"1\" class=\"dataframe\">\n",
       "  <thead>\n",
       "    <tr style=\"text-align: right;\">\n",
       "      <th></th>\n",
       "      <th>pressure</th>\n",
       "      <th>s*_res/m</th>\n",
       "      <th>viscosity</th>\n",
       "      <th>ln_viscosity_reduced</th>\n",
       "      <th>source</th>\n",
       "      <th>rel.dev.</th>\n",
       "    </tr>\n",
       "  </thead>\n",
       "  <tbody>\n",
       "    <tr>\n",
       "      <th>0</th>\n",
       "      <td>0.01</td>\n",
       "      <td>-0.000526</td>\n",
       "      <td>0.000009</td>\n",
       "      <td>-1.170829</td>\n",
       "      <td>literature</td>\n",
       "      <td>0.000000</td>\n",
       "    </tr>\n",
       "    <tr>\n",
       "      <th>1</th>\n",
       "      <td>0.01</td>\n",
       "      <td>-0.000526</td>\n",
       "      <td>0.000009</td>\n",
       "      <td>-1.202136</td>\n",
       "      <td>saft</td>\n",
       "      <td>-3.082130</td>\n",
       "    </tr>\n",
       "    <tr>\n",
       "      <th>2</th>\n",
       "      <td>0.01</td>\n",
       "      <td>-0.000531</td>\n",
       "      <td>0.000009</td>\n",
       "      <td>-1.202146</td>\n",
       "      <td>homo-GC</td>\n",
       "      <td>-4.154342</td>\n",
       "    </tr>\n",
       "    <tr>\n",
       "      <th>3</th>\n",
       "      <td>0.11</td>\n",
       "      <td>-0.005862</td>\n",
       "      <td>0.000009</td>\n",
       "      <td>-1.172124</td>\n",
       "      <td>literature</td>\n",
       "      <td>0.000000</td>\n",
       "    </tr>\n",
       "    <tr>\n",
       "      <th>4</th>\n",
       "      <td>0.11</td>\n",
       "      <td>-0.005862</td>\n",
       "      <td>0.000009</td>\n",
       "      <td>-1.188299</td>\n",
       "      <td>saft</td>\n",
       "      <td>-1.604523</td>\n",
       "    </tr>\n",
       "  </tbody>\n",
       "</table>\n",
       "</div>"
      ],
      "text/plain": [
       "   pressure  s*_res/m  viscosity  ln_viscosity_reduced      source  rel.dev.\n",
       "0      0.01 -0.000526   0.000009             -1.170829  literature  0.000000\n",
       "1      0.01 -0.000526   0.000009             -1.202136        saft -3.082130\n",
       "2      0.01 -0.000531   0.000009             -1.202146     homo-GC -4.154342\n",
       "3      0.11 -0.005862   0.000009             -1.172124  literature  0.000000\n",
       "4      0.11 -0.005862   0.000009             -1.188299        saft -1.604523"
      ]
     },
     "execution_count": 7,
     "metadata": {},
     "output_type": "execute_result"
    }
   ],
   "source": [
    "results = []\n",
    "for i, row in literature.iterrows():\n",
    "    t = row['Temperature (K)'] * KELVIN\n",
    "    p = row['Pressure (MPa)'] * MEGA * PASCAL\n",
    "    viscosity_lit = row['Viscosity (Pa*s)'] * PASCAL * SECOND\n",
    "    \n",
    "    # literature\n",
    "    state = State(saft, temperature=t, pressure=p, total_moles=MOL, density_initialization=row.Phase)\n",
    "    s = state.molar_entropy(Contributions.ResidualNvt)\n",
    "    results.append(\n",
    "        {\n",
    "            \"pressure\": p / MEGA / PASCAL,\n",
    "            \"s*_res/m\": s / RGAS / m,\n",
    "            \"viscosity\": viscosity_lit / (PASCAL * SECOND),\n",
    "            \"ln_viscosity_reduced\": np.log(viscosity_lit/ state.viscosity_reference()),\n",
    "            \"source\": \"literature\",\n",
    "            \"rel.dev.\": 0.0\n",
    "        }\n",
    "    )\n",
    "    \n",
    "    # individual parameters\n",
    "    viscosity = state.viscosity()\n",
    "    ln_viscosity_reduced = state.ln_viscosity_reduced()\n",
    "    results.append(\n",
    "        {\n",
    "            \"pressure\": p / MEGA / PASCAL,\n",
    "            \"s*_res/m\": s / RGAS / m,\n",
    "            \"viscosity\": viscosity / (PASCAL * SECOND),\n",
    "            \"ln_viscosity_reduced\": ln_viscosity_reduced,\n",
    "            \"source\": \"saft\",\n",
    "            \"rel.dev.\": (viscosity - viscosity_lit) / viscosity_lit * 100\n",
    "        }\n",
    "    )\n",
    "    \n",
    "    # homo GC\n",
    "    state = State(saft_gc, temperature=t, pressure=p, total_moles=MOL)\n",
    "    s = state.molar_entropy(Contributions.ResidualNvt)\n",
    "    viscosity = state.viscosity()\n",
    "    ln_viscosity_reduced = state.ln_viscosity_reduced()\n",
    "    results.append(\n",
    "        {\n",
    "            \"pressure\": p / MEGA / PASCAL,\n",
    "            \"s*_res/m\": s / RGAS / m_gc,\n",
    "            \"viscosity\": viscosity / (PASCAL * SECOND),\n",
    "            \"ln_viscosity_reduced\": ln_viscosity_reduced,\n",
    "            \"source\": \"homo-GC\",\n",
    "            \"rel.dev.\": (viscosity - viscosity_lit) / viscosity_lit * 100\n",
    "        }\n",
    "    )\n",
    "\n",
    "# gather everything in a data frame\n",
    "data = pd.DataFrame(results)\n",
    "data.head()"
   ]
  },
  {
   "cell_type": "code",
   "execution_count": 8,
   "metadata": {},
   "outputs": [
    {
     "data": {
      "image/png": "[encoded data removed]",
      "text/plain": [
       "<Figure size 1080x288 with 2 Axes>"
      ]
     },
     "metadata": {},
     "output_type": "display_data"
    }
   ],
   "source": [
    "fig, ax = plt.subplots(1, 2, figsize=(15, 4), gridspec_kw={'wspace': 0.35})\n",
    "sns.scatterplot(data=data, x='s*_res/m', y='ln_viscosity_reduced', hue='source', ax=ax[0]);\n",
    "ax[0].set_xlabel(r\"$\\frac{s_{res}}{R \\cdot m}$\", fontsize=22)\n",
    "ax[0].set_ylabel(r\"$\\ln\\left(\\frac{\\eta}{\\eta^{CE}}\\right)$\", fontsize=22);\n",
    "ax[0].legend(frameon=False)\n",
    "\n",
    "sns.lineplot(data=data, x='pressure', y='viscosity', hue='source', ax=ax[1]);\n",
    "ax[1].set_xlabel(r\"$p$ / MPa\", fontsize=22)\n",
    "ax[1].set_ylabel(r\"$\\eta$ / Pa*s\", fontsize=22);\n",
    "ax[1].legend(frameon=False)\n",
    "sns.despine()"
   ]
  },
  {
   "cell_type": "code",
   "execution_count": 9,
   "metadata": {},
   "outputs": [
    {
     "name": "stdout",
     "output_type": "stream",
     "text": [
      "Viscosity hexane compared to NIST data at T = 450 K\n",
      "MARD (individual): 0.81 %\n",
      "MARD (homo-GC)   : 3.70 %\n"
     ]
    }
   ],
   "source": [
    "# check mean absolute relative deviation in percent\n",
    "mard = data.groupby('source')['rel.dev.'].apply(lambda x: np.mean(np.abs(x)))\n",
    "print('Viscosity hexane compared to NIST data at T = 450 K')\n",
    "print(f'MARD (individual): {mard.saft:.2f} %')\n",
    "print(f'MARD (homo-GC)   : {mard[\"homo-GC\"]:.2f} %')"
   ]
  }
 ],
 "metadata": {
  "kernelspec": {
   "display_name": "Python 3",
   "language": "python",
   "name": "python3"
  },
  "language_info": {
   "codemirror_mode": {
    "name": "ipython",
    "version": 3
   },
   "file_extension": ".py",
   "mimetype": "text/x-python",
   "name": "python",
   "nbconvert_exporter": "python",
   "pygments_lexer": "ipython3",
   "version": "3.8.6"
  }
 },
 "nbformat": 4,
 "nbformat_minor": 5
}
