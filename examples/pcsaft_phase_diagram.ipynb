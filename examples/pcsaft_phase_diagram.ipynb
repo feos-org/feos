{
 "cells": [
  {
   "cell_type": "markdown",
   "metadata": {},
   "source": [
    "# Pure substance phase diagrams\n",
    "\n",
    "## Goal of this notebook\n",
    "\n",
    "- Learn how to generate and work with phase diagrams.\n",
    "- Learn what `PhaseEquilibrium` objects are and how to use them."
   ]
  },
  {
   "cell_type": "code",
   "execution_count": 1,
   "metadata": {},
   "outputs": [],
   "source": [
    "from feos.pcsaft import *\n",
    "from feos.eos import *\n",
    "\n",
    "import si_units as si\n",
    "import numpy as np\n",
    "import pandas as pd\n",
    "import matplotlib.pyplot as plt\n",
    "import seaborn as sns\n",
    "\n",
    "sns.set_context('talk')\n",
    "sns.set_palette('Dark2')\n",
    "sns.set_style('ticks')\n",
    "colors = sns.palettes.color_palette('Dark2', 8)"
   ]
  },
  {
   "cell_type": "markdown",
   "metadata": {},
   "source": [
    "## Read parameters from json for a single substance and generate `PcSaft` object"
   ]
  },
  {
   "cell_type": "code",
   "execution_count": 2,
   "metadata": {},
   "outputs": [
    {
     "data": {
      "text/markdown": [
       "|component|molarweight|$m$|$\\sigma$|$\\varepsilon$|$\\mu$|$Q$|$\\kappa_{AB}$|$\\varepsilon_{AB}$|$N_A$|$N_B$|$N_C$|\n",
       "|-|-|-|-|-|-|-|-|-|-|-|-|\n",
       "|hexane|86.177|3.0576|3.7983|236.77|-|-|-|-|0|0|0|"
      ],
      "text/plain": [
       "<PcSaftParameters at 0x7f4f29144650>"
      ]
     },
     "execution_count": 2,
     "metadata": {},
     "output_type": "execute_result"
    }
   ],
   "source": [
    "parameters = PcSaftParameters.from_json(\n",
    "    ['hexane'], \n",
    "    '../parameters/pcsaft/gross2001.json'\n",
    ")\n",
    "parameters"
   ]
  },
  {
   "cell_type": "code",
   "execution_count": 3,
   "metadata": {},
   "outputs": [],
   "source": [
    "pcsaft = EquationOfState.pcsaft(parameters)"
   ]
  },
  {
   "cell_type": "markdown",
   "metadata": {
    "tags": []
   },
   "source": [
    "## The `PhaseDiagram` object\n",
    "\n",
    "A `PhaseDiagram` object contains multiple thermodyanmic states at phase equilibrium.\n",
    "**For a single substance** it can be constructed via the `PhaseDiagram.pure` method by providing \n",
    "\n",
    "- an equation of state,\n",
    "- the minimum temperature, and\n",
    "- the number of points to compute.\n",
    "\n",
    "The points are evenly distributed between the defined minimum temperature and the critical temperature which is either computed (default) or can be provided via the `critical_temperature` argument.\n",
    "\n",
    "Furthermore, we can define options for the numerics:\n",
    "- `max_iter` to define the maximum number of iterations for the phase equilibrium calculations, and\n",
    "- `tol` to set the tolerance used for deterimation of phase equilibria.\n",
    "\n",
    "A `Verbosity` object can be provided via the `verbosity` argument to print intermediate calculations to the screen.\n",
    "\n",
    "Starting from the minimum temperature, phase equilibria are computed in sequence using prior results (i.e. at prior temperature) as input for the next iteration."
   ]
  },
  {
   "cell_type": "code",
   "execution_count": 4,
   "metadata": {},
   "outputs": [],
   "source": [
    "phase_diagram = PhaseDiagram.pure(pcsaft, min_temperature=200*si.KELVIN, npoints=501)"
   ]
  },
  {
   "cell_type": "code",
   "execution_count": 5,
   "metadata": {},
   "outputs": [
    {
     "data": {
      "text/markdown": [
       "|temperature|density|\n",
       "|-|-|\n",
       "|200.00000 K|12.21572 mmol/m³|"
      ],
      "text/plain": [
       "T = 200.00000 K, ρ = 12.21572 mmol/m³"
      ]
     },
     "execution_count": 5,
     "metadata": {},
     "output_type": "execute_result"
    }
   ],
   "source": [
    "phase_diagram.vapor[0]"
   ]
  },
  {
   "cell_type": "markdown",
   "metadata": {},
   "source": [
    "### Stored information\n",
    "\n",
    "A `PhaseDiagram` object contains the following *fields*:\n",
    "\n",
    "- `states`: a list (with length of `npoints`) of `PhaseEquilibrium` objects at the different temperatures,\n",
    "- `vapor` and `liquid`: so-called `StateVec` objects that can be used to compute properties for the vapor and liquid phase, respectively.\n",
    "\n",
    "The `to_dict` *method* can be used to conveniently generate a `pandas.DataFrame` object (see below)."
   ]
  },
  {
   "cell_type": "markdown",
   "metadata": {},
   "source": [
    "### Building a `pandas.DataFrame`: the `to_dict` method\n",
    "\n",
    "\n",
    "The `PhaseDiagramPure` object contains some physical properties (such as densities, temperatures and pressures) as well as the `PhaseEquilibrium` objects at each temperature.\n",
    "\n",
    "Before we take a look at these objects, a useful tool when working with phase diagrams is the `to_dict` method. It generates a Python dictionary of some properties (with hard-coded units, see the docstring of `to_dict`). This dictionary can readily be used to generate a `pandas.DataFrame`."
   ]
  },
  {
   "cell_type": "code",
   "execution_count": 6,
   "metadata": {},
   "outputs": [
    {
     "data": {
      "text/html": [
       "<div>\n",
       "<style scoped>\n",
       "    .dataframe tbody tr th:only-of-type {\n",
       "        vertical-align: middle;\n",
       "    }\n",
       "\n",
       "    .dataframe tbody tr th {\n",
       "        vertical-align: top;\n",
       "    }\n",
       "\n",
       "    .dataframe thead th {\n",
       "        text-align: right;\n",
       "    }\n",
       "</style>\n",
       "<table border=\"1\" class=\"dataframe\">\n",
       "  <thead>\n",
       "    <tr style=\"text-align: right;\">\n",
       "      <th></th>\n",
       "      <th>specific entropy liquid</th>\n",
       "      <th>specific entropy vapor</th>\n",
       "      <th>mass density liquid</th>\n",
       "      <th>molar enthalpy liquid</th>\n",
       "      <th>density liquid</th>\n",
       "      <th>density vapor</th>\n",
       "      <th>temperature</th>\n",
       "      <th>pressure</th>\n",
       "      <th>molar enthalpy vapor</th>\n",
       "      <th>molar entropy vapor</th>\n",
       "      <th>mass density vapor</th>\n",
       "      <th>specific enthalpy liquid</th>\n",
       "      <th>specific enthalpy vapor</th>\n",
       "      <th>molar entropy liquid</th>\n",
       "    </tr>\n",
       "  </thead>\n",
       "  <tbody>\n",
       "    <tr>\n",
       "      <th>0</th>\n",
       "      <td>-0.867028</td>\n",
       "      <td>-0.000002</td>\n",
       "      <td>735.916212</td>\n",
       "      <td>-37.322054</td>\n",
       "      <td>8539.589591</td>\n",
       "      <td>0.012216</td>\n",
       "      <td>200.000000</td>\n",
       "      <td>20.312763</td>\n",
       "      <td>-0.000147</td>\n",
       "      <td>-1.879119e-07</td>\n",
       "      <td>0.001053</td>\n",
       "      <td>-433.086018</td>\n",
       "      <td>-0.001703</td>\n",
       "      <td>-0.074718</td>\n",
       "    </tr>\n",
       "    <tr>\n",
       "      <th>1</th>\n",
       "      <td>-0.864466</td>\n",
       "      <td>-0.000002</td>\n",
       "      <td>735.319382</td>\n",
       "      <td>-37.281784</td>\n",
       "      <td>8532.663964</td>\n",
       "      <td>0.013078</td>\n",
       "      <td>200.638669</td>\n",
       "      <td>21.816282</td>\n",
       "      <td>-0.000157</td>\n",
       "      <td>-2.001300e-07</td>\n",
       "      <td>0.001127</td>\n",
       "      <td>-432.618726</td>\n",
       "      <td>-0.001819</td>\n",
       "      <td>-0.074497</td>\n",
       "    </tr>\n",
       "    <tr>\n",
       "      <th>2</th>\n",
       "      <td>-0.861915</td>\n",
       "      <td>-0.000002</td>\n",
       "      <td>734.723484</td>\n",
       "      <td>-37.241570</td>\n",
       "      <td>8525.749142</td>\n",
       "      <td>0.013994</td>\n",
       "      <td>201.277337</td>\n",
       "      <td>23.418684</td>\n",
       "      <td>-0.000167</td>\n",
       "      <td>-2.130365e-07</td>\n",
       "      <td>0.001206</td>\n",
       "      <td>-432.152081</td>\n",
       "      <td>-0.001943</td>\n",
       "      <td>-0.074277</td>\n",
       "    </tr>\n",
       "    <tr>\n",
       "      <th>3</th>\n",
       "      <td>-0.859376</td>\n",
       "      <td>-0.000003</td>\n",
       "      <td>734.128506</td>\n",
       "      <td>-37.201412</td>\n",
       "      <td>8518.845002</td>\n",
       "      <td>0.014967</td>\n",
       "      <td>201.916006</td>\n",
       "      <td>25.125608</td>\n",
       "      <td>-0.000179</td>\n",
       "      <td>-2.266637e-07</td>\n",
       "      <td>0.001290</td>\n",
       "      <td>-431.686083</td>\n",
       "      <td>-0.002073</td>\n",
       "      <td>-0.074058</td>\n",
       "    </tr>\n",
       "    <tr>\n",
       "      <th>4</th>\n",
       "      <td>-0.856848</td>\n",
       "      <td>-0.000003</td>\n",
       "      <td>733.534438</td>\n",
       "      <td>-37.161309</td>\n",
       "      <td>8511.951422</td>\n",
       "      <td>0.015999</td>\n",
       "      <td>202.554674</td>\n",
       "      <td>26.942961</td>\n",
       "      <td>-0.000191</td>\n",
       "      <td>-2.410451e-07</td>\n",
       "      <td>0.001379</td>\n",
       "      <td>-431.220733</td>\n",
       "      <td>-0.002212</td>\n",
       "      <td>-0.073841</td>\n",
       "    </tr>\n",
       "  </tbody>\n",
       "</table>\n",
       "</div>"
      ],
      "text/plain": [
       "   specific entropy liquid  specific entropy vapor  mass density liquid  \\\n",
       "0                -0.867028               -0.000002           735.916212   \n",
       "1                -0.864466               -0.000002           735.319382   \n",
       "2                -0.861915               -0.000002           734.723484   \n",
       "3                -0.859376               -0.000003           734.128506   \n",
       "4                -0.856848               -0.000003           733.534438   \n",
       "\n",
       "   molar enthalpy liquid  density liquid  density vapor  temperature  \\\n",
       "0             -37.322054     8539.589591       0.012216   200.000000   \n",
       "1             -37.281784     8532.663964       0.013078   200.638669   \n",
       "2             -37.241570     8525.749142       0.013994   201.277337   \n",
       "3             -37.201412     8518.845002       0.014967   201.916006   \n",
       "4             -37.161309     8511.951422       0.015999   202.554674   \n",
       "\n",
       "    pressure  molar enthalpy vapor  molar entropy vapor  mass density vapor  \\\n",
       "0  20.312763             -0.000147        -1.879119e-07            0.001053   \n",
       "1  21.816282             -0.000157        -2.001300e-07            0.001127   \n",
       "2  23.418684             -0.000167        -2.130365e-07            0.001206   \n",
       "3  25.125608             -0.000179        -2.266637e-07            0.001290   \n",
       "4  26.942961             -0.000191        -2.410451e-07            0.001379   \n",
       "\n",
       "   specific enthalpy liquid  specific enthalpy vapor  molar entropy liquid  \n",
       "0               -433.086018                -0.001703             -0.074718  \n",
       "1               -432.618726                -0.001819             -0.074497  \n",
       "2               -432.152081                -0.001943             -0.074277  \n",
       "3               -431.686083                -0.002073             -0.074058  \n",
       "4               -431.220733                -0.002212             -0.073841  "
      ]
     },
     "execution_count": 6,
     "metadata": {},
     "output_type": "execute_result"
    }
   ],
   "source": [
    "df = pd.DataFrame(phase_diagram.to_dict(Contributions.Residual))\n",
    "df.head()"
   ]
  },
  {
   "cell_type": "code",
   "execution_count": 7,
   "metadata": {},
   "outputs": [
    {
     "data": {
      "image/png": "[encoded data removed]",
      "text/plain": [
       "<Figure size 1080x432 with 2 Axes>"
      ]
     },
     "metadata": {
      "needs_background": "light"
     },
     "output_type": "display_data"
    }
   ],
   "source": [
    "fig, ax = plt.subplots(1, 2, figsize=(15, 6))\n",
    "ax[0].set_title(f\"saturation pressure of {parameters.pure_records[0].identifier.name}\")\n",
    "sns.lineplot(y=df.pressure, x=1.0/df.temperature, ax=ax[0])\n",
    "\n",
    "# axis and styling \n",
    "ax[0].set_yscale('log')\n",
    "ax[0].set_xlabel(r'$\\frac{1}{T}$ / K$^{-1}$');\n",
    "ax[0].set_ylabel(r'$p$ / Pa');\n",
    "ax[0].set_xlim(0.002, 0.005)\n",
    "ax[0].set_ylim(1e1, 1e7)\n",
    "\n",
    "ax[1].set_title(r\"$T$-$\\rho$-diagram of {}\".format(parameters.pure_records[0].identifier.name))\n",
    "sns.lineplot(y=df.temperature, x=df['density vapor'], ax=ax[1], color=colors[0])\n",
    "sns.lineplot(y=df.temperature, x=df['density liquid'], ax=ax[1], color=colors[0])\n",
    "\n",
    "# axis and styling \n",
    "ax[1].set_ylabel(r'$T$ / K');\n",
    "ax[1].set_xlabel(r'$\\rho$ / mol/m³');\n",
    "ax[1].set_ylim(200, 600)\n",
    "ax[1].set_xlim(0, 9000)\n",
    "\n",
    "sns.despine(offset=10)"
   ]
  },
  {
   "cell_type": "markdown",
   "metadata": {},
   "source": [
    "## The `PhaseEquilibrium` object\n",
    "\n",
    "A `PhaseEquilibrium` object contains two thermodynamic states (`State` objects) that are in thermal, mechanical and chemical equilibrium.\n",
    "The `PhaseEquilibrium.pure` constructor can be used to compute a phase equilibrium for a single substance. We have to provide the equation of state and either temperature or pressure. Optionally, we can also provide `PhaseEquilibrium` object which can be used as starting point for the calculation which possibly speeds up the computation."
   ]
  },
  {
   "cell_type": "code",
   "execution_count": 8,
   "metadata": {},
   "outputs": [
    {
     "data": {
      "text/markdown": [
       "||temperature|density|\n",
       "|-|-|-|\n",
       "|phase 1|300.00000 K|8.86860  mol/m³|\n",
       "|phase 2|300.00000 K|7.51850 kmol/m³|\n"
      ],
      "text/plain": [
       "phase 0: T = 300.00000 K, ρ = 8.86860  mol/m³\n",
       "phase 1: T = 300.00000 K, ρ = 7.51850 kmol/m³"
      ]
     },
     "execution_count": 8,
     "metadata": {},
     "output_type": "execute_result"
    }
   ],
   "source": [
    "vle = PhaseEquilibrium.pure(\n",
    "    pcsaft, \n",
    "    temperature_or_pressure=300.0*si.KELVIN\n",
    ")\n",
    "vle"
   ]
  },
  {
   "cell_type": "markdown",
   "metadata": {},
   "source": [
    "The two equilibrium states can be extracted via the `liquid` and `vapor` getters, respectively. Returned are `State` objects, for which we can now compute any property that is available for the `State` object and the given equation of state."
   ]
  },
  {
   "cell_type": "code",
   "execution_count": 9,
   "metadata": {},
   "outputs": [
    {
     "name": "stdout",
     "output_type": "stream",
     "text": [
      "saturation pressure      p_sat(T = 300 K) =   0.22 bar\n",
      "enthalpy of vaporization h_lv (T = 300 K) = 365.83 kJ/kg\n"
     ]
    }
   ],
   "source": [
    "liquid = vle.liquid\n",
    "vapor = vle.vapor\n",
    "\n",
    "assert(abs((liquid.pressure() - vapor.pressure()) / si.BAR) < 1e-10)\n",
    "print(f'saturation pressure      p_sat(T = {liquid.temperature}) = {liquid.pressure() / si.BAR:6.2f} bar')\n",
    "print(f'enthalpy of vaporization h_lv (T = {liquid.temperature}) = {(vapor.specific_enthalpy(Contributions.Residual) - liquid.specific_enthalpy(Contributions.Residual)) / (si.KILO*si.JOULE/si.KILOGRAM):6.2f} kJ/kg')"
   ]
  },
  {
   "cell_type": "markdown",
   "metadata": {},
   "source": [
    "If you want to compute a boiling temperature or saturation pressure without needing the `PhaseEquilibrium` object you can use the\n",
    "\n",
    "- `PhaseEquilibrium.boiling_temperature` and\n",
    "- `PhaseEquilibrium.vapor_pressure`\n",
    "\n",
    "methods. Note that these methods return lists (even for pure substance systems) where each entry contains the pure substance property."
   ]
  },
  {
   "cell_type": "code",
   "execution_count": 10,
   "metadata": {},
   "outputs": [
    {
     "data": {
      "text/latex": [
       "$300\\,\\mathrm{K}$"
      ],
      "text/plain": [
       "300.0000000000137 K"
      ]
     },
     "execution_count": 10,
     "metadata": {},
     "output_type": "execute_result"
    }
   ],
   "source": [
    "PhaseEquilibrium.boiling_temperature(pcsaft, liquid.pressure())[0]"
   ]
  },
  {
   "cell_type": "markdown",
   "metadata": {},
   "source": [
    "## The `states` method returns all `PhaseEquilibrium` objects from `PhaseDiagram`\n",
    "\n",
    "Once a `PhaseDiagram` object is created, we can access all underlying `PhaseEquilibrium` objects via the `states` field.\n",
    "In the following cell, we compute the enthalpy of vaporization by iterating through all states and calling the `specific_enthalpy` method on the vapor and liquid states of the `PhaseEquilibrium` object, respectively.\n",
    "\n",
    "Note that this is merely an example to show how to compute any property of the states. The total value of enthalpy of vaporization may not be correct, depending on the ideal gas model used."
   ]
  },
  {
   "cell_type": "code",
   "execution_count": null,
   "metadata": {},
   "outputs": [],
   "source": [
    "# Add enthalpy of vaporization to dataframe\n",
    "df['hlv'] = [\n",
    "    (vle.vapor.specific_enthalpy(Contributions.Residual) - vle.liquid.specific_enthalpy(Contributions.Residual)) \n",
    "    / (si.KILO * si.JOULE / si.KILOGRAM) \n",
    "    for vle in phase_diagram.states\n",
    "]"
   ]
  },
  {
   "cell_type": "code",
   "execution_count": 12,
   "metadata": {},
   "outputs": [
    {
     "data": {
      "image/png": "[encoded data removed]",
      "text/plain": [
       "<Figure size 504x432 with 1 Axes>"
      ]
     },
     "metadata": {
      "needs_background": "light"
     },
     "output_type": "display_data"
    }
   ],
   "source": [
    "fig, ax = plt.subplots(figsize=(7, 6))\n",
    "sns.lineplot(y=df.hlv, x=df.temperature, ax=ax)\n",
    "\n",
    "# axis and styling \n",
    "ax.set_xlabel(r'$T$ / K');\n",
    "ax.set_ylabel(r'$\\Delta_{LV} h$ / kJ / kg');\n",
    "ax.set_xlim(200, 600)\n",
    "ax.set_ylim(0, 500)\n",
    "\n",
    "sns.despine(offset=10);"
   ]
  }
 ],
 "metadata": {
  "kernelspec": {
   "display_name": "feos",
   "language": "python",
   "name": "python3"
  },
  "language_info": {
   "codemirror_mode": {
    "name": "ipython",
    "version": 3
   },
   "file_extension": ".py",
   "mimetype": "text/x-python",
   "name": "python",
   "nbconvert_exporter": "python",
   "pygments_lexer": "ipython3",
   "version": "3.9.10"
  }
 },
 "nbformat": 4,
 "nbformat_minor": 4
}
