{
 "cells": [
  {
   "cell_type": "markdown",
   "metadata": {},
   "source": [
    "# Pure substance phase diagrams\n",
    "\n",
    "## Goal of this notebook\n",
    "\n",
    "- Learn how to generate and work with phase diagrams.\n",
    "- Learn what `PhaseEquilibrium` objects are and how to use them.\n",
    "\n",
    "## Important objects from $\\text{FeO}_\\text{s}$\n",
    "\n",
    "In the following we need:\n",
    "\n",
    "- SI units via the `feos.si` module,\n",
    "- `PcSaftParameters` and `Contributions` objects from the `feos.pcsaft` module, and\n",
    "- `PcSaft`, `State`, `PhaseEquilibrium` and `PhaseDiagramPure` objects from `feos.pcsaft.eos` modules.\n",
    "- Furthermore, we use `numpy` and `pandas` for arrays and `DataFrames`, respectively,\n",
    "- and `matplotlib` and `seaborn` for visualization."
   ]
  },
  {
   "cell_type": "code",
   "execution_count": 1,
   "metadata": {},
   "outputs": [],
   "source": [
    "from feos.si import *\n",
    "from feos.pcsaft import Contributions, PcSaftParameters\n",
    "from feos.pcsaft.eos import PcSaft, State, PhaseEquilibrium, PhaseDiagramPure\n",
    "\n",
    "import numpy as np\n",
    "import pandas as pd\n",
    "import matplotlib.pyplot as plt\n",
    "import seaborn as sns\n",
    "\n",
    "sns.set_context('talk')\n",
    "sns.set_palette('Dark2')\n",
    "sns.set_style('ticks')\n",
    "colors = sns.palettes.color_palette('Dark2', 8)"
   ]
  },
  {
   "cell_type": "markdown",
   "metadata": {},
   "source": [
    "## Read parameters from json for a single substance and generate `PcSaft` object"
   ]
  },
  {
   "cell_type": "code",
   "execution_count": 2,
   "metadata": {},
   "outputs": [
    {
     "data": {
      "text/markdown": [
       "|component|molarweight|$m$|$\\sigma$|$\\varepsilon$|$\\mu$|$Q$|$\\kappa_{AB}$|$\\varepsilon_{AB}$|$N_A$|$N_B$|\n",
       "|-|-|-|-|-|-|-|-|-|-|-|\n",
       "|hexane|86.177|3.0576|3.7983|236.77|0|0|0|0|1|1|"
      ],
      "text/plain": [
       "PcSaftParameters(\n",
       "\tmolarweight=[86.177]\n",
       "\tm=[3.0576]\n",
       "\tsigma=[3.7983]\n",
       "\tepsilon_k=[236.77]\n",
       ")"
      ]
     },
     "execution_count": 2,
     "metadata": {},
     "output_type": "execute_result"
    }
   ],
   "source": [
    "parameters = PcSaftParameters.from_json(['hexane'], '../parameters/pcsaft/gross2001.json')\n",
    "parameters"
   ]
  },
  {
   "cell_type": "code",
   "execution_count": 3,
   "metadata": {},
   "outputs": [],
   "source": [
    "pcsaft = PcSaft(parameters)"
   ]
  },
  {
   "cell_type": "markdown",
   "metadata": {},
   "source": [
    "## Generate `PhaseDiagramPure`\n",
    "\n",
    "A `PhaseDiagramPure` object contains multiple thermodyanmic states of a pure substance at phase equilibrium.\n",
    "It can be constructed by providing \n",
    "\n",
    "- an equation of state,\n",
    "- the minimum temperature, and\n",
    "- the number of points to compute.\n",
    "\n",
    "The points are evenly distributed between the defined minimum temperature and the critical temperature which is either computed (default) or can be provided via the `critical_temperature` argument.\n",
    "\n",
    "Furthermore, we can define options for the numerics:\n",
    "- `max_iter` to define the maximum number of iterations for the phase equilibrium calculations, and\n",
    "- `tol` to set the tolerance used for deterimation of phase equilibria.\n",
    "\n",
    "A `Verbosity` (from the `feos.pcsaft` module) object can be provided via the `verbosity` argument to print intermediate calculations to the screen.\n",
    "\n",
    "Starting from the minimum temperature, phase equilibria are computed in sequence using prior results (i.e. at prior temperature) as input for the next iteration."
   ]
  },
  {
   "cell_type": "code",
   "execution_count": 4,
   "metadata": {},
   "outputs": [],
   "source": [
    "phase_diagram = PhaseDiagramPure(pcsaft, min_temperature=200*KELVIN, npoints=501)"
   ]
  },
  {
   "cell_type": "markdown",
   "metadata": {},
   "source": [
    "### Stored information\n",
    "\n",
    "A `PhaseDiagramPure` object contains the following fields and methods:\n",
    "\n",
    "- `states`: a list (with length of `npoints`) of `PhaseEquilibrium` objects at the different temperatures,\n",
    "- lists for properties as `SINumber`s\n",
    "    - pressures,\n",
    "    - temperatures,\n",
    "    - liquid and vapor densities,\n",
    "    - liquid and vapor enthalpies, and\n",
    "    - liquid and vapor entropies\n",
    "- The `to_dict` method, which can be used to conveniently generate a `pandas.DataFrame` object (see below)."
   ]
  },
  {
   "cell_type": "markdown",
   "metadata": {},
   "source": [
    "### Building a `pandas.DataFrame`: the `to_dict` method\n",
    "\n",
    "\n",
    "The `PhaseDiagramPure` object contains some physical properties (such as densities, temperatures and pressures) as well as the `PhaseEquilibrium` objects at each temperature.\n",
    "\n",
    "Before we take a look at these objects, a useful tool when working with phase diagrams is the `to_dict` method. It generates a Python dictionary of some properties (with hard-coded units, see the docstring of `to_dict`). This dictionary can readily be used to generate a `pandas.DataFrame`."
   ]
  },
  {
   "cell_type": "code",
   "execution_count": 5,
   "metadata": {},
   "outputs": [
    {
     "data": {
      "text/html": [
       "<div>\n",
       "<style scoped>\n",
       "    .dataframe tbody tr th:only-of-type {\n",
       "        vertical-align: middle;\n",
       "    }\n",
       "\n",
       "    .dataframe tbody tr th {\n",
       "        vertical-align: top;\n",
       "    }\n",
       "\n",
       "    .dataframe thead th {\n",
       "        text-align: right;\n",
       "    }\n",
       "</style>\n",
       "<table border=\"1\" class=\"dataframe\">\n",
       "  <thead>\n",
       "    <tr style=\"text-align: right;\">\n",
       "      <th></th>\n",
       "      <th>density vapor</th>\n",
       "      <th>molar enthalpy vapor</th>\n",
       "      <th>density liquid</th>\n",
       "      <th>molar enthalpy liquid</th>\n",
       "      <th>temperature</th>\n",
       "      <th>pressure</th>\n",
       "      <th>molar entropy liquid</th>\n",
       "      <th>molar entropy vapor</th>\n",
       "    </tr>\n",
       "  </thead>\n",
       "  <tbody>\n",
       "    <tr>\n",
       "      <th>0</th>\n",
       "      <td>0.012216</td>\n",
       "      <td>-16.735400</td>\n",
       "      <td>8539.589591</td>\n",
       "      <td>-54.057307</td>\n",
       "      <td>200.000000</td>\n",
       "      <td>20.312763</td>\n",
       "      <td>-0.183475</td>\n",
       "      <td>0.003135</td>\n",
       "    </tr>\n",
       "    <tr>\n",
       "      <th>1</th>\n",
       "      <td>0.013078</td>\n",
       "      <td>-16.639176</td>\n",
       "      <td>8532.663964</td>\n",
       "      <td>-53.920803</td>\n",
       "      <td>200.638669</td>\n",
       "      <td>21.816282</td>\n",
       "      <td>-0.182794</td>\n",
       "      <td>0.003021</td>\n",
       "    </tr>\n",
       "    <tr>\n",
       "      <th>2</th>\n",
       "      <td>0.013994</td>\n",
       "      <td>-16.542786</td>\n",
       "      <td>8525.749142</td>\n",
       "      <td>-53.784188</td>\n",
       "      <td>201.277337</td>\n",
       "      <td>23.418684</td>\n",
       "      <td>-0.182114</td>\n",
       "      <td>0.002912</td>\n",
       "    </tr>\n",
       "    <tr>\n",
       "      <th>3</th>\n",
       "      <td>0.014967</td>\n",
       "      <td>-16.446230</td>\n",
       "      <td>8518.845002</td>\n",
       "      <td>-53.647463</td>\n",
       "      <td>201.916006</td>\n",
       "      <td>25.125608</td>\n",
       "      <td>-0.181436</td>\n",
       "      <td>0.002806</td>\n",
       "    </tr>\n",
       "    <tr>\n",
       "      <th>4</th>\n",
       "      <td>0.015999</td>\n",
       "      <td>-16.349508</td>\n",
       "      <td>8511.951422</td>\n",
       "      <td>-53.510626</td>\n",
       "      <td>202.554674</td>\n",
       "      <td>26.942961</td>\n",
       "      <td>-0.180759</td>\n",
       "      <td>0.002703</td>\n",
       "    </tr>\n",
       "  </tbody>\n",
       "</table>\n",
       "</div>"
      ],
      "text/plain": [
       "   density vapor  molar enthalpy vapor  density liquid  molar enthalpy liquid  \\\n",
       "0       0.012216            -16.735400     8539.589591             -54.057307   \n",
       "1       0.013078            -16.639176     8532.663964             -53.920803   \n",
       "2       0.013994            -16.542786     8525.749142             -53.784188   \n",
       "3       0.014967            -16.446230     8518.845002             -53.647463   \n",
       "4       0.015999            -16.349508     8511.951422             -53.510626   \n",
       "\n",
       "   temperature   pressure  molar entropy liquid  molar entropy vapor  \n",
       "0   200.000000  20.312763             -0.183475             0.003135  \n",
       "1   200.638669  21.816282             -0.182794             0.003021  \n",
       "2   201.277337  23.418684             -0.182114             0.002912  \n",
       "3   201.916006  25.125608             -0.181436             0.002806  \n",
       "4   202.554674  26.942961             -0.180759             0.002703  "
      ]
     },
     "execution_count": 5,
     "metadata": {},
     "output_type": "execute_result"
    }
   ],
   "source": [
    "df = pd.DataFrame(phase_diagram.to_dict())\n",
    "df.head()"
   ]
  },
  {
   "cell_type": "code",
   "execution_count": 6,
   "metadata": {},
   "outputs": [
    {
     "data": {
      "image/png": "[encoded data removed]",
      "text/plain": [
       "<Figure size 1080x432 with 2 Axes>"
      ]
     },
     "metadata": {},
     "output_type": "display_data"
    }
   ],
   "source": [
    "fig, ax = plt.subplots(1, 2, figsize=(15, 6))\n",
    "ax[0].set_title(f\"saturation pressure of {parameters.pure_records[0].identifier.name}\")\n",
    "sns.lineplot(y=df.pressure, x=1.0/df.temperature, ax=ax[0])\n",
    "\n",
    "# axis and styling \n",
    "ax[0].set_yscale('log')\n",
    "ax[0].set_xlabel(r'$\\frac{1}{T}$ / K$^{-1}$');\n",
    "ax[0].set_ylabel(r'$p$ / Pa');\n",
    "ax[0].set_xlim(0.002, 0.005)\n",
    "ax[0].set_ylim(1e1, 1e7)\n",
    "\n",
    "ax[1].set_title(r\"$T$-$\\rho$-diagram of {}\".format(parameters.pure_records[0].identifier.name))\n",
    "sns.lineplot(y=df.temperature, x=df['density vapor'], ax=ax[1], color=colors[0])\n",
    "sns.lineplot(y=df.temperature, x=df['density liquid'], ax=ax[1], color=colors[0])\n",
    "\n",
    "# axis and styling \n",
    "ax[1].set_ylabel(r'$T$ / K');\n",
    "ax[1].set_xlabel(r'$\\rho$ / mol/m³');\n",
    "ax[1].set_ylim(200, 600)\n",
    "ax[1].set_xlim(0, 9000)\n",
    "\n",
    "sns.despine(offset=10)"
   ]
  },
  {
   "cell_type": "markdown",
   "metadata": {},
   "source": [
    "## The `PhaseEquilibrium` object\n",
    "\n",
    "A `PhaseEquilibrium` object contains two thermodynamic states (`State` objects) that are in thermal, mechanical and chemical equilibrium.\n",
    "There are two ways to construct such an object for a pure substance:\n",
    "\n",
    "- `PhaseEquilibrium.pure_p` which creates a liquid and vapor state in equilibrium for a pure substance given a pressure, and\n",
    "- `PhaseEquilibrium.pure_t` which creates a liquid and vapor state in equilibrium for a pure substance given a temperature."
   ]
  },
  {
   "cell_type": "code",
   "execution_count": 7,
   "metadata": {},
   "outputs": [
    {
     "data": {
      "text/markdown": [
       "||temperature|density|\n",
       "|-|-|-|\n",
       "|phase 1|300.00000 K|8.86860  mol/m³|\n",
       "|phase 2|300.00000 K|7.51850 kmol/m³|\n"
      ],
      "text/plain": [
       "phase 0: T = 300.00000 K, ρ = 8.86860  mol/m³\n",
       "phase 1: T = 300.00000 K, ρ = 7.51850 kmol/m³"
      ]
     },
     "execution_count": 7,
     "metadata": {},
     "output_type": "execute_result"
    }
   ],
   "source": [
    "vle = PhaseEquilibrium.pure_t(pcsaft, temperature=300.0*KELVIN)\n",
    "vle"
   ]
  },
  {
   "cell_type": "markdown",
   "metadata": {},
   "source": [
    "The two equilibrium states can be extracted via the `liquid` and `vapor` getters, respectively. Returned are `State` objects, for which we can now compute any property that is available for the `State` object and the given equation of state."
   ]
  },
  {
   "cell_type": "code",
   "execution_count": 8,
   "metadata": {},
   "outputs": [
    {
     "name": "stdout",
     "output_type": "stream",
     "text": [
      "saturation pressure      p_sat(T = 300 K) =   0.22 bar\n",
      "enthalpy of vaporization h_lv (T = 300 K) = 365.83 kJ/kg\n"
     ]
    }
   ],
   "source": [
    "liquid = vle.liquid\n",
    "vapor = vle.vapor\n",
    "\n",
    "assert(abs((liquid.pressure() - vapor.pressure()) / BAR) < 1e-10)\n",
    "print(f'saturation pressure      p_sat(T = {liquid.temperature}) = {liquid.pressure() / BAR:6.2f} bar')\n",
    "print(f'enthalpy of vaporization h_lv (T = {liquid.temperature}) = {(vapor.specific_enthalpy() - liquid.specific_enthalpy()) / (KILO*JOULE/KILOGRAM):6.2f} kJ/kg')"
   ]
  },
  {
   "cell_type": "markdown",
   "metadata": {},
   "source": [
    "If you want to compute a boiling temperature or saturation pressure without needing the `PhaseEquilibrium` object you can use the\n",
    "\n",
    "- `PhaseEquilibrium.boiling_temperature` and\n",
    "- `PhaseEquilibrium.vapor_pressure`\n",
    "\n",
    "methods. Note that these methods return lists (even for pure substance systems) where each entry contains the pure substance property."
   ]
  },
  {
   "cell_type": "code",
   "execution_count": 9,
   "metadata": {},
   "outputs": [
    {
     "data": {
      "text/latex": [
       "$300\\,\\mathrm{K}$"
      ],
      "text/plain": [
       "300.00000000050494 K"
      ]
     },
     "execution_count": 9,
     "metadata": {},
     "output_type": "execute_result"
    }
   ],
   "source": [
    "PhaseEquilibrium.boiling_temperature(pcsaft, liquid.pressure())[0]"
   ]
  },
  {
   "cell_type": "markdown",
   "metadata": {},
   "source": [
    "## The `states` method returns all `PhaseEquilibrium` objects from `PhaseDiagramPure`\n",
    "\n",
    "Once a `PhaseDiagramPure` object is created, we can access all underlying `PhaseEquilibrium` objects via the `states` method.\n",
    "In the following cell, we compute the enthalpy of vaporization by iterating through all states and calling the `specific_enthalpy` method on the vapor and liquid states of the `PhaseEquilibrium` object, respectively.\n",
    "\n",
    "Note that this is merely an example to show how to compute any property of the states. The total value of enthalpy of vaporization may not be correct, depending on the ideal gas model used."
   ]
  },
  {
   "cell_type": "code",
   "execution_count": 10,
   "metadata": {},
   "outputs": [],
   "source": [
    "# Add enthalpy of vaporization to dataframe\n",
    "df['hlv'] = [(vle.vapor.specific_enthalpy() - vle.liquid.specific_enthalpy()) / (KILO * JOULE / KILOGRAM) for vle in phase_diagram.states]"
   ]
  },
  {
   "cell_type": "code",
   "execution_count": 11,
   "metadata": {},
   "outputs": [
    {
     "data": {
      "image/png": "[encoded data removed]",
      "text/plain": [
       "<Figure size 504x432 with 1 Axes>"
      ]
     },
     "metadata": {},
     "output_type": "display_data"
    }
   ],
   "source": [
    "fig, ax = plt.subplots(figsize=(7, 6))\n",
    "sns.lineplot(y=df.hlv, x=df.temperature, ax=ax)\n",
    "\n",
    "# axis and styling \n",
    "ax.set_xlabel(r'$T$ / K');\n",
    "ax.set_ylabel(r'$\\Delta_{LV} h$ / kJ / kg');\n",
    "ax.set_xlim(200, 600)\n",
    "ax.set_ylim(0, 500)\n",
    "\n",
    "sns.despine(offset=10)"
   ]
  }
 ],
 "metadata": {
  "kernelspec": {
   "display_name": "Python 3",
   "language": "python",
   "name": "python3"
  },
  "language_info": {
   "codemirror_mode": {
    "name": "ipython",
    "version": 3
   },
   "file_extension": ".py",
   "mimetype": "text/x-python",
   "name": "python",
   "nbconvert_exporter": "python",
   "pygments_lexer": "ipython3",
   "version": "3.8.1"
  }
 },
 "nbformat": 4,
 "nbformat_minor": 4
}
