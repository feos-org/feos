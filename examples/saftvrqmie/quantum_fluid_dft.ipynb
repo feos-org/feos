{
 "cells": [
  {
   "cell_type": "markdown",
   "id": "06b263a1-b920-4b97-9bdf-238a87893e92",
   "metadata": {},
   "source": [
    "# Surface tension calculations using DFT for fluids experiencing quantum effects \n",
    "Classical density functional theory for interfacial properties of hydrogen, helium, deuterium, neon and their mixtures ([doi:10.1063/5.0137226](https://doi.org/10.1063/5.0137226))"
   ]
  },
  {
   "cell_type": "code",
   "execution_count": 1,
   "id": "7f9082f3-e3e2-421b-b09a-a39160a83183",
   "metadata": {},
   "outputs": [],
   "source": [
    "from feos import *\n",
    "from feos.dft import *\n",
    "from feos.saftvrqmie import *\n",
    "import matplotlib.pyplot as plt\n",
    "import si_units as si\n",
    "import numpy as np\n",
    "import seaborn as sns\n",
    "import json\n",
    "\n",
    "sns.set_context('talk')\n",
    "sns.set_palette('Dark2')\n",
    "sns.set_style('ticks')"
   ]
  },
  {
   "cell_type": "markdown",
   "id": "0c514e92-9e5b-45a5-98b1-81f83eb4c104",
   "metadata": {},
   "source": [
    "# Pure fluid surface tension correlations"
   ]
  },
  {
   "cell_type": "code",
   "execution_count": 2,
   "id": "b334936e-587b-44d0-a92e-6dacd5f08e73",
   "metadata": {},
   "outputs": [],
   "source": [
    "def surftens_mulero2012(fluid, tr):\n",
    "    \"\"\"\n",
    "    Calculate pure fluid surface tension using Mulero 2012 correlation (doi:10.1063/1.4768782)\n",
    "    Args:\n",
    "        fluid (str): Component name\n",
    "        tr (np.ndarray): Reduced temperature\n",
    "    Returns:\n",
    "        sigma (np.ndarray): Surface tension (mN/m)\n",
    "    \"\"\"\n",
    "    ff = open(\"mulero_2012_parameters.json\", \"r\")\n",
    "    complist = json.load(ff)\n",
    "    ff.close()\n",
    "    sigma = np.zeros_like(tr)\n",
    "    for i in range(len(complist[fluid][\"sigma\"])):\n",
    "        sigma[:] += complist[fluid][\"sigma\"][i] * \\\n",
    "            (1-tr[:])**complist[fluid][\"n\"][i]\n",
    "    return sigma * si.NEWTON / si.METER / (si.MILLI * si.NEWTON/  si.METER)    "
   ]
  },
  {
   "cell_type": "code",
   "execution_count": 3,
   "id": "58b2d141-7ab7-4938-b888-bc950d942848",
   "metadata": {},
   "outputs": [],
   "source": [
    "def surftens(param, tr):\n",
    "    \"\"\"\n",
    "    Calculate pure fluid surface tension A(1-tr)**(B+C*tr+D*tr**2)\n",
    "    Args:\n",
    "        param (np.ndarray): \n",
    "        tr (np.ndarray): Reduced temperature\n",
    "    Returns:\n",
    "        sigma (np.ndarray): Surface tension (mN/m)\n",
    "    \"\"\"\n",
    "    A = param[0]\n",
    "    exponent = np.zeros_like(tr)\n",
    "    exponent[:] = param[1]\n",
    "    for i in range(2,len(param)):\n",
    "        exponent += param[i]*tr**(i-1)\n",
    "    sigma = A*(1-tr)**exponent\n",
    "    return sigma * si.NEWTON / si.METER / (si.MILLI * si.NEWTON/  si.METER)"
   ]
  },
  {
   "cell_type": "markdown",
   "id": "f445dc40-3c4f-417d-a430-ed4b11d9216f",
   "metadata": {},
   "source": [
    "# Pure fluid parameters"
   ]
  },
  {
   "cell_type": "code",
   "execution_count": 4,
   "id": "54513546-2b6a-4f44-9c2f-9f5f59fd9c1d",
   "metadata": {},
   "outputs": [],
   "source": [
    "fluid_param = {}\n",
    "fluid_param[\"hydrogen\"] = {\"Tc\": 33.145, \"Tnb\": 20.369, \"xlim\": [19.5, 34.0], \"ylim\": [-0.1, 2.2], \"param\": None} #Alternative correlation from Hammer et al. (2023): [0.00480413, 0.67152591, 0.47781899]\n",
    "fluid_param[\"para-hydrogen\"] = {\"Tc\": 32.938, \"Tnb\": 20.271, \"xlim\": [19.5, 34.0], \"ylim\": [-0.1, 2.2], \"param\": [0.00471037, 0.62668507, 0.51110266]} #Correlation parameters from Hammer et al. (2023)\n",
    "fluid_param[\"neon\"] = {\"Tc\": 44.49, \"Tnb\": 27.1, \"xlim\": [26.0, 46.0], \"ylim\": [-0.1, 5.5], \"param\": None}\n",
    "fluid_param[\"deuterium\"] = {\"Tc\": 38.34, \"Tnb\": 23.661, \"xlim\": [22.5, 39.5], \"ylim\": [-0.1, 3.1], \"param\": None}"
   ]
  },
  {
   "cell_type": "markdown",
   "id": "9ab9a113-6e49-48d4-acb5-cee8966087f2",
   "metadata": {},
   "source": [
    "# Select fluid and set up functional"
   ]
  },
  {
   "cell_type": "code",
   "execution_count": 5,
   "id": "aa462031-732f-479b-80c3-2fb66e48d6d2",
   "metadata": {},
   "outputs": [
    {
     "name": "stdout",
     "output_type": "stream",
     "text": [
      "Calculating surface tension for \u001b[1mhydrogen\n"
     ]
    }
   ],
   "source": [
    "substances = [\"hydrogen\", \"para-hydrogen\", \"neon\", \"deuterium\"]\n",
    "substance = substances[0] # Setting fluid\n",
    "print(f\"Calculating surface tension for \\033[1m{substance}\")"
   ]
  },
  {
   "cell_type": "markdown",
   "id": "adfa3259-d508-482b-8314-290d3d1781f5",
   "metadata": {},
   "source": [
    "# Set up functional"
   ]
  },
  {
   "cell_type": "code",
   "execution_count": 6,
   "id": "4c8f318f-56e0-4a48-b21b-1ecab6bc10a3",
   "metadata": {},
   "outputs": [],
   "source": [
    "parameters = SaftVRQMieParameters.from_json([substance], \"../../parameters/saftvrqmie/hammer2023.json\")\n",
    "func = HelmholtzEnergyFunctional.saftvrqmie(parameters)\n",
    "Tc = fluid_param[substance][\"Tc\"]\n",
    "Tnb = fluid_param[substance][\"Tnb\"]\n",
    "state = State(func, temperature=Tnb * si.KELVIN, pressure=20.0 * si.BAR)\n",
    "model_tc = State.critical_point(func).temperature"
   ]
  },
  {
   "cell_type": "markdown",
   "id": "2ee15889-18da-4802-842f-5e042d673ecb",
   "metadata": {},
   "source": [
    "# Calculate and plot surface tension"
   ]
  },
  {
   "cell_type": "code",
   "execution_count": 7,
   "id": "c284f4b3-af36-4d50-8391-a7e44148b050",
   "metadata": {},
   "outputs": [],
   "source": [
    "dia = PhaseDiagram.pure(func, Tnb * si.KELVIN, npoints=50)\n",
    "sft_dia = SurfaceTensionDiagram(dia.states, n_grid=1024, l_grid=200 * si.ANGSTROM , critical_temperature=model_tc)\n",
    "surf_tens = sft_dia.surface_tension / (si.MILLI* si.NEWTON / si.METER)"
   ]
  },
  {
   "cell_type": "code",
   "execution_count": 8,
   "id": "4e69ad65-f86a-432a-8c1b-b6a2378ff9ec",
   "metadata": {},
   "outputs": [],
   "source": [
    "tr = np.linspace(Tnb/Tc, 1.0, 100)\n",
    "if fluid_param[substance][\"param\"] is None:\n",
    "    s_corr = surftens_mulero2012(substance, tr)\n",
    "    corr_label = \"Mulero et al. (2012)\"\n",
    "else:\n",
    "    s_corr = surftens(fluid_param[substance][\"param\"], tr)\n",
    "    corr_label = \"Hammer et al. (2023)\""
   ]
  },
  {
   "cell_type": "code",
   "execution_count": 9,
   "id": "0247cea8-f6cd-436f-9e98-7dc14130e5ec",
   "metadata": {},
   "outputs": [
    {
     "data": {
      "image/png": "[encoded data removed]",
      "text/plain": [
       "<Figure size 432x288 with 1 Axes>"
      ]
     },
     "metadata": {
      "needs_background": "light"
     },
     "output_type": "display_data"
    }
   ],
   "source": [
    "fig, ax = plt.subplots(1, 1)\n",
    "ax.plot(tr * Tc, s_corr, color='tab:red', label=corr_label, ls=\"--\")\n",
    "ax.plot(dia.liquid.temperature/si.KELVIN, surf_tens, color='tab:blue', label='DFT')\n",
    "xlim = fluid_param[substance][\"xlim\"]\n",
    "ylim = fluid_param[substance][\"ylim\"]\n",
    "ax.set_xlim(xlim)\n",
    "ax.set_ylim(ylim)\n",
    "ax.set_xlabel(r'$T$ (K)')\n",
    "ax.set_ylabel(r'$\\gamma$ (mN/m)')\n",
    "legend = ax.legend(loc='best', frameon=False, fontsize=12, ncol=1)"
   ]
  },
  {
   "cell_type": "markdown",
   "id": "4a3385ce-d12a-4402-b139-10d852df2e2f",
   "metadata": {},
   "source": [
    "# Calculate mean absolute deviation (MAD)"
   ]
  },
  {
   "cell_type": "code",
   "execution_count": 10,
   "id": "dc17b6c6-47e5-414e-a432-cec8d01b493a",
   "metadata": {},
   "outputs": [
    {
     "name": "stdout",
     "output_type": "stream",
     "text": [
      "MAD=4.4 %\n"
     ]
    }
   ],
   "source": [
    "tr_mad = dia.liquid.temperature / Tc / si.KELVIN\n",
    "tr_filer_mad = np.less_equal(tr_mad, 0.95)\n",
    "trx_mad = tr_mad[tr_filer_mad]\n",
    "if fluid_param[substance][\"param\"] is None:\n",
    "    s_corr_mad = surftens_mulero2012(substance, trx_mad)\n",
    "else:\n",
    "    print(\"Correlation\")\n",
    "    s_corr_mad = surftens(fluid_param[substance][\"param\"], trx_mad)\n",
    "mad = 100*np.sum(np.abs((surf_tens[tr_filer_mad]-s_corr_mad)/s_corr_mad))/s_corr_mad.shape[0]\n",
    "print(f\"MAD={mad:.1f} %\")"
   ]
  }
 ],
 "metadata": {
  "kernelspec": {
   "display_name": "feos",
   "language": "python",
   "name": "python3"
  },
  "language_info": {
   "codemirror_mode": {
    "name": "ipython",
    "version": 3
   },
   "file_extension": ".py",
   "mimetype": "text/x-python",
   "name": "python",
   "nbconvert_exporter": "python",
   "pygments_lexer": "ipython3",
   "version": "3.9.10"
  }
 },
 "nbformat": 4,
 "nbformat_minor": 5
}
