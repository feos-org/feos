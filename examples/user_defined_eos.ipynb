{
 "cells": [
  {
   "cell_type": "markdown",
   "metadata": {},
   "source": [
    "# Implementing an equation of state in python\n",
    "\n",
    "> In `FeOs`, you can implement your equation of state in python, register it to the Rust backend, and compute properties and phase equilbria as if you implemented it in Rust.\n",
    "> In this tutorial, we will implement the Peng-Robinson equation of state."
   ]
  },
  {
   "cell_type": "markdown",
   "metadata": {},
   "source": [
    "## Table of contents <a id=\"toc\"/>\n",
    "\n",
    "- [Setup](#Setup)\n",
    "- [Implementation](#Implementation)\n",
    "- [Computing properties](#Computing-properties)\n",
    "- [Critical point](#Critical-point)\n",
    "- [Phase equilibria and phase diagrams](#Phase-equilibria-and-phase-diagrams)\n",
    "- [Mixtures](#Mixtures)\n",
    "- [Comparison to Rust implementation](#Comparison-to-Rust-implementation)"
   ]
  },
  {
   "cell_type": "markdown",
   "metadata": {},
   "source": [
    "## Setup <a id=\"Setup\"/>\n",
    "[↑ Back to top](#toc)\n",
    "\n",
    "Let's start by importing the necessary python packages. Mandatory packages are\n",
    "\n",
    "- `feos.user_defined` for classes such as `State`, `PhaseEquilibrium`, and `UserDefinedEos`,\n",
    "- `feos.si` for SI numbers,\n",
    "- `numpy` for multidimensional arrays.\n",
    "\n",
    "We also recommend using\n",
    "\n",
    "- `matplotlib` and `seaborn` for visualization, and\n",
    "- `pandas` for easier handling data.\n",
    "\n",
    "If you don't want to use the optional packages, simply remove them from the import statement below or set `optional = False`."
   ]
  },
  {
   "cell_type": "code",
   "execution_count": 1,
   "metadata": {},
   "outputs": [],
   "source": [
    "from feos.user_defined import *\n",
    "from feos.si import *\n",
    "import numpy as np\n",
    "\n",
    "optional = True\n",
    "\n",
    "if optional:\n",
    "    import matplotlib.pyplot as plt\n",
    "    import pandas as pd\n",
    "    import seaborn as sns\n",
    "\n",
    "    sns.set_style(\"ticks\")\n",
    "    sns.set_palette(\"Dark2\")\n",
    "    sns.set_context(\"talk\")"
   ]
  },
  {
   "cell_type": "markdown",
   "metadata": {},
   "source": [
    "## Implementation <a id=\"Implementation\"/>\n",
    "[↑ Back to top](#toc)\n",
    "\n",
    "To implement an equation of state in python, we have to define a `class` which has to have the following methods:\n",
    "\n",
    "```python\n",
    "class EquationOfState:\n",
    "    def helmholtz_energy(self, state: StateHD) -> D\n",
    "    \n",
    "    def components(self) -> int\n",
    "    \n",
    "    def subset(self, indices: List[int]) -> Self\n",
    "    \n",
    "    def molar_weight(self) -> SIArray1\n",
    "    \n",
    "    def max_density(self, moles: SIArray1) -> f64\n",
    "```    \n",
    "\n",
    "- `components(self) -> int`: Returns the number of components (usually inferred from the shape of the input parameters).\n",
    "- `molar_weight(self) -> SIArray1`: Returns an `SIArray1` with size equal to the number of components containing the molar mass of each component.\n",
    "- `max_density(self, moles: np.ndarray[float]) -> float`: Returns the maximum allowed number density in units of `molecules/Angstrom³`.\n",
    "- `subset(self, indices: List[int]) -> self`: Returns a new equation of state with parameters defined in `indices`.\n",
    "- `helmholtz_energy(self, state: StateHD) -> Dual`: Returns the helmholtz energy as (hyper)-dual number given a `StateHD`."
   ]
  },
  {
   "cell_type": "code",
   "execution_count": 243,
   "metadata": {},
   "outputs": [],
   "source": [
    "SQRT2 = np.sqrt(2)\n",
    "\n",
    "class PyPengRobinson: \n",
    "    def __init__(self, critical_temperature, critical_pressure, acentric_factor, molar_weight, delta_ij=None):\n",
    "        \"\"\"Peng-Robinson Equation of State\n",
    "        \n",
    "        Parameters\n",
    "        ----------\n",
    "        critical_temperature : SIArray1\n",
    "            critical temperature of each component.\n",
    "        critical_pressure : SIArray1\n",
    "            critical pressure of each component.\n",
    "        acentric_factor : np.array[float] \n",
    "            acentric factor of each component (dimensionless).\n",
    "        molar_weight: SIArray1\n",
    "            molar weight of each component.\n",
    "        delta_ij : np.array[[float]], optional\n",
    "            binary parameters. Shape=[n, n], n = number of components.\n",
    "            defaults to zero for all binary interactions.\n",
    "            \n",
    "        Raises\n",
    "        ------\n",
    "        ValueError: if the input values have incompatible sizes.\n",
    "        \"\"\"\n",
    "        self.n = len(critical_temperature)\n",
    "        if len(set((len(critical_temperature), len(critical_pressure), len(acentric_factor)))) != 1:\n",
    "            raise ValueError(\"Input parameters must all have the same lenght.\")\n",
    "        \n",
    "        self.tc = critical_temperature / KELVIN\n",
    "        self.pc = critical_pressure / PASCAL\n",
    "        self.omega = acentric_factor\n",
    "        self.mw = molar_weight / GRAM * MOL\n",
    "\n",
    "        self.a_r = 0.45724 * critical_temperature**2 * RGAS / critical_pressure / ANGSTROM**3 / NAV / KELVIN\n",
    "        self.b = 0.07780 * critical_temperature * RGAS / critical_pressure / ANGSTROM**3 / NAV\n",
    "        self.kappa = 0.37464 + (1.54226 - 0.26992 * acentric_factor) * acentric_factor\n",
    "        self.delta_ij = np.zeros((self.n, self.n)) if delta_ij is None else delta_ij\n",
    "        \n",
    "    def helmholtz_energy(self, state):\n",
    "        \"\"\"Return helmholtz energy.\n",
    "        \n",
    "        Parameters\n",
    "        ----------\n",
    "        state : StateHD\n",
    "            The thermodynamic state.\n",
    "            \n",
    "        Returns\n",
    "        -------\n",
    "        helmholtz_energy: float | any dual number\n",
    "            The return type depends on the input types.\n",
    "        \"\"\"      \n",
    "        n = np.sum(state.moles)\n",
    "        x = state.molefracs\n",
    "        tr = 1.0 / self.tc * state.temperature\n",
    "        ak = ((1.0 - np.sqrt(tr)) * self.kappa + 1.0)**2 * self.a_r\n",
    "        ak_mix = 0.0\n",
    "        if self.n > 1:\n",
    "            for i in range(self.n):\n",
    "                for j in range(self.n):\n",
    "                    ak_mix += np.sqrt(ak[i] * ak[j]) * (x[i] * x[j] * (1.0 - self.delta_ij[i, j]))\n",
    "        else:\n",
    "            ak_mix = ak[0]\n",
    "        b = np.sum(x * self.b)\n",
    "        v = state.volume\n",
    "        rho = np.sum(state.partial_density)\n",
    "        a = n * (-np.log(1.0 - b * rho) - ak_mix / (b * SQRT2 * 2.0 * state.temperature)\n",
    "            * np.log((SQRT2 - 1.0 + b * rho) / (SQRT2 + 1.0 - b * rho)))\n",
    "        #a = n * (np.log(v / (v - b * n)) - ak_mix / (b * SQRT2 * 2.0 * state.temperature)\n",
    "        #    * np.log((v * (SQRT2 - 1.0) + b * n) / (v * (SQRT2 + 1.0) - b * n)))\n",
    "        return a\n",
    "    \n",
    "    def components(self) -> int: \n",
    "        \"\"\"Number of components.\"\"\"\n",
    "        return self.n\n",
    "    \n",
    "    def subset(self, i: [int]):\n",
    "        \"\"\"Return new equation of state containing a subset of all components.\"\"\"\n",
    "        if self.n > 1:\n",
    "            tc = self.tc[i] \n",
    "            pc = self.pc[i]\n",
    "            mw = self.mw[i]\n",
    "            omega = self.omega[i]\n",
    "            return PyPengRobinson(SIArray1(tc*KELVIN), SIArray1(pc*PASCAL), omega, SIArray1(mw*GRAM/MOL))\n",
    "        else:\n",
    "            return self\n",
    "        \n",
    "    def molar_weight(self) -> SIArray1:\n",
    "        return SIArray1(self.mw * GRAM / MOL)\n",
    "    \n",
    "    def max_density(self, moles:[float]) -> float:\n",
    "        b = np.sum(moles * self.b) / np.sum(moles);\n",
    "        return 0.9 / b "
   ]
  },
  {
   "cell_type": "markdown",
   "metadata": {},
   "source": [
    "## Computing properties <a id=\"Computing-properties\"/>\n",
    "[↑ Back to top](#toc)\n",
    "\n",
    "Let's compute some properties. First, we have to instanciate the class and register it to Rust.\n",
    "This is done using the `UserDefinedEos` class."
   ]
  },
  {
   "cell_type": "code",
   "execution_count": 230,
   "metadata": {},
   "outputs": [],
   "source": [
    "tc = SIArray1(369.96 * KELVIN)\n",
    "pc =SIArray1(4250000.0 * PASCAL)\n",
    "omega = np.array([0.153])\n",
    "molar_weight = SIArray1(44.0962 * GRAM / MOL)\n",
    "\n",
    "# create an instance of our python class and hand it over to rust\n",
    "eos = UserDefinedEos(PyPengRobinson(tc, pc, omega, molar_weight))"
   ]
  },
  {
   "cell_type": "markdown",
   "metadata": {},
   "source": [
    "### Thermodynamic state\n",
    "\n",
    "Before we can compute a property, we create a `State` object. This can be done in several ways depending on what control variables we need.\n",
    "If no total amount of substance is defined, it is set to $n = \\frac{1}{N_{AV}}$.\n",
    "For possible input combinations, you can inspect the signature of the constructor using `State?`."
   ]
  },
  {
   "cell_type": "code",
   "execution_count": 231,
   "metadata": {},
   "outputs": [
    {
     "data": {
      "text/plain": [
       "\u001b[0;31mInit signature:\u001b[0m \u001b[0mState\u001b[0m\u001b[0;34m(\u001b[0m\u001b[0mself\u001b[0m\u001b[0;34m,\u001b[0m \u001b[0;34m/\u001b[0m\u001b[0;34m,\u001b[0m \u001b[0;34m*\u001b[0m\u001b[0margs\u001b[0m\u001b[0;34m,\u001b[0m \u001b[0;34m**\u001b[0m\u001b[0mkwargs\u001b[0m\u001b[0;34m)\u001b[0m\u001b[0;34m\u001b[0m\u001b[0;34m\u001b[0m\u001b[0m\n",
       "\u001b[0;31mDocstring:\u001b[0m     \n",
       "A thermodynamic state at given conditions.\n",
       "\n",
       "Parameters\n",
       "----------\n",
       "eos : Eos\n",
       "    The equation of state to use.\n",
       "temperature : SINumber, optional\n",
       "    Temperature.\n",
       "volume : SINumber, optional\n",
       "    Volume.\n",
       "density : SINumber, optional\n",
       "    Molar density.\n",
       "partial_density : SIArray1, optional\n",
       "    Partial molar densities.\n",
       "total_moles : SINumber, optional\n",
       "    Total amount of substance (of a mixture).\n",
       "moles : SIArray1, optional\n",
       "    Amount of substance for each component.\n",
       "molefracs : numpy.ndarray[float]\n",
       "    Molar fraction of each component.\n",
       "pressure : SINumber, optional\n",
       "    System pressure.\n",
       "enthalpy : SINumber, optional\n",
       "    System enthalpy.\n",
       "entropy : SINumber, optional\n",
       "    System entropy.\n",
       "density_initialization : {'vapor', 'liquid', SINumber, None}, optional\n",
       "    Method used to initialize density for density iteration.\n",
       "    'vapor' and 'liquid' are inferred from the maximum density of the equation of state.\n",
       "    If no density or keyword is provided, the vapor and liquid phase is tested and, if\n",
       "    different, the result with the lower free energy is returned.\n",
       "initial_temperature : SINumber, optional\n",
       "    Initial temperature for temperature iteration. Can improve convergence\n",
       "    when the state is specified with pressure and entropy or enthalpy.\n",
       "\n",
       "Returns\n",
       "-------\n",
       "State : state at given conditions\n",
       "\n",
       "Raises\n",
       "------\n",
       "Error\n",
       "    When the state cannot be created using the combination of input.\n",
       "\u001b[0;31mType:\u001b[0m           type\n",
       "\u001b[0;31mSubclasses:\u001b[0m     \n"
      ]
     },
     "metadata": {},
     "output_type": "display_data"
    }
   ],
   "source": [
    "State?"
   ]
  },
  {
   "cell_type": "markdown",
   "metadata": {},
   "source": [
    "If we use input variables other than $\\mathbf{N}, V, T$ (the natural variables of the Helmholtz energy), creating a state is an iterative procedure.\n",
    "For example, we can create a state for a give $T, p$, which will result in a iteration of the volume (density)."
   ]
  },
  {
   "cell_type": "code",
   "execution_count": 232,
   "metadata": {},
   "outputs": [
    {
     "name": "stdout",
     "output_type": "stream",
     "text": [
      "2.302585092994046 + [-0.08662760318376472]ε1 + [-0.08662760318376472]ε2 + [0.00917197310744465]ε1ε2\n",
      "1.8255914962183022 + [-0.0467103238959507]ε1 + [-0.0467103238959507]ε2 + [0.003019987081582832]ε1ε2\n",
      "1.4756839265235884 + [-0.027834717039628115]ε1 + [-0.027834717039628115]ε2 + [0.0012340278105591662]ε1ε2\n",
      "1.2200362120254375 + [-0.017994262942847953]ε1 + [-0.017994262942847953]ε2 + [0.0005950556689008395]ε1ε2\n",
      "1.080904314889519 + [-0.013760230469474345]ε1 + [-0.013760230469474345]ε2 + [0.00038380776033003256]ε1ε2\n",
      "1.0347377815717116 + [-0.01250953603692134]ε1 + [-0.01250953603692134]ε2 + [0.00032898765199419506]ε1ε2\n",
      "1.0296989070285016 + [-0.012377448724739514]ε1 + [-0.012377448724739514]ε2 + [0.00032340378699590214]ε1ε2\n",
      "1.0296412923470635 + [-0.012375943397356828]ε1 + [-0.012375943397356828]ε2 + [0.0003233403785586802]ε1ε2\n",
      "1.029641284862942 + [-0.012375943201822746]ε1 + [-0.012375943201822746]ε2 + [0.00032334037032259277]ε1ε2\n",
      "0.0022600333643072283 + [-0.00000005462622203390296]ε1 + [-0.00000005462622203390296]ε2 + [0.0000000000026406914614284277]ε1ε2\n",
      "0.0022975327300245687 + [-0.000000056454021528831886]ε1 + [-0.000000056454021528831886]ε2 + [0.0000000000027743308350534793]ε1ε2\n",
      "0.0022975429233007857 + [-0.00000005645452246007696]ε1 + [-0.00000005645452246007696]ε2 + [0.0000000000027743677611923813]ε1ε2\n",
      "1.0296412848629413 + [-0.012375943201822734]ε\n",
      "0.0022975429233014506 + [-0.00000005645452246011398]ε\n"
     ]
    },
    {
     "data": {
      "text/latex": [
       "$1.6605\\times10^{-24}\\,\\mathrm{ mol}$"
      ],
      "text/plain": [
       "1.6605390671738466e-24  mol"
      ]
     },
     "execution_count": 232,
     "metadata": {},
     "output_type": "execute_result"
    }
   ],
   "source": [
    "# If no amount of substance is given, it is set to 1/NAV.\n",
    "s = State(eos, temperature=300*KELVIN, pressure=1*BAR)\n",
    "s.total_moles"
   ]
  },
  {
   "cell_type": "code",
   "execution_count": 233,
   "metadata": {},
   "outputs": [
    {
     "name": "stdout",
     "output_type": "stream",
     "text": [
      "2.302585092994046 + [-0.00000000000000000000000014384851938227482]ε1 + [-0.00000000000000000000000014384851938227482]ε2 + [0.000000000000000000000000000000000000000000000000025290706868133295]ε1ε2\n",
      "1.8255914962183022 + [-0.00000000000000000000000007756431766957021]ε1 + [-0.00000000000000000000000007756431766957021]ε2 + [0.000000000000000000000000000000000000000000000000008327282159589744]ε1ε2\n",
      "1.4756839265235884 + [-0.00000000000000000000000004622063506803204]ε1 + [-0.00000000000000000000000004622063506803204]ε2 + [0.0000000000000000000000000000000000000000000000000034026959366730273]ε1ε2\n",
      "1.2200362120254375 + [-0.000000000000000000000000029880176601597654]ε1 + [-0.000000000000000000000000029880176601597654]ε2 + [0.0000000000000000000000000000000000000000000000000016408005470684308]ε1ε2\n",
      "1.080904314889519 + [-0.000000000000000000000000022849400267878072]ε1 + [-0.000000000000000000000000022849400267878072]ε2 + [0.0000000000000000000000000000000000000000000000000010583076778041229]ε1ε2\n",
      "1.0347377815717118 + [-0.00000000000000000000000002077257330152699]ε1 + [-0.00000000000000000000000002077257330152699]ε2 + [0.0000000000000000000000000000000000000000000000000009071472596302367]ε1ε2\n",
      "1.0296989070285014 + [-0.000000000000000000000000020553237159371057]ε1 + [-0.000000000000000000000000020553237159371057]ε2 + [0.0000000000000000000000000000000000000000000000000008917503661582698]ε1ε2\n",
      "1.029641292347064 + [-0.000000000000000000000000020550737504443257]ε1 + [-0.000000000000000000000000020550737504443257]ε2 + [0.0000000000000000000000000000000000000000000000000008915755243679664]ε1ε2\n",
      "1.0296412848629422 + [-0.000000000000000000000000020550737179751264]ε1 + [-0.000000000000000000000000020550737179751264]ε2 + [0.00000000000000000000000000000000000000000000000000089157550165786]ε1ε2\n",
      "0.0022600333643072283 + [-0.00000000000000000000000000000009070897577940861]ε1 + [-0.00000000000000000000000000000009070897577940861]ε2 + [0.000000000000000000000000000000000000000000000000000000000007281416211955662]ε1ε2\n",
      "0.0022975327300245687 + [-0.00000000000000000000000000000009374410824769878]ε1 + [-0.00000000000000000000000000000009374410824769878]ε2 + [0.000000000000000000000000000000000000000000000000000000000007649912083541776]ε1ε2\n",
      "0.0022975429233007857 + [-0.00000000000000000000000000000009374494006360118]ε1 + [-0.00000000000000000000000000000009374494006360118]ε2 + [0.000000000000000000000000000000000000000000000000000000000007650013903307684]ε1ε2\n",
      "1.0296412848629415 + [-0.00000000000000000000000002055073717975124]ε\n",
      "0.0022975429233014506 + [-0.00000000000000000000000000000009374494006366263]ε\n"
     ]
    },
    {
     "data": {
      "text/latex": [
       "$1\\,\\mathrm{ mol}$"
      ],
      "text/plain": [
       "1  mol"
      ]
     },
     "execution_count": 233,
     "metadata": {},
     "output_type": "execute_result"
    }
   ],
   "source": [
    "s_pt = State(eos, temperature=300*KELVIN, pressure=1*BAR, total_moles=1*MOL)\n",
    "s_pt.total_moles"
   ]
  },
  {
   "cell_type": "markdown",
   "metadata": {},
   "source": [
    "We can use other variables as well. For example, we can create a state at given $h, p$ (using the enthalpy from the prior computation as input):"
   ]
  },
  {
   "cell_type": "code",
   "execution_count": 234,
   "metadata": {},
   "outputs": [
    {
     "name": "stdout",
     "output_type": "stream",
     "text": [
      "0.0022975429233014506 + [0]ε\n",
      "0.0022975429233014506 + [0]ε\n",
      "2.302585092994046 + [-0.08662760318376472]ε1 + [-0.08662760318376472]ε2 + [0.00917197310744465]ε1ε2\n",
      "1.8274056667296332 + [-0.04682772854397699]ε1 + [-0.04682772854397699]ε2 + [0.0030333680112820567]ε1ε2\n",
      "1.476962126549906 + [-0.027891425145335644]ε1 + [-0.027891425145335644]ε2 + [0.0012382978102308886]ε1ε2\n",
      "1.2258881362572531 + [-0.018188456782762354]ε1 + [-0.018188456782762354]ε2 + [0.0006056797358051933]ε1ε2\n",
      "1.091983697267067 + [-0.014071426279635679]ε1 + [-0.014071426279635679]ε2 + [0.0003979919465799623]ε1ε2\n",
      "1.0497512805747131 + [-0.012908210700930144]ε1 + [-0.012908210700930144]ε2 + [0.00034608043510878474]ε1ε2\n",
      "1.0456227978715837 + [-0.01279781444122372]ε1 + [-0.01279781444122372]ε2 + [0.0003413113934127781]ε1ε2\n",
      "1.0455848633211118 + [-0.012796802770087372]ε1 + [-0.012796802770087372]ε2 + [0.0003412678169504202]ε1ε2\n",
      "1.045584860135149 + [-0.012796802685123444]ε1 + [-0.012796802685123444]ε2 + [0.0003412678132908028]ε1ε2\n",
      "0.00227407267115836 + [-0.000000055307005485385314]ε1 + [-0.000000055307005485385314]ε2 + [0.0000000000026902096953847162]ε1ε2\n",
      "0.0023124667159861354 + [-0.00000005719031046757012]ε1 + [-0.00000005719031046757012]ε2 + [0.000000000002828782828558559]ε1ε2\n",
      "0.0023124775212512425 + [-0.00000005719084492558298]ε1 + [-0.00000005719084492558298]ε2 + [0.000000000002828822482212551]ε1ε2\n",
      "1.0455848601351478 + [-0.01279680268512342]ε\n",
      "0.0023124775212521285 + [-0.000000057190844925625285]ε\n",
      "0.0023124775212521285 + [0]ε1 + [0]ε2 + [0]ε1ε2\n",
      "0.0023124775212521285 + [-0.000000057190844925625285]ε1 + [0]ε2 + [0]ε1ε2\n",
      "0.0023124775212521285 + [-0.000000057190844925625285]ε1 + [-0.000000057190844925625285]ε2 + [0.0000000000028288224822156902]ε1ε2\n",
      "0.0023124775212521285 + [-0.000000057190844925625285]ε1 + [-0.000000057190844925625285]ε2 + [0.0000000000028288224822156902]ε1ε2\n",
      "0.002297583444854697 + [-0.000000056456513844990374]ε1 + [-0.000000056456513844990374]ε2 + [0.000000000002774514557720302]ε1ε2\n",
      "0.002297585052442432 + [-0.00000005645659284875669]ε1 + [-0.00000005645659284875669]ε2 + [0.000000000002774520381599371]ε1ε2\n",
      "0.002297585052442432 + [0]ε1 + [0]ε2 + [0]ε1ε2\n",
      "0.002297585052442432 + [-0.00000005645659284875764]ε1 + [0]ε2 + [0]ε1ε2\n",
      "0.002297585052442432 + [-0.00000005645659284875764]ε1 + [-0.00000005645659284875764]ε2 + [0.0000000000027745203815994408]ε1ε2\n",
      "0.002297585052442432 + [-0.00000005645659284875764]ε1 + [-0.00000005645659284875764]ε2 + [0.0000000000027745203815994408]ε1ε2\n",
      "0.0022975429236286576 + [-0.000000056454522476192855]ε1 + [-0.000000056454522476192855]ε2 + [0.000000000002774367762380367]ε1ε2\n",
      "0.0022975429236415067 + [0]ε1 + [0]ε2 + [0]ε1ε2\n",
      "0.0022975429236415067 + [-0.00000005645452247682499]ε1 + [0]ε2 + [0]ε1ε2\n",
      "0.0022975429236415067 + [-0.00000005645452247682499]ε1 + [-0.00000005645452247682499]ε2 + [0.0000000000027743677624269653]ε1ε2\n",
      "0.0022975429236415067 + [-0.00000005645452247682499]ε1 + [-0.00000005645452247682499]ε2 + [0.0000000000027743677624269653]ε1ε2\n",
      "0.0022975429233014506 + [-0.00000005645452246011383]ε1 + [-0.00000005645452246011383]ε2 + [0.000000000002774367761195099]ε1ε2\n",
      "0.0022975429233014506 + [0]ε1 + [0]ε2 + [0]ε1ε2\n",
      "0.0022975429233014506 + [-0.00000005645452246011375]ε1 + [0]ε2 + [0]ε1ε2\n",
      "0.0022975429233014506 + [-0.00000005645452246011375]ε1 + [-0.00000005645452246011375]ε2 + [0.0000000000027743677611950943]ε1ε2\n"
     ]
    }
   ],
   "source": [
    "h = s.molar_enthalpy()\n",
    "s_ph = State(eos, pressure=1*BAR, enthalpy=s_pt.molar_enthalpy())"
   ]
  },
  {
   "cell_type": "code",
   "execution_count": 235,
   "metadata": {},
   "outputs": [
    {
     "name": "stdout",
     "output_type": "stream",
     "text": [
      "rel. dev.\n",
      "entropy    :  1.2028878239185388e-16\n",
      "density    :  -1.8532974044002563e-15\n",
      "temperature:  1.5158245029548805e-15\n"
     ]
    }
   ],
   "source": [
    "# check if states are equal\n",
    "print(\"rel. dev.\")\n",
    "print(\"entropy    : \", (s_ph.molar_entropy() - s_pt.molar_entropy()) / s_pt.molar_entropy())\n",
    "print(\"density    : \", (s_ph.mass_density() - s_pt.mass_density()) / s_pt.mass_density())\n",
    "print(\"temperature: \", (s_ph.temperature - s_pt.temperature) / s_pt.temperature)"
   ]
  },
  {
   "cell_type": "markdown",
   "metadata": {},
   "source": [
    "## Critical point <a id=\"Critical-point\"/>\n",
    "[↑ Back to top](#toc)\n",
    "\n",
    "To generate a state at critical conditions, we can use the `critical_point` constructor."
   ]
  },
  {
   "cell_type": "code",
   "execution_count": 236,
   "metadata": {},
   "outputs": [
    {
     "name": "stdout",
     "output_type": "stream",
     "text": [
      "0.3147107448397002 + [0]ε + [0.36986301369863017 + [0]ε]ε1 + [0.36986301369863017 + [0]ε]ε2 + [0.13679864890223303 + [0]ε]ε1ε2\n",
      "0.3147107448397002 + [0]ε + 0.36986301369863017 + [0]εv1 + 0.13679864890223303 + [0]εv2 + 0.10119352110576144 + [0]εv3\n",
      "0.3147107448397002 + [128.08723782211763]ε + [0.36986301369863017 + [175.46196961933921]ε]ε1 + [0.36986301369863017 + [175.46196961933921]ε]ε2 + [0.13679864890223303 + [129.79378574581256]ε]ε1ε2\n",
      "0.3147107448397002 + [128.08723782211763]ε + 0.36986301369863017 + [175.46196961933921]εv1 + 0.13679864890223303 + [129.79378574581256]εv2 + 0.10119352110576144 + [144.01776226590158]εv3\n",
      "0.29321487274135344 + [0]ε + [0.340730845995225 + [0]ε]ε1 + [0.340730845995225 + [0]ε]ε2 + [0.11609750941262177 + [0]ε]ε1ε2\n",
      "0.29321487274135344 + [0]ε + 0.340730845995225 + [0]εv1 + 0.11609750941262183 + [0]εv2 + 0.07911600520020237 + [0]εv3\n",
      "0.29321487274135344 + [125.36327283030073]ε + [0.340730845995225 + [168.07840683849935]ε]ε1 + [0.340730845995225 + [168.07840683849935]ε]ε2 + [0.11609750941262177 + [114.53899551122294]ε]ε1ε2\n",
      "0.29321487274135344 + [125.36327283030073]ε + 0.340730845995225 + [168.07840683849935]εv1 + 0.11609750941262183 + [114.53899551122294]εv2 + 0.07911600520020237 + [117.08090651994686]εv3\n",
      "0.2918027016818652 + [0]ε + [0.3388388409277717 + [0]ε]ε1 + [0.3388388409277717 + [0]ε]ε2 + [0.11481176012127578 + [0]ε]ε1ε2\n",
      "0.2918027016818652 + [0]ε + 0.3388388409277717 + [0]εv1 + 0.11481176012127577 + [0]εv2 + 0.07780536744874092 + [0]εv3\n",
      "0.2918027016818652 + [125.18636338708477]ε + [0.3388388409277717 + [167.60436565712737]ε]ε1 + [0.3388388409277717 + [167.60436565712737]ε]ε2 + [0.11481176012127578 + [113.58173798739097]ε]ε1ε2\n",
      "0.2918027016818652 + [125.18636338708477]ε + 0.3388388409277717 + [167.6043656571274]εv1 + 0.11481176012127577 + [113.581737987391]εv2 + 0.07780536744874092 + [115.45771335062824]εv3\n",
      "0.2917926268264618 + [0]ε + [0.33882535238798855 + [0]ε]ε1 + [0.33882535238798855 + [0]ε]ε2 + [0.11480261942084463 + [0]ε]ε1ε2\n",
      "0.2917926268264618 + [0]ε + 0.33882535238798855 + [0]εv1 + 0.11480261942084463 + [0]εv2 + 0.07779607596066368 + [0]εv3\n",
      "0.2917926268264618 + [125.18510215892853]ε + [0.33882535238798855 + [167.60098851165387]ε]ε1 + [0.33882535238798855 + [167.60098851165387]ε]ε2 + [0.11480261942084463 + [113.57492798607264]ε]ε1ε2\n",
      "0.2917926268264618 + [125.18510215892853]ε + 0.33882535238798855 + [167.60098851165387]εv1 + 0.11480261942084463 + [113.57492798607265]εv2 + 0.07779607596066368 + [115.44619499196455]εv3\n",
      "0.29179262459618055 + [0]ε + [0.3388253494020314 + [0]ε]ε1 + [0.3388253494020314 + [0]ε]ε2 + [0.11480261739740864 + [0]ε]ε1ε2\n",
      "0.29179262459618055 + [0]ε + 0.3388253494020314 + [0]εv1 + 0.11480261739740868 + [0]εv2 + 0.0777960739038894 + [0]εv3\n",
      "0.29179262459618055 + [125.18510187973052]ε + [0.3388253494020314 + [167.60098776405914]ε]ε1 + [0.3388253494020314 + [167.60098776405914]ε]ε2 + [0.11480261739740864 + [113.57492647856583]ε]ε1ε2\n",
      "0.29179262459618055 + [125.18510187973052]ε + 0.3388253494020314 + [167.60098776405914]εv1 + 0.11480261739740868 + [113.57492647856583]εv2 + 0.0777960739038894 + [115.44619244223026]εv3\n",
      "Critical point\n",
      "temperature:  369.9506174234607 K\n",
      "density    :  198.1862458057177 kg/m³\n",
      "0.29179262459617944 + [-0.0009170629385891499]ε\n",
      "pressure   :  4.249677749116942 MPa\n"
     ]
    }
   ],
   "source": [
    "s_cp = State.critical_point(eos)\n",
    "print(\"Critical point\")\n",
    "print(\"temperature: \", s_cp.temperature)\n",
    "print(\"density    : \", s_cp.mass_density())\n",
    "print(\"pressure   : \", s_cp.pressure())"
   ]
  },
  {
   "cell_type": "markdown",
   "metadata": {},
   "source": [
    "## Phase equilibria and phase diagrams<a id=\"Phase-equilibria-and-phase-diagrams\"/>\n",
    "[↑ Back to top](#toc)\n",
    "\n",
    "We can also create an object, `PhaseEquilibrium`, that contains states that are in equilibrium."
   ]
  },
  {
   "cell_type": "code",
   "execution_count": 240,
   "metadata": {},
   "outputs": [
    {
     "name": "stdout",
     "output_type": "stream",
     "text": [
      "1.1239300966523997 + [-0.014993239012574665]ε\n",
      "1.1239300966523997 + [2.0769230769230775]ε\n",
      "2.302585092994046 + [-0.08662760318376472]ε1 + [-0.08662760318376472]ε2 + [0.00917197310744465]ε1ε2\n",
      "1.9363971095750434 + [-0.05430745508059889]ε1 + [-0.05430745508059889]ε2 + [0.003943380105248674]ε1ε2\n",
      "1.7391206569883122 + [-0.04136746668594554]ε1 + [-0.04136746668594554]ε2 + [0.0024406555652056795]ε1ε2\n",
      "1.68515237729741 + [-0.03827323930428011]ε1 + [-0.03827323930428011]ε2 + [0.002131697175986988]ε1ε2\n",
      "1.6815330326673077 + [-0.038072043710560256]ε1 + [-0.038072043710560256]ε2 + [0.002112283812942808]ε1ε2\n",
      "1.6815175428254494 + [-0.038071184322215186]ε1 + [-0.038071184322215186]ε2 + [0.0021122010677942817]ε1ε2\n",
      "1.6815175425427948 + [-0.03807118430653342]ε1 + [-0.03807118430653342]ε2 + [0.0021122010662843966]ε1ε2\n",
      "NaN + [0.04316887526020294]ε1 + [0.04316887526020294]ε2 + [-0.00017708577641613495]ε1ε2\n",
      "2.302585092994046 + [-0.08662760318376472]ε1 + [-0.08662760318376472]ε2 + [0.00917197310744465]ε1ε2\n",
      "1.9363971095750434 + [-0.05430745508059889]ε1 + [-0.05430745508059889]ε2 + [0.003943380105248674]ε1ε2\n",
      "1.7391206569883122 + [-0.04136746668594554]ε1 + [-0.04136746668594554]ε2 + [0.0024406555652056795]ε1ε2\n",
      "1.68515237729741 + [-0.03827323930428011]ε1 + [-0.03827323930428011]ε2 + [0.002131697175986988]ε1ε2\n",
      "1.6815330326673077 + [-0.038072043710560256]ε1 + [-0.038072043710560256]ε2 + [0.002112283812942808]ε1ε2\n",
      "1.6815175428254494 + [-0.038071184322215186]ε1 + [-0.038071184322215186]ε2 + [0.0021122010677942817]ε1ε2\n",
      "1.6815175425427948 + [-0.03807118430653342]ε1 + [-0.03807118430653342]ε2 + [0.0021122010662843966]ε1ε2\n",
      "0.000009000040500201383 + -0.0000000000008662838283921031v1 + 0.00000000000000000016676539873759056v2 + -0.000000000000000000000000048155172654984793v3\n",
      "0.04605336262958333 + -0.00002268666869377365v1 + 0.000000022355627064336545v2 + -0.0000000000330499621858195v3\n",
      "0.09432056963003888 + -0.00009521515000772261v1 + 0.0000001923789260793225v2 + -0.0000000005834740825467604v3\n",
      "0.1450361767286636 + -0.00022536430588376266v1 + 0.0000007015914430284908v2 + -0.0000000032819553714598935v3\n",
      "0.1696977981865227 + -0.00030872063229360524v1 + 0.0000011259667390953836v2 + -0.000000006174655320125308v3\n",
      "0.17240126883235996 + -0.00031866004351591685v1 + 0.0000011809148425540526v2 + -0.000000006580666309951593v3\n",
      "0.1724319078745413 + -0.0003187735982189169v1 + 0.0000011815476849630682v2 + -0.000000006585380272684441v3\n",
      "0.17243191178034997 + -0.0003187736126959604v1 + 0.000001181547765651168v2 + -0.000000006585380873774303v3\n",
      "2.302585092994046 + -0.08662760318376472v1 + 0.00917197310744465v2 + -0.0017817093169856632v3\n",
      "1.9310215365615633 + -0.05391821508506737v1 + 0.003893232907676873v2 + -0.0005000485227899625v3\n",
      "1.660731206821651 + -0.03693071504149971v1 + 0.0020037215790579977v2 + -0.0001882560749343824v3\n",
      "1.4481697648379788 + -0.02663338012777449v1 + 0.0011451387153368741v2 + -0.0000833012351612613v3\n",
      "1.2729656758128873 + -0.01980059501343193v1 + 0.0006970018895750143v2 + -0.00004068435161830501v3\n",
      "1.123930096652399 + -0.014993239012574645v1 + 0.0004412686093582998v2 + -0.000021165798285604552v3\n",
      "0.9942522733438666 + -0.011472304205417479v1 + 0.0002862077085410259v2 + -0.00001146529656951817v3\n",
      "0.8794767587514386 + -0.008819316227744716v1 + 0.00018813534922362438v2 + -0.000006362993857821776v3\n",
      "0.776528789498996 + -0.006779551553512012v1 + 0.00012426849283226233v2 + -0.000003572545274007764v3\n",
      "0.683196849706777 + -0.005189079200611645v1 + 0.000081867569979963v2 + -0.000002007286355936424v3\n",
      "0.5978370007556202 + -0.003937618326534756v1 + 0.000053405553405481516v2 + -0.000001117027944076435v3\n",
      "0.5191938734365069 + -0.0029482503604558548v1 + 0.00003423216641912417v2 + -0.0000006090184364641271v3\n",
      "0.4754517896544866 + -0.002463485881978423v1 + 0.00002600750257516265v2 + -0.00000041932459737260357v3\n",
      "0.4682884420644557 + -0.0023884723669002276v1 + 0.000024808101482320083v2 + -0.00000039332053185378544v3\n",
      "0.4680978515386027 + -0.0023864932116445833v1 + 0.000024776729984530707v2 + -0.0000003926464250850778v3\n",
      "0.46809771757672364 + -0.002386491820843728v1 + 0.000024776707943975006v2 + -0.0000003926459515899553v3\n",
      "0.17243191178035017 + [-0.00031877361269596065]ε\n",
      "0.468097717576657 + [-0.0023864918208430373]ε\n",
      "2.302585092994046 + [-0.08662760318376472]ε1 + [-0.08662760318376472]ε2 + [0.00917197310744465]ε1ε2\n",
      "1.7893025131769624 + [-0.04440844318914303]ε1 + [-0.04440844318914303]ε2 + [0.0027632835486839516]ε1ε2\n",
      "1.4499728242375296 + [-0.02671098324399487]ε1 + [-0.02671098324399487]ε2 + [0.0011507900908485824]ε1ε2\n",
      "1.1970744434680158 + [-0.017245252036417955]ε1 + [-0.017245252036417955]ε2 + [0.0005548402086006489]ε1ε2\n",
      "0.9953970829644966 + [-0.01150088612328173]ε1 + [-0.01150088612328173]ε2 + [0.00028735361964044124]ε1ε2\n",
      "0.8276466695085943 + [-0.007753756681773123]ε1 + [-0.007753756681773123]ε2 + [0.000153481141299]ε1ε2\n",
      "0.6932055318076593 + [-0.0053483190374912955]ε1 + [-0.0053483190374912955]ε2 + [0.00008580687372777542]ε1ε2\n",
      "0.6218190644691519 + [-0.004270199689576882]ε1 + [-0.004270199689576882]ε2 + [0.0000605269359664506]ε1ε2\n",
      "0.5962888239509905 + [-0.003916650891958464]ε1 + [-0.003916650891958464]ε2 + [0.00005296766219836893]ε1ε2\n",
      "0.5927783752064743 + [-0.0038693324208477872]ε1 + [-0.0038693324208477872]ε2 + [0.00005198432626393291]ε1ε2\n",
      "0.5927135443832067 + [-0.003868461474412381]ε1 + [-0.003868461474412381]ε2 + [0.000051966290432127157]ε1ε2\n",
      "0.5927135224324929 + [-0.003868461179541372]ε1 + [-0.003868461179541372]ε2 + [0.0000519662843262351]ε1ε2\n",
      "0.05266669383701073 + [-0.000029671792027922415]ε1 + [-0.000029671792027922415]ε2 + [0.00000003344120069617189]ε1ε2\n",
      "0.0775990048149104 + [-0.0000644319834970574]ε1 + [-0.0000644319834970574]ε2 + [0.0000001070519786449208]ε1ε2\n",
      "0.08302045462748611 + [-0.00007375490772127816]ε1 + [-0.00007375490772127816]ε2 + [0.00000013112215558603675]ε1ε2\n",
      "0.08325871656300936 + [-0.00007417910121500996]ε1 + [-0.00007417910121500996]ε2 + [0.0000001322556377741578]ε1ε2\n",
      "0.08325916430471492 + [-0.00007417989950621936]ε1 + [-0.00007417989950621936]ε2 + [0.00000013225777394961516]ε1ε2\n",
      "0.08325916430629399 + [-0.00007417989950903458]ε1 + [-0.00007417989950903458]ε2 + [0.00000013225777395714852]ε1ε2\n",
      "0.08325916430629399 + [-0.00007417989950903473]ε\n",
      "0.5927135224324913 + [-0.0038684611795413494]ε1 + [-0.0038684611795413494]ε2 + [0.00005196628432623464]ε1ε2\n",
      "0.08325916430629399 + [-0.00007417989950903473]ε1 + [-0.00007417989950903473]ε2 + [0.000000132257773957149]ε1ε2\n",
      "0.6212371495515971 + [-0.004261955818198135]ε1 + [-0.004261955818198135]ε2 + [0.00006034645679659387]ε1ε2\n",
      "0.10175446862402526 + [-0.00011082888177828459]ε1 + [-0.00011082888177828459]ε2 + [0.00000024163336632759064]ε1ε2\n",
      "0.61834366908188 + [-0.004221093384185348]ε1 + [-0.004221093384185348]ε2 + [0.00005945482337270246]ε1ε2\n",
      "0.10587277398595336 + [-0.00011999012203489492]ε1 + [-0.00011999012203489492]ε2 + [0.00000027223383255939726]ε1ε2\n",
      "0.6183952033601444 + [-0.004221819287330757]ε1 + [-0.004221819287330757]ε2 + [0.000059470619984781624]ε1ε2\n",
      "0.1061527010679947 + [-0.00012062606390958095]ε1 + [-0.00012062606390958095]ε2 + [0.00000027440297082008083]ε1ε2\n",
      "0.618395514259729 + [-0.00422182366681624]ε1 + [-0.00422182366681624]ε2 + [0.00005947071529288533]ε1ε2\n",
      "0.10615387115205957 + [-0.00012062872565870275]ε1 + [-0.00012062872565870275]ε2 + [0.0000002744120618963059]ε1ε2\n",
      "0.618395514265039 + [-0.004221823666891038]ε1 + [-0.004221823666891038]ε2 + [0.000059470715294513126]ε1ε2\n",
      "0.1061538711726098 + [-0.0001206287257054516]ε1 + [-0.0001206287257054516]ε2 + [0.0000002744120620559752]ε1ε2\n"
     ]
    },
    {
     "name": "stderr",
     "output_type": "stream",
     "text": [
      "<ipython-input-229-3b82d65f3a0a>:66: RuntimeWarning: invalid value encountered in log\n",
      "  print(np.log(1 / (1 - b * rho)))\n",
      "<ipython-input-229-3b82d65f3a0a>:67: RuntimeWarning: invalid value encountered in log\n",
      "  a = n * (-np.log(1.0 - b * rho) - ak_mix / (b * SQRT2 * 2.0 * state.temperature)\n"
     ]
    },
    {
     "data": {
      "text/markdown": [
       "||temperature|density|\n",
       "|-|-|-|\n",
       "|phase 1|350.00000 K|1.78858 kmol/m³|\n",
       "|phase 2|350.00000 K|8.19034 kmol/m³|\n"
      ],
      "text/plain": [
       "phase 0: T = 350.00000 K, ρ = 1.78858 kmol/m³\n",
       "phase 1: T = 350.00000 K, ρ = 8.19034 kmol/m³"
      ]
     },
     "execution_count": 240,
     "metadata": {},
     "output_type": "execute_result"
    }
   ],
   "source": [
    "vle = PhaseEquilibrium.pure_t(eos, temperature=350*KELVIN)\n",
    "vle"
   ]
  },
  {
   "cell_type": "code",
   "execution_count": 210,
   "metadata": {},
   "outputs": [
    {
     "data": {
      "text/plain": [
       "0.10526051065749294"
      ]
     },
     "execution_count": 210,
     "metadata": {},
     "output_type": "execute_result"
    }
   ],
   "source": []
  },
  {
   "cell_type": "code",
   "execution_count": 209,
   "metadata": {},
   "outputs": [
    {
     "data": {
      "text/plain": [
       "0.10560000793534514"
      ]
     },
     "execution_count": 209,
     "metadata": {},
     "output_type": "execute_result"
    }
   ],
   "source": [
    "np.log(928 / (928 - 93))"
   ]
  },
  {
   "cell_type": "markdown",
   "metadata": {},
   "source": [
    "Each phase is a `State` object. We can simply access these states and compute properties, just like before."
   ]
  },
  {
   "cell_type": "code",
   "execution_count": 131,
   "metadata": {},
   "outputs": [
    {
     "data": {
      "text/markdown": [
       "|temperature|density|\n",
       "|-|-|\n",
       "|350.00000 K|8.19034 kmol/m³|"
      ],
      "text/plain": [
       "T = 350.00000 K, ρ = 8.19034 kmol/m³"
      ]
     },
     "execution_count": 131,
     "metadata": {},
     "output_type": "execute_result"
    }
   ],
   "source": [
    "vle.liquid # the high density phase `State`"
   ]
  },
  {
   "cell_type": "code",
   "execution_count": 132,
   "metadata": {},
   "outputs": [
    {
     "data": {
      "text/markdown": [
       "|temperature|density|\n",
       "|-|-|\n",
       "|350.00000 K|1.78858 kmol/m³|"
      ],
      "text/plain": [
       "T = 350.00000 K, ρ = 1.78858 kmol/m³"
      ]
     },
     "execution_count": 132,
     "metadata": {},
     "output_type": "execute_result"
    }
   ],
   "source": [
    "vle.vapor # the low density phase `State`"
   ]
  },
  {
   "cell_type": "code",
   "execution_count": 133,
   "metadata": {},
   "outputs": [
    {
     "name": "stdout",
     "output_type": "stream",
     "text": [
      "Heat of vaporization:  8.591742172312552 kJ/mol\n",
      "for T = 350 K\n",
      "and p = 29.63 bar\n"
     ]
    }
   ],
   "source": [
    "# we can now easily compute any property:\n",
    "print(\"Heat of vaporization: \", vle.vapor.molar_enthalpy() - vle.liquid.molar_enthalpy())\n",
    "print(\"for T = {}\".format(vle.liquid.temperature))\n",
    "print(\"and p = {:.2f} bar\".format(vle.liquid.pressure() / BAR))"
   ]
  },
  {
   "cell_type": "markdown",
   "metadata": {},
   "source": [
    "We can also easily compute **vapor pressures** and **boiling temperatures**:"
   ]
  },
  {
   "cell_type": "code",
   "execution_count": 134,
   "metadata": {},
   "outputs": [
    {
     "name": "stdout",
     "output_type": "stream",
     "text": [
      "vapor pressure      (T = 300 K): 994.7761635610093 kPa\n",
      "boiling temperature (p = 3 bar): 247.8403557495675 K\n"
     ]
    },
    {
     "name": "stderr",
     "output_type": "stream",
     "text": [
      "<ipython-input-122-854a13decc13>:65: RuntimeWarning: invalid value encountered in log\n",
      "  a = n * (np.log(v / (v - b * n)) - ak_mix / (b * SQRT2 * 2.0 * state.temperature)\n",
      "<ipython-input-122-854a13decc13>:66: RuntimeWarning: invalid value encountered in log\n",
      "  * np.log((v * (SQRT2 - 1.0) + b * n) / (v * (SQRT2 + 1.0) - b * n)))\n"
     ]
    }
   ],
   "source": [
    "# This also works for mixtures, in which case the pure component properties are computed.\n",
    "# Hence, the result is a list - that is why we use an index [0] here.\n",
    "print(\"vapor pressure      (T = 300 K):\", PhaseEquilibrium.vapor_pressure(eos, 300*KELVIN)[0])\n",
    "print(\"boiling temperature (p = 3 bar):\", PhaseEquilibrium.boiling_temperature(eos, 2*BAR)[0])"
   ]
  },
  {
   "cell_type": "markdown",
   "metadata": {},
   "source": [
    "### Phase Diagram\n",
    "\n",
    "We could repeatedly compute `PhaseEquilibrium` states for different temperatures / pressures to generate a phase diagram.\n",
    "Because this a common task, there is a object for that as well.\n",
    "\n",
    "The `PhaseDiagramPure` object creates multiple `PhaseEquilibrium` objects (`npoints`) between a given lower temperature and the critical point."
   ]
  },
  {
   "cell_type": "code",
   "execution_count": 135,
   "metadata": {},
   "outputs": [
    {
     "name": "stderr",
     "output_type": "stream",
     "text": [
      "<ipython-input-122-854a13decc13>:65: RuntimeWarning: invalid value encountered in log\n",
      "  a = n * (np.log(v / (v - b * n)) - ak_mix / (b * SQRT2 * 2.0 * state.temperature)\n",
      "<ipython-input-122-854a13decc13>:66: RuntimeWarning: invalid value encountered in log\n",
      "  * np.log((v * (SQRT2 - 1.0) + b * n) / (v * (SQRT2 + 1.0) - b * n)))\n"
     ]
    }
   ],
   "source": [
    "dia = PhaseDiagramPure(eos, 230.0 * KELVIN, 500)"
   ]
  },
  {
   "cell_type": "markdown",
   "metadata": {},
   "source": [
    "We can have access to each `PhaseEquilbrium` and can conveniently comput any property we like:"
   ]
  },
  {
   "cell_type": "code",
   "execution_count": 136,
   "metadata": {},
   "outputs": [],
   "source": [
    "enthalpy_of_vaporization = [(vle.vapor.molar_enthalpy() - vle.liquid.molar_enthalpy()) / (KILO * JOULE) * MOL for vle in dia.states]"
   ]
  },
  {
   "cell_type": "code",
   "execution_count": 137,
   "metadata": {},
   "outputs": [
    {
     "data": {
      "image/png": "[encoded data removed]",
      "text/plain": [
       "<Figure size 504x288 with 1 Axes>"
      ]
     },
     "metadata": {},
     "output_type": "display_data"
    }
   ],
   "source": [
    "fig, ax = plt.subplots(figsize=(7, 4))\n",
    "sns.lineplot(x=dia.temperature / KELVIN, y=enthalpy_of_vaporization, ax=ax);\n",
    "ax.set_ylabel(r\"$\\Delta^{LV}h$ / kJ / mol\")\n",
    "ax.set_xlabel(r\"$T$ / K\");"
   ]
  },
  {
   "cell_type": "markdown",
   "metadata": {},
   "source": [
    "A more convenient way is to create a dictionary. The dictionary can conveniently be used with pandas dataframe objects.\n",
    "This is a bit less flexible, because the units of the properties are rigid. You can inspect the method signature to check what units are used."
   ]
  },
  {
   "cell_type": "code",
   "execution_count": 138,
   "metadata": {},
   "outputs": [
    {
     "data": {
      "text/plain": [
       "\u001b[0;31mDocstring:\u001b[0m\n",
       "Returns the phase diagram as dictionary.\n",
       "\n",
       "Note\n",
       "----\n",
       "temperature : K\n",
       "pressure : Pa\n",
       "densities : mol / m³\n",
       "molar enthalpies : kJ / mol\n",
       "molar entropies : kJ / mol / K\n",
       "\n",
       "Returns\n",
       "-------\n",
       "dict[str, list[float]]\n",
       "    Keys: property names. Values: property for each state.\n",
       "\u001b[0;31mType:\u001b[0m      builtin_function_or_method\n"
      ]
     },
     "metadata": {},
     "output_type": "display_data"
    }
   ],
   "source": [
    "dia.to_dict?"
   ]
  },
  {
   "cell_type": "code",
   "execution_count": 139,
   "metadata": {},
   "outputs": [
    {
     "data": {
      "text/html": [
       "<div>\n",
       "<style scoped>\n",
       "    .dataframe tbody tr th:only-of-type {\n",
       "        vertical-align: middle;\n",
       "    }\n",
       "\n",
       "    .dataframe tbody tr th {\n",
       "        vertical-align: top;\n",
       "    }\n",
       "\n",
       "    .dataframe thead th {\n",
       "        text-align: right;\n",
       "    }\n",
       "</style>\n",
       "<table border=\"1\" class=\"dataframe\">\n",
       "  <thead>\n",
       "    <tr style=\"text-align: right;\">\n",
       "      <th></th>\n",
       "      <th>molar enthalpy liquid</th>\n",
       "      <th>temperature</th>\n",
       "      <th>pressure</th>\n",
       "      <th>density liquid</th>\n",
       "      <th>density vapor</th>\n",
       "      <th>molar entropy liquid</th>\n",
       "      <th>molar enthalpy vapor</th>\n",
       "      <th>molar entropy vapor</th>\n",
       "    </tr>\n",
       "  </thead>\n",
       "  <tbody>\n",
       "    <tr>\n",
       "      <th>0</th>\n",
       "      <td>3.376293</td>\n",
       "      <td>230.000000</td>\n",
       "      <td>96625.278174</td>\n",
       "      <td>14125.988947</td>\n",
       "      <td>52.208491</td>\n",
       "      <td>0.039106</td>\n",
       "      <td>22.140400</td>\n",
       "      <td>0.120689</td>\n",
       "    </tr>\n",
       "    <tr>\n",
       "      <th>1</th>\n",
       "      <td>3.383021</td>\n",
       "      <td>230.280462</td>\n",
       "      <td>97830.133956</td>\n",
       "      <td>14118.006852</td>\n",
       "      <td>52.811929</td>\n",
       "      <td>0.039135</td>\n",
       "      <td>22.135738</td>\n",
       "      <td>0.120569</td>\n",
       "    </tr>\n",
       "    <tr>\n",
       "      <th>2</th>\n",
       "      <td>3.389761</td>\n",
       "      <td>230.560924</td>\n",
       "      <td>99046.729400</td>\n",
       "      <td>14110.010220</td>\n",
       "      <td>53.420767</td>\n",
       "      <td>0.039164</td>\n",
       "      <td>22.131064</td>\n",
       "      <td>0.120449</td>\n",
       "    </tr>\n",
       "    <tr>\n",
       "      <th>3</th>\n",
       "      <td>3.396514</td>\n",
       "      <td>230.841386</td>\n",
       "      <td>100275.143120</td>\n",
       "      <td>14101.999011</td>\n",
       "      <td>54.035036</td>\n",
       "      <td>0.039193</td>\n",
       "      <td>22.126380</td>\n",
       "      <td>0.120330</td>\n",
       "    </tr>\n",
       "    <tr>\n",
       "      <th>4</th>\n",
       "      <td>3.403278</td>\n",
       "      <td>231.121849</td>\n",
       "      <td>101515.453964</td>\n",
       "      <td>14093.973182</td>\n",
       "      <td>54.654773</td>\n",
       "      <td>0.039221</td>\n",
       "      <td>22.121683</td>\n",
       "      <td>0.120211</td>\n",
       "    </tr>\n",
       "  </tbody>\n",
       "</table>\n",
       "</div>"
      ],
      "text/plain": [
       "   molar enthalpy liquid  temperature       pressure  density liquid  \\\n",
       "0               3.376293   230.000000   96625.278174    14125.988947   \n",
       "1               3.383021   230.280462   97830.133956    14118.006852   \n",
       "2               3.389761   230.560924   99046.729400    14110.010220   \n",
       "3               3.396514   230.841386  100275.143120    14101.999011   \n",
       "4               3.403278   231.121849  101515.453964    14093.973182   \n",
       "\n",
       "   density vapor  molar entropy liquid  molar enthalpy vapor  \\\n",
       "0      52.208491              0.039106             22.140400   \n",
       "1      52.811929              0.039135             22.135738   \n",
       "2      53.420767              0.039164             22.131064   \n",
       "3      54.035036              0.039193             22.126380   \n",
       "4      54.654773              0.039221             22.121683   \n",
       "\n",
       "   molar entropy vapor  \n",
       "0             0.120689  \n",
       "1             0.120569  \n",
       "2             0.120449  \n",
       "3             0.120330  \n",
       "4             0.120211  "
      ]
     },
     "execution_count": 139,
     "metadata": {},
     "output_type": "execute_result"
    }
   ],
   "source": [
    "data_dia = pd.DataFrame(dia.to_dict())\n",
    "data_dia.head()"
   ]
  },
  {
   "cell_type": "markdown",
   "metadata": {},
   "source": [
    "Once we have a dataframe, we can store our results or create a nicely looking plot:"
   ]
  },
  {
   "cell_type": "code",
   "execution_count": 140,
   "metadata": {},
   "outputs": [],
   "source": [
    "def phase_plot(data, x, y):\n",
    "    fig, ax = plt.subplots(figsize=(12, 6))\n",
    "    if x != \"pressure\" and x != \"temperature\":\n",
    "        xl = f\"{x} liquid\"\n",
    "        xv = f\"{x} vapor\"\n",
    "    else:\n",
    "        xl = x\n",
    "        xv = x\n",
    "    if y != \"pressure\" and y != \"temperature\":\n",
    "        yl = f\"{y} liquid\"\n",
    "        yv = f\"{y} vapor\"\n",
    "    else:\n",
    "        yv = y\n",
    "        yl = y\n",
    "    sns.lineplot(data=data, x=xv, y=yv, ax=ax, label=\"vapor\")\n",
    "    sns.lineplot(data=data, x=xl, y=yl, ax=ax, label=\"liquid\")\n",
    "    ax.set_xlabel(x)\n",
    "    ax.set_ylabel(y)\n",
    "    ax.legend(frameon=False)\n",
    "    sns.despine();"
   ]
  },
  {
   "cell_type": "code",
   "execution_count": 141,
   "metadata": {},
   "outputs": [
    {
     "data": {
      "image/png": "[encoded data removed]",
      "text/plain": [
       "<Figure size 864x432 with 1 Axes>"
      ]
     },
     "metadata": {},
     "output_type": "display_data"
    }
   ],
   "source": [
    "phase_plot(data_dia, \"density\", \"temperature\")"
   ]
  },
  {
   "cell_type": "code",
   "execution_count": 142,
   "metadata": {},
   "outputs": [
    {
     "data": {
      "image/png": "[encoded data removed]",
      "text/plain": [
       "<Figure size 864x432 with 1 Axes>"
      ]
     },
     "metadata": {},
     "output_type": "display_data"
    }
   ],
   "source": [
    "phase_plot(data_dia, \"molar entropy\", \"temperature\")"
   ]
  },
  {
   "cell_type": "markdown",
   "metadata": {},
   "source": [
    "## Mixtures <a id=\"Mixtures\"/>\n",
    "[↑ Back to top](#toc)\n",
    "\n",
    "Fox mixtures, we have to add information about the composition, either as molar fraction, amount of substance per component, or as partial densities."
   ]
  },
  {
   "cell_type": "code",
   "execution_count": 143,
   "metadata": {},
   "outputs": [],
   "source": [
    "# propane, butane mixture\n",
    "tc = np.array([369.96, 425.2]) * KELVIN\n",
    "pc = np.array([4250000.0, 3800000.0]) * PASCAL\n",
    "omega = np.array([0.153, 0.199])\n",
    "molar_weight = np.array([44.0962, 58.123]) * GRAM / MOL\n",
    "\n",
    "eos = UserDefinedEos(PyPengRobinson(tc, pc, omega, molar_weight))"
   ]
  },
  {
   "cell_type": "code",
   "execution_count": 144,
   "metadata": {},
   "outputs": [
    {
     "data": {
      "text/markdown": [
       "|temperature|density|molefracs\n",
       "|-|-|-|\n",
       "|300.00000 K|40.96869  mol/m³|[0.50000, 0.50000]|"
      ],
      "text/plain": [
       "T = 300.00000 K, ρ = 40.96869  mol/m³, x = [0.50000, 0.50000]"
      ]
     },
     "execution_count": 144,
     "metadata": {},
     "output_type": "execute_result"
    }
   ],
   "source": [
    "s = State(eos, temperature=300*KELVIN, pressure=1*BAR, molefracs=np.array([0.5, 0.5]), total_moles=MOL)\n",
    "s"
   ]
  },
  {
   "cell_type": "markdown",
   "metadata": {},
   "source": [
    "As before, we can compute properties by calling methods on the `State` object. Some return vectors or matrices - for example the chemical potential and its derivative w.r.t amount of substance:"
   ]
  },
  {
   "cell_type": "code",
   "execution_count": 145,
   "metadata": {},
   "outputs": [
    {
     "data": {
      "text/plain": [
       "[-15625.347451682397, -12435.866602695123] J/mol"
      ]
     },
     "execution_count": 145,
     "metadata": {},
     "output_type": "execute_result"
    }
   ],
   "source": [
    "s.chemical_potential()"
   ]
  },
  {
   "cell_type": "code",
   "execution_count": 146,
   "metadata": {},
   "outputs": [
    {
     "data": {
      "text/plain": [
       "array([[ 4.90827975, -0.10593968],\n",
       "       [-0.10593968,  4.85467746]])"
      ]
     },
     "execution_count": 146,
     "metadata": {},
     "output_type": "execute_result"
    }
   ],
   "source": [
    "s.dmu_dni() / (KILO * JOULE / MOL**2)"
   ]
  },
  {
   "cell_type": "markdown",
   "metadata": {},
   "source": [
    "Phase equilibria are compute from different constructors:"
   ]
  },
  {
   "cell_type": "code",
   "execution_count": 147,
   "metadata": {},
   "outputs": [
    {
     "data": {
      "text/markdown": [
       "|temperature|density|molefracs\n",
       "|-|-|-|\n",
       "|401.65486 K|3.99952 kmol/m³|[0.50000, 0.50000]|"
      ],
      "text/plain": [
       "T = 401.65486 K, ρ = 3.99952 kmol/m³, x = [0.50000, 0.50000]"
      ]
     },
     "execution_count": 147,
     "metadata": {},
     "output_type": "execute_result"
    }
   ],
   "source": [
    "s_cp = State.critical_point(eos, moles=np.array([0.5, 0.5])*MOL)\n",
    "s_cp"
   ]
  },
  {
   "cell_type": "code",
   "execution_count": 148,
   "metadata": {},
   "outputs": [
    {
     "data": {
      "text/markdown": [
       "||temperature|density|molefracs|\n",
       "|-|-|-|-|\n",
       "|phase 1|350.00000 K|879.47505  mol/m³|[0.67625, 0.32375]|\n",
       "|phase 2|350.00000 K|8.96382 kmol/m³|[0.50000, 0.50000]|\n"
      ],
      "text/plain": [
       "phase 0: T = 350.00000 K, ρ = 879.47505  mol/m³, x = [0.67625, 0.32375]\n",
       "phase 1: T = 350.00000 K, ρ = 8.96382 kmol/m³, x = [0.50000, 0.50000]"
      ]
     },
     "execution_count": 148,
     "metadata": {},
     "output_type": "execute_result"
    }
   ],
   "source": [
    "vle = PhaseEquilibrium.bubble_point_tx(eos, 350*KELVIN, liquid_molefracs=np.array([0.5, 0.5]))\n",
    "vle"
   ]
  },
  {
   "cell_type": "code",
   "execution_count": 149,
   "metadata": {},
   "outputs": [
    {
     "name": "stderr",
     "output_type": "stream",
     "text": [
      "<ipython-input-122-854a13decc13>:65: RuntimeWarning: invalid value encountered in log\n",
      "  a = n * (np.log(v / (v - b * n)) - ak_mix / (b * SQRT2 * 2.0 * state.temperature)\n",
      "<ipython-input-122-854a13decc13>:66: RuntimeWarning: invalid value encountered in log\n",
      "  * np.log((v * (SQRT2 - 1.0) + b * n) / (v * (SQRT2 + 1.0) - b * n)))\n"
     ]
    }
   ],
   "source": [
    "vle = PhaseDiagramBinary.new_pxy(eos, temperature=350*KELVIN, npoints=50)"
   ]
  },
  {
   "cell_type": "code",
   "execution_count": 150,
   "metadata": {},
   "outputs": [
    {
     "data": {
      "image/png": "[encoded data removed]",
      "text/plain": [
       "<Figure size 1296x432 with 2 Axes>"
      ]
     },
     "metadata": {},
     "output_type": "display_data"
    }
   ],
   "source": [
    "fig, ax = plt.subplots(1, 2, figsize=(18, 6))\n",
    "# fig.title(\"T = 350 K, Propane (1), Butane (2)\")\n",
    "sns.lineplot(x=vle.liquid_molefracs, y=vle.pressure / BAR, ax=ax[0])\n",
    "sns.lineplot(x=vle.vapor_molefracs, y=vle.pressure / BAR, ax=ax[0])\n",
    "ax[0].set_xlabel(r\"$x_1$, $y_1$\")\n",
    "ax[0].set_ylabel(r\"$p$ / bar\")\n",
    "ax[0].set_xlim(0, 1)\n",
    "ax[0].set_ylim(5, 35)\n",
    "# ax[0].legend(frameon=False);\n",
    "\n",
    "sns.lineplot(x=vle.liquid_molefracs, y=vle.vapor_molefracs, ax=ax[1])\n",
    "sns.lineplot(x=np.linspace(0, 1, 10), y=np.linspace(0, 1, 10), color=\"black\", alpha=0.3, ax=ax[1])\n",
    "ax[1].set_xlabel(r\"$x_1$\")\n",
    "ax[1].set_ylabel(r\"$y_1$\")\n",
    "ax[1].set_xlim(0, 1)\n",
    "ax[1].set_ylim(0, 1);"
   ]
  },
  {
   "cell_type": "markdown",
   "metadata": {},
   "source": [
    "## Comparison to Rust implementation <a id=\"Comparison-to-Rust-implementation\"/>\n",
    "[↑ Back to top](#toc)\n",
    "\n",
    "Implementing an equation of state in Python is nice for quick prototyping and development but when it comes to performance, implementing the equation of state in Rust is the way to go.\n",
    "For each non-cached call to the Helmholtz energy, we have to transition between Rust and Python with our Python implementation which generates quite some overhead.\n",
    "\n",
    "Here are some comparisons between the Rust and our Pyhton implemenation:"
   ]
  },
  {
   "cell_type": "code",
   "execution_count": 244,
   "metadata": {},
   "outputs": [],
   "source": [
    "# rust\n",
    "from feos.cubic import PengRobinson, State as StateR, PengRobinsonParameters, PhaseDiagramPure as PhaseDiagramPureR\n",
    "eos_rust = PengRobinson(PengRobinsonParameters.from_json([\"propane\"], \"peng-robinson.json\"))\n",
    "\n",
    "# python\n",
    "tc = SIArray1(369.96 * KELVIN)\n",
    "pc = SIArray1(4250000.0 * PASCAL)\n",
    "omega = np.array([0.153])\n",
    "molar_weight = SIArray1(44.0962 * GRAM / MOL)\n",
    "eos_python = UserDefinedEos(PyPengRobinson(tc, pc, omega, molar_weight))"
   ]
  },
  {
   "cell_type": "code",
   "execution_count": 245,
   "metadata": {},
   "outputs": [],
   "source": [
    "# let's first test if both actually yield the same results ;)\n",
    "assert abs(State.critical_point(eos_python).pressure() / BAR - StateR.critical_point(eos_rust).pressure() / BAR) < 1e-13\n",
    "assert abs(State.critical_point(eos_python).temperature / KELVIN - StateR.critical_point(eos_rust).temperature / KELVIN) < 1e-13"
   ]
  },
  {
   "cell_type": "code",
   "execution_count": 248,
   "metadata": {},
   "outputs": [],
   "source": [
    "import timeit\n",
    "\n",
    "time_python = timeit.timeit(lambda: State.critical_point(eos_python), number=2_500) * MILLI * SECOND\n",
    "time_rust = timeit.timeit(lambda: StateR.critical_point(eos_rust), number=2_500) * MILLI * SECOND"
   ]
  },
  {
   "cell_type": "code",
   "execution_count": 249,
   "metadata": {},
   "outputs": [
    {
     "name": "stdout",
     "output_type": "stream",
     "text": [
      "Critical point for pure substance\n",
      "Python implementation is slower by a factor of 65.\n"
     ]
    }
   ],
   "source": [
    "rel_dev = (time_rust - time_python) / time_rust\n",
    "print(f\"Critical point for pure substance\")\n",
    "print(f\"Python implementation is {'slower' if rel_dev < 0 else 'faster'} by a factor of {abs(time_python / time_rust):.0f}.\")"
   ]
  },
  {
   "cell_type": "code",
   "execution_count": 250,
   "metadata": {},
   "outputs": [
    {
     "name": "stderr",
     "output_type": "stream",
     "text": [
      "<ipython-input-243-cf779216a69d>:66: RuntimeWarning: invalid value encountered in log\n",
      "  a = n * (-np.log(1.0 - b * rho) - ak_mix / (b * SQRT2 * 2.0 * state.temperature)\n",
      "<ipython-input-243-cf779216a69d>:67: RuntimeWarning: invalid value encountered in log\n",
      "  * np.log((SQRT2 - 1.0 + b * rho) / (SQRT2 + 1.0 - b * rho)))\n"
     ]
    }
   ],
   "source": [
    "time_python = timeit.timeit(lambda: PhaseDiagramPure(eos_python, 300*KELVIN, 100), number=100) * MILLI * SECOND\n",
    "time_rust = timeit.timeit(lambda: PhaseDiagramPureR(eos_rust, 300*KELVIN, 100), number=100) * MILLI * SECOND"
   ]
  },
  {
   "cell_type": "code",
   "execution_count": 251,
   "metadata": {},
   "outputs": [
    {
     "name": "stdout",
     "output_type": "stream",
     "text": [
      "Phase diagram for pure substance\n",
      "Python implementation is slower by a factor of 35.\n"
     ]
    }
   ],
   "source": [
    "rel_dev = (time_rust - time_python) / time_rust\n",
    "print(f\"Phase diagram for pure substance\")\n",
    "print(f\"Python implementation is {'slower' if rel_dev < 0 else 'faster'} by a factor of {abs(time_python / time_rust):.0f}.\")"
   ]
  },
  {
   "cell_type": "code",
   "execution_count": null,
   "metadata": {},
   "outputs": [],
   "source": []
  }
 ],
 "metadata": {
  "kernelspec": {
   "display_name": "Python 3",
   "language": "python",
   "name": "python3"
  },
  "language_info": {
   "codemirror_mode": {
    "name": "ipython",
    "version": 3
   },
   "file_extension": ".py",
   "mimetype": "text/x-python",
   "name": "python",
   "nbconvert_exporter": "python",
   "pygments_lexer": "ipython3",
   "version": "3.8.1"
  }
 },
 "nbformat": 4,
 "nbformat_minor": 4
}
