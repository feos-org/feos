{
 "cells": [
  {
   "cell_type": "code",
   "execution_count": 1,
   "metadata": {},
   "outputs": [],
   "source": [
    "import numpy as np\n",
    "from feos.si import *\n",
    "from feos.uvtheory import UVParameters, Perturbation\n",
    "from feos.pets import PetsParameters\n",
    "from feos.eos import State, PhaseEquilibrium, PhaseDiagram, EquationOfState, Contributions\n",
    "import matplotlib.pyplot as plt"
   ]
  },
  {
   "cell_type": "code",
   "execution_count": 2,
   "metadata": {},
   "outputs": [],
   "source": [
    "# Parameters for Thol EoS:\n",
    "A = np.array([1.0, 1.0, 1.0, 1.0, 1.0, 1.0, 2.0, 2.0, 2.0, 2.0, 2.0,\n",
    "              2.0, 3.0, 3.0, 3.0, 3.0, 3.0, 3.0, 3.0, 3.0, 3.0, 3.0, 3.0])\n",
    "N = np.array([0.005208073, 2.186252000, -2.161016000, 1.452700000, -2.041792000, 0.186952860, -0.090988445, \n",
    "              -0.497456100, 0.109014310, -0.800559220, -0.568839000, -0.620862500, -1.466717700, 1.891469000, \n",
    "              -0.138370100, -0.386964500, 0.126570200, 0.605781000, 1.179189000, -0.477326790, -9.921857500, -0.574793200, 0.003772923])\n",
    "T = np.array([1.000, 0.320, 0.505, 0.672, 0.843, 0.898, 1.294, 2.590, 1.786, 2.770, 1.786,\n",
    "              1.205, 2.830, 2.548, 4.650, 1.385, 1.460, 1.351, 0.660, 1.496, 1.830, 1.616, 4.970])\n",
    "D = np.array([4.0, 1.0, 1.0, 2.0, 2.0, 3.0, 5.0, 2.0, 2.0, 3.0, 1.0,\n",
    "              1.0, 1.0, 1.0, 2.0, 3.0, 3.0, 2.0, 1.0, 2.0, 3.0, 1.0, 1.0])\n",
    "L = np.array([0.0, 0.0, 0.0, 0.0, 0.0, 0.0, 1.0, 2.0, 1.0, 2.0, 2.0,\n",
    "              1.0, 0.0, 0.0, 0.0, 0.0, 0.0, 0.0, 0.0, 0.0, 0.0, 0.0, 0.0])\n",
    "ETA = np.array([0, 0, 0, 0, 0, 0, 0, 0, 0, 0, 0, 0, 2.067, 1.522,\n",
    "                8.82, 1.722, 0.679, 1.883, 3.925, 2.461, 28.2, 0.753, 0.82])\n",
    "BETA = np.array([0, 0, 0, 0, 0, 0, 0, 0, 0, 0, 0, 0, 0.625,\n",
    "                 0.638, 3.91, 0.156, 0.157, 0.153, 1.16, 1.73, 383, 0.112, 0.119])\n",
    "GAMMA = np.array([0, 0, 0, 0, 0, 0, 0, 0, 0, 0, 0, 0, 0.71,\n",
    "                  0.86, 1.94, 1.48, 1.49, 1.945, 3.02, 1.11, 1.17, 1.33, 0.24])\n",
    "EPSILON = np.array([0, 0, 0, 0, 0, 0, 0, 0, 0, 0, 0, 0, 0.2053,\n",
    "                    0.409, 0.6, 1.203, 1.829, 1.397, 1.39, 0.539, 0.934, 2.369, 2.43])\n",
    "\n",
    "class Thol:\n",
    "    def __init__(self):\n",
    "        self.sigma = 3.7039 * ANGSTROM\n",
    "        self.eps_k = 150.03 * KELVIN\n",
    "        self.tc = 1.32 * self.eps_k / KELVIN\n",
    "        self.rhoc = 0.31 / self.sigma**3 * ANGSTROM**3\n",
    "        \n",
    "    def components(self): \n",
    "        return 1\n",
    "    \n",
    "    def subset(self, components):\n",
    "        return self\n",
    "        \n",
    "    def molar_weight(self):\n",
    "        return np.array([1.0])\n",
    "    \n",
    "    def max_density(self, moles):\n",
    "        return 0.04\n",
    "    \n",
    "    def helmholtz_energy(self, state):\n",
    "        \"\"\"\n",
    "        state (StateHD):\n",
    "            temperature in Kelvin als Float, Dual oder HD oder HD3, HDD, HDD3,\n",
    "            partial_density in # / Angstrom^3\n",
    "            volume in Angstrom^3\n",
    "            moles in mol\n",
    "        \"\"\"\n",
    "        tau = self.tc / state.temperature\n",
    "        delta = np.sum(state.partial_density) / self.rhoc\n",
    "        a = 0.0 #zero(state)\n",
    "        \n",
    "       # print(\"v\", state.volume)\n",
    "       # print(\"n\", state.moles)\n",
    "        #print(\"partial density\", state.partial_density)\n",
    "        #print(\"1\")\n",
    "       # print(\"delta: {}\".format(delta))\n",
    "      #  print(\"tau: {}\".format(tau))\n",
    "        \n",
    "        for i in range(6):\n",
    "            a = a + N[i] * delta**D[i] * tau**T[i]\n",
    "        \n",
    "       # print(\"2\")\n",
    "        for i in range(6, 12):\n",
    "            a = a + N[i] * delta**D[i] * tau**T[i] * np.exp(-1.0 * delta**L[i])\n",
    "       # print(\"3\")\n",
    "        for i in range(12, 23):\n",
    "            a = a + N[i] * delta**D[i] * tau**T[i] * np.exp(- 1.0 * ETA[i] * (delta - EPSILON[i])**2.0 - 1.0 * BETA[i] * (tau - 1.0 * GAMMA[i])**2.0)\n",
    "        return a * np.sum(state.moles)"
   ]
  },
  {
   "cell_type": "code",
   "execution_count": 3,
   "metadata": {},
   "outputs": [],
   "source": [
    "sigma = 3.7039\n",
    "sigma_a = sigma * ANGSTROM\n",
    "eps_k = 150.03\n",
    "eps_k_k = eps_k * KELVIN\n",
    "\n",
    "parameters = UVParameters.from_lists([12.0], [6.0], [sigma], [eps_k])\n",
    "uvtheory_wca = EquationOfState.uvtheory(parameters)\n",
    "uvtheory_bh = EquationOfState.uvtheory(parameters, perturbation=Perturbation.BarkerHenderson)\n",
    "\n",
    "parameters = PetsParameters.from_values(sigma, eps_k)\n",
    "pets = EquationOfState.pets(parameters)\n",
    "\n",
    "thol = EquationOfState.python(Thol())\n",
    "s3 = State(thol, temperature=300*KELVIN, pressure=1*BAR)"
   ]
  },
  {
   "cell_type": "code",
   "execution_count": 7,
   "metadata": {},
   "outputs": [],
   "source": [
    "s1 = State(uvtheory_wca, temperature=300*KELVIN, pressure=1*BAR)\n",
    "s2 = State(pets, temperature=300*KELVIN, pressure=1*BAR)\n",
    "s3 = State(thol, temperature=300*KELVIN, pressure=1*BAR)"
   ]
  },
  {
   "cell_type": "code",
   "execution_count": 8,
   "metadata": {},
   "outputs": [
    {
     "data": {
      "text/plain": [
       "-0.0016213224956115704"
      ]
     },
     "execution_count": 8,
     "metadata": {},
     "output_type": "execute_result"
    }
   ],
   "source": [
    "s1.molar_helmholtz_energy(Contributions.ResidualNvt) / (RGAS * 300 * KELVIN)"
   ]
  },
  {
   "cell_type": "code",
   "execution_count": 9,
   "metadata": {},
   "outputs": [
    {
     "data": {
      "text/plain": [
       "-0.0009407040108813868"
      ]
     },
     "execution_count": 9,
     "metadata": {},
     "output_type": "execute_result"
    }
   ],
   "source": [
    "s2.molar_helmholtz_energy(Contributions.ResidualNvt) / (RGAS * 300 * KELVIN)"
   ]
  },
  {
   "cell_type": "code",
   "execution_count": 10,
   "metadata": {},
   "outputs": [
    {
     "data": {
      "text/plain": [
       "-0.0016144150962601586"
      ]
     },
     "execution_count": 10,
     "metadata": {},
     "output_type": "execute_result"
    }
   ],
   "source": [
    "s3.molar_helmholtz_energy(Contributions.ResidualNvt) / (RGAS * 300 * KELVIN)"
   ]
  },
  {
   "cell_type": "code",
   "execution_count": 11,
   "metadata": {},
   "outputs": [
    {
     "data": {
      "text/plain": [
       "(1.3200003469821506, 1.3097658041494302, 1.3208296613277393)"
      ]
     },
     "execution_count": 11,
     "metadata": {},
     "output_type": "execute_result"
    }
   ],
   "source": [
    "State.critical_point(thol).temperature / eps_k_k, State.critical_point(uvtheory_wca).temperature / eps_k_k, State.critical_point(uvtheory_bh).temperature / eps_k_k"
   ]
  },
  {
   "cell_type": "code",
   "execution_count": 12,
   "metadata": {},
   "outputs": [
    {
     "name": "stdout",
     "output_type": "stream",
     "text": [
      "CPU times: user 52.5 ms, sys: 1.45 ms, total: 54 ms\n",
      "Wall time: 54.2 ms\n"
     ]
    }
   ],
   "source": [
    "%%time\n",
    "vle_uv = PhaseDiagram.pure(uvtheory_wca, 150*KELVIN, 500)"
   ]
  },
  {
   "cell_type": "code",
   "execution_count": 13,
   "metadata": {},
   "outputs": [
    {
     "data": {
      "text/plain": [
       "<StateVec at 0x7f9fa8a00030>"
      ]
     },
     "execution_count": 13,
     "metadata": {},
     "output_type": "execute_result"
    }
   ],
   "source": [
    "vle_uv.liquid"
   ]
  },
  {
   "cell_type": "code",
   "execution_count": 14,
   "metadata": {},
   "outputs": [
    {
     "name": "stdout",
     "output_type": "stream",
     "text": [
      "CPU times: user 49 ms, sys: 1.77 ms, total: 50.7 ms\n",
      "Wall time: 52.6 ms\n"
     ]
    }
   ],
   "source": [
    "%%time\n",
    "vle_uv_bh = PhaseDiagram.pure(uvtheory_bh, 150*KELVIN, 500)"
   ]
  },
  {
   "cell_type": "code",
   "execution_count": 15,
   "metadata": {},
   "outputs": [
    {
     "name": "stderr",
     "output_type": "stream",
     "text": [
      "/var/folders/3s/t93ws1md04qdbbq5d1jdz8640000gn/T/ipykernel_78968/174117960.py:65: RuntimeWarning: overflow encountered in exp\n",
      "  a = a + N[i] * delta**D[i] * tau**T[i] * np.exp(-1.0 * delta**L[i])\n",
      "/var/folders/3s/t93ws1md04qdbbq5d1jdz8640000gn/T/ipykernel_78968/174117960.py:65: RuntimeWarning: invalid value encountered in exp\n",
      "  a = a + N[i] * delta**D[i] * tau**T[i] * np.exp(-1.0 * delta**L[i])\n",
      "/var/folders/3s/t93ws1md04qdbbq5d1jdz8640000gn/T/ipykernel_78968/174117960.py:68: RuntimeWarning: overflow encountered in exp\n",
      "  a = a + N[i] * delta**D[i] * tau**T[i] * np.exp(- 1.0 * ETA[i] * (delta - EPSILON[i])**2.0 - 1.0 * BETA[i] * (tau - 1.0 * GAMMA[i])**2.0)\n",
      "/var/folders/3s/t93ws1md04qdbbq5d1jdz8640000gn/T/ipykernel_78968/174117960.py:68: RuntimeWarning: invalid value encountered in exp\n",
      "  a = a + N[i] * delta**D[i] * tau**T[i] * np.exp(- 1.0 * ETA[i] * (delta - EPSILON[i])**2.0 - 1.0 * BETA[i] * (tau - 1.0 * GAMMA[i])**2.0)\n"
     ]
    },
    {
     "name": "stdout",
     "output_type": "stream",
     "text": [
      "CPU times: user 1.9 s, sys: 16.4 ms, total: 1.92 s\n",
      "Wall time: 1.93 s\n"
     ]
    }
   ],
   "source": [
    "%%time\n",
    "vle_thol = PhaseDiagram.pure(thol, 150*KELVIN, 500)"
   ]
  },
  {
   "cell_type": "code",
   "execution_count": 16,
   "metadata": {},
   "outputs": [
    {
     "name": "stdout",
     "output_type": "stream",
     "text": [
      "CPU times: user 27 ms, sys: 1.68 ms, total: 28.7 ms\n",
      "Wall time: 32.6 ms\n"
     ]
    }
   ],
   "source": [
    "%%time\n",
    "vle_pets = PhaseDiagram.pure(pets, 150*KELVIN, 500)"
   ]
  },
  {
   "cell_type": "code",
   "execution_count": 17,
   "metadata": {},
   "outputs": [
    {
     "data": {
      "text/plain": [
       "[<matplotlib.lines.Line2D at 0x7f9fa1106820>]"
      ]
     },
     "execution_count": 17,
     "metadata": {},
     "output_type": "execute_result"
    },
    {
     "data": {
      "image/png": "[encoded data removed]",
      "text/plain": [
       "<Figure size 432x288 with 1 Axes>"
      ]
     },
     "metadata": {
      "needs_background": "light"
     },
     "output_type": "display_data"
    }
   ],
   "source": [
    "s3 = NAV * sigma_a**3\n",
    "plt.plot(vle_uv.vapor.density * s3 , vle_uv.vapor.temperature / eps_k_k, color='black')\n",
    "plt.plot(vle_uv.liquid.density * s3, vle_uv.vapor.temperature / eps_k_k, color='black')\n",
    "\n",
    "plt.plot(vle_uv_bh.vapor.density * s3 , vle_uv_bh.vapor.temperature / eps_k_k, color='black', linestyle='dashed')\n",
    "plt.plot(vle_uv_bh.liquid.density * s3, vle_uv_bh.vapor.temperature / eps_k_k, color='black', linestyle='dashed')\n",
    "\n",
    "plt.plot(vle_thol.vapor.density * s3, vle_thol.vapor.temperature / eps_k_k, color='red')\n",
    "plt.plot(vle_thol.liquid.density * s3, vle_thol.vapor.temperature / eps_k_k, color='red')"
   ]
  },
  {
   "cell_type": "code",
   "execution_count": null,
   "metadata": {},
   "outputs": [],
   "source": [
    "vle_thol = PhaseDiagram.pure(thol, 150*KELVIN, 500)\n",
    "s3 = NAV * sigma_a**3\n",
    "plt.plot(vle_uv.vapor.density * s3 , vle_uv.vapor.temperature / eps_k_k, color='black')"
   ]
  }
 ],
 "metadata": {
  "kernelspec": {
   "display_name": "Python 3 (ipykernel)",
   "language": "python",
   "name": "python3"
  },
  "language_info": {
   "codemirror_mode": {
    "name": "ipython",
    "version": 3
   },
   "file_extension": ".py",
   "mimetype": "text/x-python",
   "name": "python",
   "nbconvert_exporter": "python",
   "pygments_lexer": "ipython3",
   "version": "3.9.7"
  }
 },
 "nbformat": 4,
 "nbformat_minor": 4
}
