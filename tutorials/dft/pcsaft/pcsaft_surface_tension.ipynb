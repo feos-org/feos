{
 "cells": [
  {
   "cell_type": "markdown",
   "id": "135dd79e",
   "metadata": {},
   "source": [
    "# Surface tension using PC-SAFT Helmholtz energy functionals\n",
    "\n",
    "## Goal of this notebook\n",
    "\n",
    "- Learn how to compute the surface tension for a planar interface using the PC-SAFT functionals.\n",
    "- Learn about the `SurfaceTensionDiagram` that allows convenient calculation of multiple surface tensions."
   ]
  },
  {
   "cell_type": "code",
   "execution_count": 1,
   "id": "9ad1bb1d",
   "metadata": {},
   "outputs": [],
   "source": [
    "from feos.pcsaft import *\n",
    "from feos.dft import *\n",
    "\n",
    "import si_units as si\n",
    "import matplotlib.pyplot as plt\n",
    "import pandas as pd\n",
    "import numpy as np\n",
    "import seaborn as sns\n",
    "\n",
    "sns.set_context(\"talk\")\n",
    "sns.set_palette(\"Dark2\")\n",
    "sns.set_style(\"ticks\")\n",
    "\n",
    "colors = sns.color_palette(\"Dark2\", 2)"
   ]
  },
  {
   "cell_type": "markdown",
   "id": "c7ec9a5b",
   "metadata": {},
   "source": [
    "### Water parameters for PC-SAFT \n",
    "\n",
    "In this example we will calculate surface tensions for water using the 2B association scheme. The parameters that we use, [were adjusted to vapor pressures, liquid densities and surface tensions](https://pubs.acs.org/doi/10.1021/acs.jced.0c00684). Parameters are available [here](https://github.com/feos-org/feos/tree/main/parameters/pcsaft)."
   ]
  },
  {
   "cell_type": "code",
   "execution_count": 2,
   "id": "837c7770",
   "metadata": {},
   "outputs": [],
   "source": [
    "# Equation of state object.\n",
    "parameters = PcSaftParameters.from_json(\n",
    "    ['water_2B'], \n",
    "    '../parameters/pcsaft/rehner2020.json'\n",
    ")\n",
    "pcsaft = HelmholtzEnergyFunctional.pcsaft(parameters)"
   ]
  },
  {
   "cell_type": "markdown",
   "id": "79b57b8b",
   "metadata": {},
   "source": [
    "Let's first compute the critical point. We will make use of the critical temperature later."
   ]
  },
  {
   "cell_type": "code",
   "execution_count": 3,
   "id": "d6ed65fa",
   "metadata": {},
   "outputs": [
    {
     "data": {
      "text/markdown": [
       "|temperature|density|\n",
       "|-|-|\n",
       "|677.34347 K|18.70466 kmol/m³|"
      ],
      "text/plain": [
       "T = 677.34347 K, ρ = 18.70466 kmol/m³"
      ]
     },
     "execution_count": 3,
     "metadata": {},
     "output_type": "execute_result"
    }
   ],
   "source": [
    "cp = State.critical_point(pcsaft)\n",
    "cp"
   ]
  },
  {
   "cell_type": "markdown",
   "id": "2ad0235c",
   "metadata": {},
   "source": [
    "As you can see, the model overestimates the critical temperature."
   ]
  },
  {
   "cell_type": "markdown",
   "id": "4c00eed3",
   "metadata": {},
   "source": [
    "## Surface tension for single VLE\n",
    "\n",
    "To compute the surface tension, three steps are needed.\n",
    "\n",
    "1. We need to compute the vapor liquid equilibrium (VLE) either at given temperature or pressure.\n",
    "2. Then, we need to initialize a density profile. We will use a hyperbolic tangent with the VLE bulk densities as limits.\n",
    "3. We solve the DFT equations to yield the equilibrium density profile and calculate the surface tension."
   ]
  },
  {
   "cell_type": "markdown",
   "id": "8fa8d790",
   "metadata": {},
   "source": [
    "For the VLE, we use the `PhaseEquilibrium.pure` method. Here for $T = 300$ Kelvin."
   ]
  },
  {
   "cell_type": "code",
   "execution_count": 4,
   "id": "f834af33",
   "metadata": {},
   "outputs": [
    {
     "data": {
      "text/markdown": [
       "||temperature|density|\n",
       "|-|-|-|\n",
       "|phase 1|300.00000 K|1.51670  mol/m³|\n",
       "|phase 2|300.00000 K|55.38975 kmol/m³|\n"
      ],
      "text/plain": [
       "phase 0: T = 300.00000 K, ρ = 1.51670  mol/m³\n",
       "phase 1: T = 300.00000 K, ρ = 55.38975 kmol/m³"
      ]
     },
     "execution_count": 4,
     "metadata": {},
     "output_type": "execute_result"
    }
   ],
   "source": [
    "vle = PhaseEquilibrium.pure(pcsaft, 300*si.KELVIN)\n",
    "vle"
   ]
  },
  {
   "cell_type": "markdown",
   "id": "21fb88cb",
   "metadata": {},
   "source": [
    "Next, we initialize the density profile. For the surface tension, a 1D DFT calculation in Cartesian coordinates is conducted. Thus, the density profile will be an 1D array (we have a single substance). \n",
    "\n",
    "To solve the DFT equations, the density has to be discretized which can be controlled by `n_grid`, the number of grid points. The surface tension is not very sensitive w.r.t the number of grid points but you should make sure to pick a large enough value. When in doubt, run multiple calculations varying the number.\n",
    "\n",
    "We also have to provide a width of the calculation domain, `l_grid`. The domain should be large enough that the bulk densities can be observed in the limits. You can check the resulting density profile to make sure that's the case.\n",
    "\n",
    "The critical temperature is used to come up with a good initial estimate for the density profile."
   ]
  },
  {
   "cell_type": "code",
   "execution_count": 5,
   "id": "25c9d99d",
   "metadata": {},
   "outputs": [
    {
     "name": "stdout",
     "output_type": "stream",
     "text": [
      "CPU times: user 562 µs, sys: 19 µs, total: 581 µs\n",
      "Wall time: 583 µs\n"
     ]
    }
   ],
   "source": [
    "%%time\n",
    "interface = PlanarInterface.from_tanh(\n",
    "    vle=vle, \n",
    "    n_grid=512, \n",
    "    l_grid=100*si.ANGSTROM, \n",
    "    critical_temperature=cp.temperature\n",
    ")\n",
    "initial_density = interface.density / (si.KILO * si.MOL / si.METER**3)"
   ]
  },
  {
   "cell_type": "markdown",
   "id": "303bb746",
   "metadata": {},
   "source": [
    "The above method does not yet run a calculation. If we try to extract the surface tension, it will return `None`. Let's store the initial density profile for a later comparison."
   ]
  },
  {
   "cell_type": "code",
   "execution_count": 6,
   "id": "f915e37c",
   "metadata": {},
   "outputs": [
    {
     "data": {
      "text/plain": [
       "True"
      ]
     },
     "execution_count": 6,
     "metadata": {},
     "output_type": "execute_result"
    }
   ],
   "source": [
    "interface.surface_tension == None"
   ]
  },
  {
   "cell_type": "markdown",
   "id": "7a321fe5",
   "metadata": {},
   "source": [
    "To calculate the equilibrium density profile, we have to call the `solve()` method:"
   ]
  },
  {
   "cell_type": "code",
   "execution_count": 7,
   "id": "77c08d7f",
   "metadata": {},
   "outputs": [
    {
     "name": "stdout",
     "output_type": "stream",
     "text": [
      "CPU times: user 28.6 ms, sys: 24 µs, total: 28.6 ms\n",
      "Wall time: 28.5 ms\n"
     ]
    }
   ],
   "source": [
    "%%time\n",
    "surface_tension = interface.solve().surface_tension"
   ]
  },
  {
   "cell_type": "markdown",
   "id": "19402ba2",
   "metadata": {},
   "source": [
    "`solve()` calculates the equilibrium density profile and returns the `PlanarInterface` object so that we can readily extract the `surface_tension`.\n",
    "\n",
    "The `PlanarInterface.density` contains the equilibrated density profile. Let's compare it to our initial density and zoom into the interesting region between 40 and 60 Angstrom. "
   ]
  },
  {
   "cell_type": "code",
   "execution_count": 8,
   "id": "61992d8f",
   "metadata": {},
   "outputs": [
    {
     "data": {
      "image/png": "[encoded data removed]",
      "text/plain": [
       "<Figure size 720x432 with 1 Axes>"
      ]
     },
     "metadata": {
      "needs_background": "light"
     },
     "output_type": "display_data"
    }
   ],
   "source": [
    "plt.figure(figsize=(10, 6))\n",
    "plt.plot(interface.z / si.ANGSTROM, initial_density[0], linestyle=\"dashed\", label=\"initial density\")\n",
    "plt.plot(interface.z / si.ANGSTROM, (interface.density / (si.KILO * si.MOL / si.METER**3))[0], label=\"equilibrium density\")\n",
    "\n",
    "plt.xlim(40, 60)\n",
    "plt.ylim(-5, 60)\n",
    "plt.ylabel(r\"$\\rho$ / kmol m$^{-3}$\")\n",
    "plt.xlabel(r\"$z$ / A\")\n",
    "sns.despine(offset=10)\n",
    "plt.legend(frameon=False);"
   ]
  },
  {
   "cell_type": "markdown",
   "id": "bc985a88",
   "metadata": {},
   "source": [
    "## Comparison to NIST data using `SurfaceTensionDiagram`\n",
    "\n",
    "We can use the above steps to calculate multiple VLE's and then - for each VLE - calculate the surface tension. We provide a utility object, the `SurfaceTensionDiagram`, that you can use to do exactly this task. Let's load some experimental (correlation) data obtained from the NIST Webbook and see how the water model compares to that."
   ]
  },
  {
   "cell_type": "code",
   "execution_count": 9,
   "id": "caa1fda7",
   "metadata": {},
   "outputs": [
    {
     "data": {
      "text/html": [
       "<div>\n",
       "<style scoped>\n",
       "    .dataframe tbody tr th:only-of-type {\n",
       "        vertical-align: middle;\n",
       "    }\n",
       "\n",
       "    .dataframe tbody tr th {\n",
       "        vertical-align: top;\n",
       "    }\n",
       "\n",
       "    .dataframe thead th {\n",
       "        text-align: right;\n",
       "    }\n",
       "</style>\n",
       "<table border=\"1\" class=\"dataframe\">\n",
       "  <thead>\n",
       "    <tr style=\"text-align: right;\">\n",
       "      <th></th>\n",
       "      <th>Temperature (K)</th>\n",
       "      <th>Pressure (MPa)</th>\n",
       "      <th>Density (l, mol/l)</th>\n",
       "      <th>Volume (l, l/mol)</th>\n",
       "      <th>Internal Energy (l, kJ/mol)</th>\n",
       "      <th>Enthalpy (l, kJ/mol)</th>\n",
       "      <th>Entropy (l, J/mol*K)</th>\n",
       "      <th>Cv (l, J/mol*K)</th>\n",
       "      <th>Cp (l, J/mol*K)</th>\n",
       "      <th>Sound Spd. (l, m/s)</th>\n",
       "      <th>...</th>\n",
       "      <th>Volume (v, l/mol)</th>\n",
       "      <th>Internal Energy (v, kJ/mol)</th>\n",
       "      <th>Enthalpy (v, kJ/mol)</th>\n",
       "      <th>Entropy (v, J/mol*K)</th>\n",
       "      <th>Cv (v, J/mol*K)</th>\n",
       "      <th>Cp (v, J/mol*K)</th>\n",
       "      <th>Sound Spd. (v, m/s)</th>\n",
       "      <th>Joule-Thomson (v, K/MPa)</th>\n",
       "      <th>Viscosity (v, uPa*s)</th>\n",
       "      <th>Therm. Cond. (v, W/m*K)</th>\n",
       "    </tr>\n",
       "  </thead>\n",
       "  <tbody>\n",
       "    <tr>\n",
       "      <th>0</th>\n",
       "      <td>275.0</td>\n",
       "      <td>0.000698</td>\n",
       "      <td>55.502</td>\n",
       "      <td>0.018017</td>\n",
       "      <td>0.13978</td>\n",
       "      <td>0.13979</td>\n",
       "      <td>0.5100</td>\n",
       "      <td>75.903</td>\n",
       "      <td>75.915</td>\n",
       "      <td>1411.4</td>\n",
       "      <td>...</td>\n",
       "      <td>3271.50</td>\n",
       "      <td>42.830</td>\n",
       "      <td>45.115</td>\n",
       "      <td>164.06</td>\n",
       "      <td>25.580</td>\n",
       "      <td>33.980</td>\n",
       "      <td>410.33</td>\n",
       "      <td>558.89</td>\n",
       "      <td>8.9986</td>\n",
       "      <td>0.016879</td>\n",
       "    </tr>\n",
       "    <tr>\n",
       "      <th>1</th>\n",
       "      <td>285.0</td>\n",
       "      <td>0.001389</td>\n",
       "      <td>55.479</td>\n",
       "      <td>0.018025</td>\n",
       "      <td>0.89678</td>\n",
       "      <td>0.89681</td>\n",
       "      <td>3.2139</td>\n",
       "      <td>75.397</td>\n",
       "      <td>75.533</td>\n",
       "      <td>1454.3</td>\n",
       "      <td>...</td>\n",
       "      <td>1704.30</td>\n",
       "      <td>43.078</td>\n",
       "      <td>45.445</td>\n",
       "      <td>159.52</td>\n",
       "      <td>25.736</td>\n",
       "      <td>34.170</td>\n",
       "      <td>417.48</td>\n",
       "      <td>408.81</td>\n",
       "      <td>9.2941</td>\n",
       "      <td>0.017535</td>\n",
       "    </tr>\n",
       "    <tr>\n",
       "      <th>2</th>\n",
       "      <td>295.0</td>\n",
       "      <td>0.002621</td>\n",
       "      <td>55.384</td>\n",
       "      <td>0.018056</td>\n",
       "      <td>1.65110</td>\n",
       "      <td>1.65120</td>\n",
       "      <td>5.8154</td>\n",
       "      <td>74.765</td>\n",
       "      <td>75.361</td>\n",
       "      <td>1487.7</td>\n",
       "      <td>...</td>\n",
       "      <td>934.36</td>\n",
       "      <td>43.324</td>\n",
       "      <td>45.773</td>\n",
       "      <td>155.38</td>\n",
       "      <td>25.898</td>\n",
       "      <td>34.374</td>\n",
       "      <td>424.46</td>\n",
       "      <td>304.01</td>\n",
       "      <td>9.6018</td>\n",
       "      <td>0.018214</td>\n",
       "    </tr>\n",
       "    <tr>\n",
       "      <th>3</th>\n",
       "      <td>305.0</td>\n",
       "      <td>0.004719</td>\n",
       "      <td>55.233</td>\n",
       "      <td>0.018105</td>\n",
       "      <td>2.40440</td>\n",
       "      <td>2.40440</td>\n",
       "      <td>8.3264</td>\n",
       "      <td>74.038</td>\n",
       "      <td>75.300</td>\n",
       "      <td>1513.1</td>\n",
       "      <td>...</td>\n",
       "      <td>536.20</td>\n",
       "      <td>43.568</td>\n",
       "      <td>46.099</td>\n",
       "      <td>151.59</td>\n",
       "      <td>26.069</td>\n",
       "      <td>34.596</td>\n",
       "      <td>431.28</td>\n",
       "      <td>231.32</td>\n",
       "      <td>9.9196</td>\n",
       "      <td>0.018918</td>\n",
       "    </tr>\n",
       "    <tr>\n",
       "      <th>4</th>\n",
       "      <td>315.0</td>\n",
       "      <td>0.008145</td>\n",
       "      <td>55.034</td>\n",
       "      <td>0.018171</td>\n",
       "      <td>3.15730</td>\n",
       "      <td>3.15750</td>\n",
       "      <td>10.7560</td>\n",
       "      <td>73.235</td>\n",
       "      <td>75.301</td>\n",
       "      <td>1531.7</td>\n",
       "      <td>...</td>\n",
       "      <td>320.58</td>\n",
       "      <td>43.811</td>\n",
       "      <td>46.422</td>\n",
       "      <td>148.10</td>\n",
       "      <td>26.252</td>\n",
       "      <td>34.843</td>\n",
       "      <td>437.93</td>\n",
       "      <td>180.66</td>\n",
       "      <td>10.2460</td>\n",
       "      <td>0.019646</td>\n",
       "    </tr>\n",
       "  </tbody>\n",
       "</table>\n",
       "<p>5 rows × 25 columns</p>\n",
       "</div>"
      ],
      "text/plain": [
       "   Temperature (K)  Pressure (MPa)  Density (l, mol/l)  Volume (l, l/mol)  \\\n",
       "0            275.0        0.000698              55.502           0.018017   \n",
       "1            285.0        0.001389              55.479           0.018025   \n",
       "2            295.0        0.002621              55.384           0.018056   \n",
       "3            305.0        0.004719              55.233           0.018105   \n",
       "4            315.0        0.008145              55.034           0.018171   \n",
       "\n",
       "   Internal Energy (l, kJ/mol)  Enthalpy (l, kJ/mol)  Entropy (l, J/mol*K)  \\\n",
       "0                      0.13978               0.13979                0.5100   \n",
       "1                      0.89678               0.89681                3.2139   \n",
       "2                      1.65110               1.65120                5.8154   \n",
       "3                      2.40440               2.40440                8.3264   \n",
       "4                      3.15730               3.15750               10.7560   \n",
       "\n",
       "   Cv (l, J/mol*K)  Cp (l, J/mol*K)  Sound Spd. (l, m/s)  ...  \\\n",
       "0           75.903           75.915               1411.4  ...   \n",
       "1           75.397           75.533               1454.3  ...   \n",
       "2           74.765           75.361               1487.7  ...   \n",
       "3           74.038           75.300               1513.1  ...   \n",
       "4           73.235           75.301               1531.7  ...   \n",
       "\n",
       "   Volume (v, l/mol)  Internal Energy (v, kJ/mol)  Enthalpy (v, kJ/mol)  \\\n",
       "0            3271.50                       42.830                45.115   \n",
       "1            1704.30                       43.078                45.445   \n",
       "2             934.36                       43.324                45.773   \n",
       "3             536.20                       43.568                46.099   \n",
       "4             320.58                       43.811                46.422   \n",
       "\n",
       "   Entropy (v, J/mol*K)  Cv (v, J/mol*K)  Cp (v, J/mol*K)  \\\n",
       "0                164.06           25.580           33.980   \n",
       "1                159.52           25.736           34.170   \n",
       "2                155.38           25.898           34.374   \n",
       "3                151.59           26.069           34.596   \n",
       "4                148.10           26.252           34.843   \n",
       "\n",
       "   Sound Spd. (v, m/s)  Joule-Thomson (v, K/MPa)  Viscosity (v, uPa*s)  \\\n",
       "0               410.33                    558.89                8.9986   \n",
       "1               417.48                    408.81                9.2941   \n",
       "2               424.46                    304.01                9.6018   \n",
       "3               431.28                    231.32                9.9196   \n",
       "4               437.93                    180.66               10.2460   \n",
       "\n",
       "   Therm. Cond. (v, W/m*K)  \n",
       "0                 0.016879  \n",
       "1                 0.017535  \n",
       "2                 0.018214  \n",
       "3                 0.018918  \n",
       "4                 0.019646  \n",
       "\n",
       "[5 rows x 25 columns]"
      ]
     },
     "execution_count": 9,
     "metadata": {},
     "output_type": "execute_result"
    }
   ],
   "source": [
    "literature = pd.read_csv(\"data/water_vle_nist.csv\", delimiter=\"\\t\")\n",
    "literature.head()"
   ]
  },
  {
   "cell_type": "markdown",
   "id": "96ae9524",
   "metadata": {},
   "source": [
    "For the `SurfaceTensionDiagram`, we need to provide the VLE's. We compute those using the `PhaseDiagram` object (here for 50 temperatures between 275 Kelvin and the critical temperature) from which we get a list of `PhaseEquilibrium`s via the `states` filed. The `SurfaceTensionDiagram` is nice, because we can reuse equilibrium density profiles from prior iterations as input for the next iteration. It's therefore typically faster and more stable than an \"naive\" implementation by hand.\n",
    "\n",
    "The `SurfaceTensionDiagram` takes the same arguments `n_grind`, `l_grid` and `critical_temperature` as discussed above."
   ]
  },
  {
   "cell_type": "code",
   "execution_count": 10,
   "id": "c0a7854c",
   "metadata": {},
   "outputs": [
    {
     "name": "stdout",
     "output_type": "stream",
     "text": [
      "CPU times: user 608 ms, sys: 0 ns, total: 608 ms\n",
      "Wall time: 606 ms\n"
     ]
    }
   ],
   "source": [
    "%%time\n",
    "vles = PhaseDiagram.pure(\n",
    "    pcsaft, \n",
    "    275*si.KELVIN, \n",
    "    50,\n",
    "    critical_temperature=cp.temperature\n",
    ")\n",
    "sfts = SurfaceTensionDiagram(\n",
    "    vles.states, \n",
    "    n_grid=512, \n",
    "    l_grid=100*si.ANGSTROM, \n",
    "    critical_temperature=cp.temperature\n",
    ")"
   ]
  },
  {
   "cell_type": "markdown",
   "id": "caa7026e",
   "metadata": {},
   "source": [
    "We now can extract all surface tensions via `surface_tension` as well as the liquid and vapor states via the `liquid` and `vapor` getters, respectively. Let's store the results in a pandas `DataFrame` to make plotting easier."
   ]
  },
  {
   "cell_type": "code",
   "execution_count": 11,
   "id": "6626c4c7",
   "metadata": {},
   "outputs": [],
   "source": [
    "dft_data = pd.DataFrame(\n",
    "    np.array([\n",
    "        sfts.liquid.temperature / si.KELVIN, \n",
    "        sfts.surface_tension / si.NEWTON * si.METER\n",
    "    ]).T, \n",
    "    columns=[\"Temperature (K)\", \"Surf. Tension (l, N/m)\"]\n",
    ")"
   ]
  },
  {
   "cell_type": "code",
   "execution_count": 12,
   "id": "279a66a3",
   "metadata": {},
   "outputs": [
    {
     "data": {
      "image/png": "[encoded data removed]",
      "text/plain": [
       "<Figure size 720x432 with 1 Axes>"
      ]
     },
     "metadata": {
      "needs_background": "light"
     },
     "output_type": "display_data"
    }
   ],
   "source": [
    "plt.figure(figsize=(10, 6))\n",
    "plt.title(\"Surface tension of water\")\n",
    "sns.lineplot(data=literature, x=\"Temperature (K)\", y=\"Surf. Tension (l, N/m)\", label=\"NIST\")\n",
    "sns.lineplot(data=dft_data, x=\"Temperature (K)\", y=\"Surf. Tension (l, N/m)\", label=\"PC-SAFT (2B)\")\n",
    "sns.scatterplot(x=[cp.temperature / si.KELVIN], y=[0.0], clip_on=False, color=colors[1], label=\"PC-SAFT (2B), critical point\")\n",
    "plt.ylabel(r\"$\\gamma$ / Nm$^{-1}$\")\n",
    "plt.xlabel(r\"$T$ / K\")\n",
    "\n",
    "plt.xlim(250, 700)\n",
    "plt.ylim(0.0, 0.08)\n",
    "sns.despine(offset=10)\n",
    "plt.legend(frameon=False);"
   ]
  },
  {
   "cell_type": "markdown",
   "id": "35af1b14",
   "metadata": {},
   "source": [
    "## Concluding remkars\n",
    "\n",
    "Hopefully you found this example helpful. If you have comments, critique or feedback, please let us know and consider [opening an issue on github](https://github.com/feos-org/feos/issues)."
   ]
  }
 ],
 "metadata": {
  "kernelspec": {
   "display_name": "feos",
   "language": "python",
   "name": "python3"
  },
  "language_info": {
   "codemirror_mode": {
    "name": "ipython",
    "version": 3
   },
   "file_extension": ".py",
   "mimetype": "text/x-python",
   "name": "python",
   "nbconvert_exporter": "python",
   "pygments_lexer": "ipython3",
   "version": "3.9.10"
  }
 },
 "nbformat": 4,
 "nbformat_minor": 5
}
